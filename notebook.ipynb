{
 "cells": [
  {
   "cell_type": "code",
   "execution_count": null,
   "metadata": {},
   "outputs": [],
   "source": []
  },
  {
   "cell_type": "code",
   "execution_count": 1,
   "metadata": {},
   "outputs": [],
   "source": [
    "import pandas as pd \n",
    "import seaborn as sns\n",
    "from matplotlib import pyplot as plt\n",
    "import statsmodels.api as sm\n",
    "import numpy as np\n",
    "from sklearn.metrics import mean_absolute_error\n",
    "from sklearn.model_selection import train_test_split\n",
    "from sklearn.linear_model import LinearRegression \n",
    "from sklearn.feature_selection import RFE\n",
    "from sklearn.preprocessing import PolynomialFeatures, StandardScaler"
   ]
  },
  {
   "cell_type": "code",
   "execution_count": null,
   "metadata": {},
   "outputs": [],
   "source": [
    "\n",
    "\"\"\"\n",
    "\n",
    "watch: 🎬 Lecture: Feature Selection and Engineering (Flex)\n",
    "\n",
    "\n",
    "recom and concl are consistent with business problem. You can decide business problem at the \n",
    "end\n",
    "\n",
    "baseline model with strongest correlated with salesprice(single lin regression)\n",
    "-pearson correlation(heatmap), pairplots, \n",
    "\n",
    "2nd feature that correlation with price but not correlated with highest correlated\n",
    "\n",
    "3rd feature with all values(use categorical values)\n",
    "\n",
    "conclusion and final model and results(may be very redundant)\n",
    "\n",
    "recommendations\n",
    "\n",
    "limitations \n",
    "\n",
    "next steps\n",
    "\"\"\""
   ]
  },
  {
   "cell_type": "markdown",
   "metadata": {},
   "source": [
    "We begin by loading and then previewing our data"
   ]
  },
  {
   "cell_type": "code",
   "execution_count": 2,
   "metadata": {
    "scrolled": false
   },
   "outputs": [
    {
     "data": {
      "text/html": [
       "<div>\n",
       "<style scoped>\n",
       "    .dataframe tbody tr th:only-of-type {\n",
       "        vertical-align: middle;\n",
       "    }\n",
       "\n",
       "    .dataframe tbody tr th {\n",
       "        vertical-align: top;\n",
       "    }\n",
       "\n",
       "    .dataframe thead th {\n",
       "        text-align: right;\n",
       "    }\n",
       "</style>\n",
       "<table border=\"1\" class=\"dataframe\">\n",
       "  <thead>\n",
       "    <tr style=\"text-align: right;\">\n",
       "      <th></th>\n",
       "      <th>id</th>\n",
       "      <th>date</th>\n",
       "      <th>price</th>\n",
       "      <th>bedrooms</th>\n",
       "      <th>bathrooms</th>\n",
       "      <th>sqft_living</th>\n",
       "      <th>sqft_lot</th>\n",
       "      <th>floors</th>\n",
       "      <th>waterfront</th>\n",
       "      <th>greenbelt</th>\n",
       "      <th>...</th>\n",
       "      <th>sewer_system</th>\n",
       "      <th>sqft_above</th>\n",
       "      <th>sqft_basement</th>\n",
       "      <th>sqft_garage</th>\n",
       "      <th>sqft_patio</th>\n",
       "      <th>yr_built</th>\n",
       "      <th>yr_renovated</th>\n",
       "      <th>address</th>\n",
       "      <th>lat</th>\n",
       "      <th>long</th>\n",
       "    </tr>\n",
       "  </thead>\n",
       "  <tbody>\n",
       "    <tr>\n",
       "      <th>0</th>\n",
       "      <td>7399300360</td>\n",
       "      <td>5/24/2022</td>\n",
       "      <td>675000.0</td>\n",
       "      <td>4</td>\n",
       "      <td>1.0</td>\n",
       "      <td>1180</td>\n",
       "      <td>7140</td>\n",
       "      <td>1.0</td>\n",
       "      <td>NO</td>\n",
       "      <td>NO</td>\n",
       "      <td>...</td>\n",
       "      <td>PUBLIC</td>\n",
       "      <td>1180</td>\n",
       "      <td>0</td>\n",
       "      <td>0</td>\n",
       "      <td>40</td>\n",
       "      <td>1969</td>\n",
       "      <td>0</td>\n",
       "      <td>2102 Southeast 21st Court, Renton, Washington ...</td>\n",
       "      <td>47.461975</td>\n",
       "      <td>-122.19052</td>\n",
       "    </tr>\n",
       "    <tr>\n",
       "      <th>1</th>\n",
       "      <td>8910500230</td>\n",
       "      <td>12/13/2021</td>\n",
       "      <td>920000.0</td>\n",
       "      <td>5</td>\n",
       "      <td>2.5</td>\n",
       "      <td>2770</td>\n",
       "      <td>6703</td>\n",
       "      <td>1.0</td>\n",
       "      <td>NO</td>\n",
       "      <td>NO</td>\n",
       "      <td>...</td>\n",
       "      <td>PUBLIC</td>\n",
       "      <td>1570</td>\n",
       "      <td>1570</td>\n",
       "      <td>0</td>\n",
       "      <td>240</td>\n",
       "      <td>1950</td>\n",
       "      <td>0</td>\n",
       "      <td>11231 Greenwood Avenue North, Seattle, Washing...</td>\n",
       "      <td>47.711525</td>\n",
       "      <td>-122.35591</td>\n",
       "    </tr>\n",
       "    <tr>\n",
       "      <th>2</th>\n",
       "      <td>1180000275</td>\n",
       "      <td>9/29/2021</td>\n",
       "      <td>311000.0</td>\n",
       "      <td>6</td>\n",
       "      <td>2.0</td>\n",
       "      <td>2880</td>\n",
       "      <td>6156</td>\n",
       "      <td>1.0</td>\n",
       "      <td>NO</td>\n",
       "      <td>NO</td>\n",
       "      <td>...</td>\n",
       "      <td>PUBLIC</td>\n",
       "      <td>1580</td>\n",
       "      <td>1580</td>\n",
       "      <td>0</td>\n",
       "      <td>0</td>\n",
       "      <td>1956</td>\n",
       "      <td>0</td>\n",
       "      <td>8504 South 113th Street, Seattle, Washington 9...</td>\n",
       "      <td>47.502045</td>\n",
       "      <td>-122.22520</td>\n",
       "    </tr>\n",
       "    <tr>\n",
       "      <th>3</th>\n",
       "      <td>1604601802</td>\n",
       "      <td>12/14/2021</td>\n",
       "      <td>775000.0</td>\n",
       "      <td>3</td>\n",
       "      <td>3.0</td>\n",
       "      <td>2160</td>\n",
       "      <td>1400</td>\n",
       "      <td>2.0</td>\n",
       "      <td>NO</td>\n",
       "      <td>NO</td>\n",
       "      <td>...</td>\n",
       "      <td>PUBLIC</td>\n",
       "      <td>1090</td>\n",
       "      <td>1070</td>\n",
       "      <td>200</td>\n",
       "      <td>270</td>\n",
       "      <td>2010</td>\n",
       "      <td>0</td>\n",
       "      <td>4079 Letitia Avenue South, Seattle, Washington...</td>\n",
       "      <td>47.566110</td>\n",
       "      <td>-122.29020</td>\n",
       "    </tr>\n",
       "    <tr>\n",
       "      <th>4</th>\n",
       "      <td>8562780790</td>\n",
       "      <td>8/24/2021</td>\n",
       "      <td>592500.0</td>\n",
       "      <td>2</td>\n",
       "      <td>2.0</td>\n",
       "      <td>1120</td>\n",
       "      <td>758</td>\n",
       "      <td>2.0</td>\n",
       "      <td>NO</td>\n",
       "      <td>NO</td>\n",
       "      <td>...</td>\n",
       "      <td>PUBLIC</td>\n",
       "      <td>1120</td>\n",
       "      <td>550</td>\n",
       "      <td>550</td>\n",
       "      <td>30</td>\n",
       "      <td>2012</td>\n",
       "      <td>0</td>\n",
       "      <td>2193 Northwest Talus Drive, Issaquah, Washingt...</td>\n",
       "      <td>47.532470</td>\n",
       "      <td>-122.07188</td>\n",
       "    </tr>\n",
       "  </tbody>\n",
       "</table>\n",
       "<p>5 rows × 25 columns</p>\n",
       "</div>"
      ],
      "text/plain": [
       "           id        date     price  bedrooms  bathrooms  sqft_living  \\\n",
       "0  7399300360   5/24/2022  675000.0         4        1.0         1180   \n",
       "1  8910500230  12/13/2021  920000.0         5        2.5         2770   \n",
       "2  1180000275   9/29/2021  311000.0         6        2.0         2880   \n",
       "3  1604601802  12/14/2021  775000.0         3        3.0         2160   \n",
       "4  8562780790   8/24/2021  592500.0         2        2.0         1120   \n",
       "\n",
       "   sqft_lot  floors waterfront greenbelt  ... sewer_system sqft_above  \\\n",
       "0      7140     1.0         NO        NO  ...       PUBLIC       1180   \n",
       "1      6703     1.0         NO        NO  ...       PUBLIC       1570   \n",
       "2      6156     1.0         NO        NO  ...       PUBLIC       1580   \n",
       "3      1400     2.0         NO        NO  ...       PUBLIC       1090   \n",
       "4       758     2.0         NO        NO  ...       PUBLIC       1120   \n",
       "\n",
       "  sqft_basement sqft_garage sqft_patio yr_built  yr_renovated  \\\n",
       "0             0           0         40     1969             0   \n",
       "1          1570           0        240     1950             0   \n",
       "2          1580           0          0     1956             0   \n",
       "3          1070         200        270     2010             0   \n",
       "4           550         550         30     2012             0   \n",
       "\n",
       "                                             address        lat       long  \n",
       "0  2102 Southeast 21st Court, Renton, Washington ...  47.461975 -122.19052  \n",
       "1  11231 Greenwood Avenue North, Seattle, Washing...  47.711525 -122.35591  \n",
       "2  8504 South 113th Street, Seattle, Washington 9...  47.502045 -122.22520  \n",
       "3  4079 Letitia Avenue South, Seattle, Washington...  47.566110 -122.29020  \n",
       "4  2193 Northwest Talus Drive, Issaquah, Washingt...  47.532470 -122.07188  \n",
       "\n",
       "[5 rows x 25 columns]"
      ]
     },
     "execution_count": 2,
     "metadata": {},
     "output_type": "execute_result"
    }
   ],
   "source": [
    "url = 'https://raw.githubusercontent.com/learn-co-curriculum/dsc-phase-2-project-v2-5/main/data/kc_house_data.csv'\n",
    "df = pd.read_csv(url)\n",
    "re = df.copy()\n",
    "re.head()"
   ]
  },
  {
   "cell_type": "markdown",
   "metadata": {},
   "source": [
    "Let's take a look at the data type of each row, and to see if there are any missing values"
   ]
  },
  {
   "cell_type": "code",
   "execution_count": 3,
   "metadata": {},
   "outputs": [
    {
     "name": "stdout",
     "output_type": "stream",
     "text": [
      "<class 'pandas.core.frame.DataFrame'>\n",
      "RangeIndex: 30155 entries, 0 to 30154\n",
      "Data columns (total 25 columns):\n",
      " #   Column         Non-Null Count  Dtype  \n",
      "---  ------         --------------  -----  \n",
      " 0   id             30155 non-null  int64  \n",
      " 1   date           30155 non-null  object \n",
      " 2   price          30155 non-null  float64\n",
      " 3   bedrooms       30155 non-null  int64  \n",
      " 4   bathrooms      30155 non-null  float64\n",
      " 5   sqft_living    30155 non-null  int64  \n",
      " 6   sqft_lot       30155 non-null  int64  \n",
      " 7   floors         30155 non-null  float64\n",
      " 8   waterfront     30155 non-null  object \n",
      " 9   greenbelt      30155 non-null  object \n",
      " 10  nuisance       30155 non-null  object \n",
      " 11  view           30155 non-null  object \n",
      " 12  condition      30155 non-null  object \n",
      " 13  grade          30155 non-null  object \n",
      " 14  heat_source    30123 non-null  object \n",
      " 15  sewer_system   30141 non-null  object \n",
      " 16  sqft_above     30155 non-null  int64  \n",
      " 17  sqft_basement  30155 non-null  int64  \n",
      " 18  sqft_garage    30155 non-null  int64  \n",
      " 19  sqft_patio     30155 non-null  int64  \n",
      " 20  yr_built       30155 non-null  int64  \n",
      " 21  yr_renovated   30155 non-null  int64  \n",
      " 22  address        30155 non-null  object \n",
      " 23  lat            30155 non-null  float64\n",
      " 24  long           30155 non-null  float64\n",
      "dtypes: float64(5), int64(10), object(10)\n",
      "memory usage: 5.8+ MB\n"
     ]
    }
   ],
   "source": [
    "re.info()"
   ]
  },
  {
   "cell_type": "markdown",
   "metadata": {},
   "source": [
    "We see that there are 2 columns with missing values let's just drop the rows with missing values. "
   ]
  },
  {
   "cell_type": "code",
   "execution_count": 4,
   "metadata": {},
   "outputs": [],
   "source": [
    "re = re.dropna()"
   ]
  },
  {
   "cell_type": "markdown",
   "metadata": {},
   "source": [
    "Now lets take a further look into the statistics within each numerical row"
   ]
  },
  {
   "cell_type": "code",
   "execution_count": 5,
   "metadata": {
    "scrolled": false
   },
   "outputs": [
    {
     "data": {
      "text/html": [
       "<div>\n",
       "<style scoped>\n",
       "    .dataframe tbody tr th:only-of-type {\n",
       "        vertical-align: middle;\n",
       "    }\n",
       "\n",
       "    .dataframe tbody tr th {\n",
       "        vertical-align: top;\n",
       "    }\n",
       "\n",
       "    .dataframe thead th {\n",
       "        text-align: right;\n",
       "    }\n",
       "</style>\n",
       "<table border=\"1\" class=\"dataframe\">\n",
       "  <thead>\n",
       "    <tr style=\"text-align: right;\">\n",
       "      <th></th>\n",
       "      <th>id</th>\n",
       "      <th>price</th>\n",
       "      <th>bedrooms</th>\n",
       "      <th>bathrooms</th>\n",
       "      <th>sqft_living</th>\n",
       "      <th>sqft_lot</th>\n",
       "      <th>floors</th>\n",
       "      <th>sqft_above</th>\n",
       "      <th>sqft_basement</th>\n",
       "      <th>sqft_garage</th>\n",
       "      <th>sqft_patio</th>\n",
       "      <th>yr_built</th>\n",
       "      <th>yr_renovated</th>\n",
       "      <th>lat</th>\n",
       "      <th>long</th>\n",
       "    </tr>\n",
       "  </thead>\n",
       "  <tbody>\n",
       "    <tr>\n",
       "      <th>count</th>\n",
       "      <td>3.011100e+04</td>\n",
       "      <td>3.011100e+04</td>\n",
       "      <td>30111.000000</td>\n",
       "      <td>30111.000000</td>\n",
       "      <td>30111.000000</td>\n",
       "      <td>3.011100e+04</td>\n",
       "      <td>30111.000000</td>\n",
       "      <td>30111.000000</td>\n",
       "      <td>30111.000000</td>\n",
       "      <td>30111.000000</td>\n",
       "      <td>30111.000000</td>\n",
       "      <td>30111.000000</td>\n",
       "      <td>30111.000000</td>\n",
       "      <td>30111.000000</td>\n",
       "      <td>30111.000000</td>\n",
       "    </tr>\n",
       "    <tr>\n",
       "      <th>mean</th>\n",
       "      <td>4.539171e+09</td>\n",
       "      <td>1.108971e+06</td>\n",
       "      <td>3.415197</td>\n",
       "      <td>2.335708</td>\n",
       "      <td>2113.342798</td>\n",
       "      <td>1.664880e+04</td>\n",
       "      <td>1.543506</td>\n",
       "      <td>1810.389658</td>\n",
       "      <td>476.617117</td>\n",
       "      <td>330.475308</td>\n",
       "      <td>217.451264</td>\n",
       "      <td>1975.162299</td>\n",
       "      <td>90.792767</td>\n",
       "      <td>47.328482</td>\n",
       "      <td>-121.318872</td>\n",
       "    </tr>\n",
       "    <tr>\n",
       "      <th>std</th>\n",
       "      <td>2.882236e+09</td>\n",
       "      <td>8.965158e+05</td>\n",
       "      <td>0.979755</td>\n",
       "      <td>0.888293</td>\n",
       "      <td>973.453260</td>\n",
       "      <td>5.993303e+04</td>\n",
       "      <td>0.567789</td>\n",
       "      <td>877.726339</td>\n",
       "      <td>579.805355</td>\n",
       "      <td>285.725020</td>\n",
       "      <td>245.301991</td>\n",
       "      <td>32.052930</td>\n",
       "      <td>416.197627</td>\n",
       "      <td>1.433309</td>\n",
       "      <td>5.724073</td>\n",
       "    </tr>\n",
       "    <tr>\n",
       "      <th>min</th>\n",
       "      <td>1.000055e+06</td>\n",
       "      <td>2.736000e+04</td>\n",
       "      <td>0.000000</td>\n",
       "      <td>0.000000</td>\n",
       "      <td>3.000000</td>\n",
       "      <td>4.020000e+02</td>\n",
       "      <td>1.000000</td>\n",
       "      <td>2.000000</td>\n",
       "      <td>0.000000</td>\n",
       "      <td>0.000000</td>\n",
       "      <td>0.000000</td>\n",
       "      <td>1900.000000</td>\n",
       "      <td>0.000000</td>\n",
       "      <td>21.274240</td>\n",
       "      <td>-157.791480</td>\n",
       "    </tr>\n",
       "    <tr>\n",
       "      <th>25%</th>\n",
       "      <td>2.070850e+09</td>\n",
       "      <td>6.492360e+05</td>\n",
       "      <td>3.000000</td>\n",
       "      <td>2.000000</td>\n",
       "      <td>1420.000000</td>\n",
       "      <td>4.850000e+03</td>\n",
       "      <td>1.000000</td>\n",
       "      <td>1180.000000</td>\n",
       "      <td>0.000000</td>\n",
       "      <td>0.000000</td>\n",
       "      <td>40.000000</td>\n",
       "      <td>1953.000000</td>\n",
       "      <td>0.000000</td>\n",
       "      <td>47.405348</td>\n",
       "      <td>-122.326075</td>\n",
       "    </tr>\n",
       "    <tr>\n",
       "      <th>50%</th>\n",
       "      <td>3.876000e+09</td>\n",
       "      <td>8.600000e+05</td>\n",
       "      <td>3.000000</td>\n",
       "      <td>2.500000</td>\n",
       "      <td>1920.000000</td>\n",
       "      <td>7.477000e+03</td>\n",
       "      <td>1.500000</td>\n",
       "      <td>1560.000000</td>\n",
       "      <td>0.000000</td>\n",
       "      <td>400.000000</td>\n",
       "      <td>150.000000</td>\n",
       "      <td>1977.000000</td>\n",
       "      <td>0.000000</td>\n",
       "      <td>47.551440</td>\n",
       "      <td>-122.225790</td>\n",
       "    </tr>\n",
       "    <tr>\n",
       "      <th>75%</th>\n",
       "      <td>7.287100e+09</td>\n",
       "      <td>1.300000e+06</td>\n",
       "      <td>4.000000</td>\n",
       "      <td>3.000000</td>\n",
       "      <td>2620.000000</td>\n",
       "      <td>1.056800e+04</td>\n",
       "      <td>2.000000</td>\n",
       "      <td>2270.000000</td>\n",
       "      <td>940.000000</td>\n",
       "      <td>510.000000</td>\n",
       "      <td>320.000000</td>\n",
       "      <td>2003.000000</td>\n",
       "      <td>0.000000</td>\n",
       "      <td>47.669917</td>\n",
       "      <td>-122.116394</td>\n",
       "    </tr>\n",
       "    <tr>\n",
       "      <th>max</th>\n",
       "      <td>9.904000e+09</td>\n",
       "      <td>3.075000e+07</td>\n",
       "      <td>13.000000</td>\n",
       "      <td>10.500000</td>\n",
       "      <td>15360.000000</td>\n",
       "      <td>3.253932e+06</td>\n",
       "      <td>4.000000</td>\n",
       "      <td>12660.000000</td>\n",
       "      <td>8020.000000</td>\n",
       "      <td>3580.000000</td>\n",
       "      <td>4370.000000</td>\n",
       "      <td>2022.000000</td>\n",
       "      <td>2022.000000</td>\n",
       "      <td>64.824070</td>\n",
       "      <td>-70.074340</td>\n",
       "    </tr>\n",
       "  </tbody>\n",
       "</table>\n",
       "</div>"
      ],
      "text/plain": [
       "                 id         price      bedrooms     bathrooms   sqft_living  \\\n",
       "count  3.011100e+04  3.011100e+04  30111.000000  30111.000000  30111.000000   \n",
       "mean   4.539171e+09  1.108971e+06      3.415197      2.335708   2113.342798   \n",
       "std    2.882236e+09  8.965158e+05      0.979755      0.888293    973.453260   \n",
       "min    1.000055e+06  2.736000e+04      0.000000      0.000000      3.000000   \n",
       "25%    2.070850e+09  6.492360e+05      3.000000      2.000000   1420.000000   \n",
       "50%    3.876000e+09  8.600000e+05      3.000000      2.500000   1920.000000   \n",
       "75%    7.287100e+09  1.300000e+06      4.000000      3.000000   2620.000000   \n",
       "max    9.904000e+09  3.075000e+07     13.000000     10.500000  15360.000000   \n",
       "\n",
       "           sqft_lot        floors    sqft_above  sqft_basement   sqft_garage  \\\n",
       "count  3.011100e+04  30111.000000  30111.000000   30111.000000  30111.000000   \n",
       "mean   1.664880e+04      1.543506   1810.389658     476.617117    330.475308   \n",
       "std    5.993303e+04      0.567789    877.726339     579.805355    285.725020   \n",
       "min    4.020000e+02      1.000000      2.000000       0.000000      0.000000   \n",
       "25%    4.850000e+03      1.000000   1180.000000       0.000000      0.000000   \n",
       "50%    7.477000e+03      1.500000   1560.000000       0.000000    400.000000   \n",
       "75%    1.056800e+04      2.000000   2270.000000     940.000000    510.000000   \n",
       "max    3.253932e+06      4.000000  12660.000000    8020.000000   3580.000000   \n",
       "\n",
       "         sqft_patio      yr_built  yr_renovated           lat          long  \n",
       "count  30111.000000  30111.000000  30111.000000  30111.000000  30111.000000  \n",
       "mean     217.451264   1975.162299     90.792767     47.328482   -121.318872  \n",
       "std      245.301991     32.052930    416.197627      1.433309      5.724073  \n",
       "min        0.000000   1900.000000      0.000000     21.274240   -157.791480  \n",
       "25%       40.000000   1953.000000      0.000000     47.405348   -122.326075  \n",
       "50%      150.000000   1977.000000      0.000000     47.551440   -122.225790  \n",
       "75%      320.000000   2003.000000      0.000000     47.669917   -122.116394  \n",
       "max     4370.000000   2022.000000   2022.000000     64.824070    -70.074340  "
      ]
     },
     "execution_count": 5,
     "metadata": {},
     "output_type": "execute_result"
    }
   ],
   "source": [
    "re.describe()"
   ]
  },
  {
   "cell_type": "markdown",
   "metadata": {},
   "source": [
    "We see the df is houses built between 1900-2022, that were sold in 2021 or 2022.\n",
    "\n",
    "It look's like all the houses are in the USA but let's just create a new column with the last 14 digits in the `address` column to confirm"
   ]
  },
  {
   "cell_type": "code",
   "execution_count": 6,
   "metadata": {},
   "outputs": [
    {
     "data": {
      "text/plain": [
       " United States    30111\n",
       "Name: address, dtype: int64"
      ]
     },
     "execution_count": 6,
     "metadata": {},
     "output_type": "execute_result"
    }
   ],
   "source": [
    "re['address'].str[-14:].value_counts()"
   ]
  },
  {
   "cell_type": "markdown",
   "metadata": {},
   "source": [
    "As we assumed, all the data is from the USA."
   ]
  },
  {
   "cell_type": "markdown",
   "metadata": {},
   "source": [
    "## Data Analysis\n",
    "\n",
    "We will begin our data analysis by finding the variable that correlate the highest with out target variable, `price`.\n",
    "\n",
    "First, let's pull up a correlation matrix of all the data."
   ]
  },
  {
   "cell_type": "code",
   "execution_count": 7,
   "metadata": {
    "scrolled": false
   },
   "outputs": [
    {
     "data": {
      "text/html": [
       "<div>\n",
       "<style scoped>\n",
       "    .dataframe tbody tr th:only-of-type {\n",
       "        vertical-align: middle;\n",
       "    }\n",
       "\n",
       "    .dataframe tbody tr th {\n",
       "        vertical-align: top;\n",
       "    }\n",
       "\n",
       "    .dataframe thead th {\n",
       "        text-align: right;\n",
       "    }\n",
       "</style>\n",
       "<table border=\"1\" class=\"dataframe\">\n",
       "  <thead>\n",
       "    <tr style=\"text-align: right;\">\n",
       "      <th></th>\n",
       "      <th>id</th>\n",
       "      <th>price</th>\n",
       "      <th>bedrooms</th>\n",
       "      <th>bathrooms</th>\n",
       "      <th>sqft_living</th>\n",
       "      <th>sqft_lot</th>\n",
       "      <th>floors</th>\n",
       "      <th>sqft_above</th>\n",
       "      <th>sqft_basement</th>\n",
       "      <th>sqft_garage</th>\n",
       "      <th>sqft_patio</th>\n",
       "      <th>yr_built</th>\n",
       "      <th>yr_renovated</th>\n",
       "      <th>lat</th>\n",
       "      <th>long</th>\n",
       "    </tr>\n",
       "  </thead>\n",
       "  <tbody>\n",
       "    <tr>\n",
       "      <th>id</th>\n",
       "      <td>1.000000</td>\n",
       "      <td>-0.034096</td>\n",
       "      <td>-0.007065</td>\n",
       "      <td>-0.012382</td>\n",
       "      <td>-0.028234</td>\n",
       "      <td>-0.119276</td>\n",
       "      <td>0.031941</td>\n",
       "      <td>-0.023340</td>\n",
       "      <td>-0.015077</td>\n",
       "      <td>-0.008044</td>\n",
       "      <td>-0.041644</td>\n",
       "      <td>0.023076</td>\n",
       "      <td>-0.028858</td>\n",
       "      <td>-0.000764</td>\n",
       "      <td>0.000638</td>\n",
       "    </tr>\n",
       "    <tr>\n",
       "      <th>price</th>\n",
       "      <td>-0.034096</td>\n",
       "      <td>1.000000</td>\n",
       "      <td>0.288954</td>\n",
       "      <td>0.480337</td>\n",
       "      <td>0.608616</td>\n",
       "      <td>0.086550</td>\n",
       "      <td>0.180589</td>\n",
       "      <td>0.538631</td>\n",
       "      <td>0.245005</td>\n",
       "      <td>0.263674</td>\n",
       "      <td>0.313789</td>\n",
       "      <td>0.095796</td>\n",
       "      <td>0.085023</td>\n",
       "      <td>0.063430</td>\n",
       "      <td>-0.022278</td>\n",
       "    </tr>\n",
       "    <tr>\n",
       "      <th>bedrooms</th>\n",
       "      <td>-0.007065</td>\n",
       "      <td>0.288954</td>\n",
       "      <td>1.000000</td>\n",
       "      <td>0.588035</td>\n",
       "      <td>0.637048</td>\n",
       "      <td>0.006215</td>\n",
       "      <td>0.146871</td>\n",
       "      <td>0.546221</td>\n",
       "      <td>0.237957</td>\n",
       "      <td>0.318110</td>\n",
       "      <td>0.183660</td>\n",
       "      <td>0.145497</td>\n",
       "      <td>0.015369</td>\n",
       "      <td>0.108883</td>\n",
       "      <td>-0.106791</td>\n",
       "    </tr>\n",
       "    <tr>\n",
       "      <th>bathrooms</th>\n",
       "      <td>-0.012382</td>\n",
       "      <td>0.480337</td>\n",
       "      <td>0.588035</td>\n",
       "      <td>1.000000</td>\n",
       "      <td>0.772226</td>\n",
       "      <td>0.038028</td>\n",
       "      <td>0.404291</td>\n",
       "      <td>0.674239</td>\n",
       "      <td>0.260684</td>\n",
       "      <td>0.456264</td>\n",
       "      <td>0.327982</td>\n",
       "      <td>0.443379</td>\n",
       "      <td>0.041574</td>\n",
       "      <td>-0.005481</td>\n",
       "      <td>0.017684</td>\n",
       "    </tr>\n",
       "    <tr>\n",
       "      <th>sqft_living</th>\n",
       "      <td>-0.028234</td>\n",
       "      <td>0.608616</td>\n",
       "      <td>0.637048</td>\n",
       "      <td>0.772226</td>\n",
       "      <td>1.000000</td>\n",
       "      <td>0.122271</td>\n",
       "      <td>0.303911</td>\n",
       "      <td>0.883733</td>\n",
       "      <td>0.338387</td>\n",
       "      <td>0.510967</td>\n",
       "      <td>0.396530</td>\n",
       "      <td>0.291242</td>\n",
       "      <td>0.039089</td>\n",
       "      <td>0.102205</td>\n",
       "      <td>-0.087625</td>\n",
       "    </tr>\n",
       "    <tr>\n",
       "      <th>sqft_lot</th>\n",
       "      <td>-0.119276</td>\n",
       "      <td>0.086550</td>\n",
       "      <td>0.006215</td>\n",
       "      <td>0.038028</td>\n",
       "      <td>0.122271</td>\n",
       "      <td>1.000000</td>\n",
       "      <td>-0.031555</td>\n",
       "      <td>0.131756</td>\n",
       "      <td>0.004457</td>\n",
       "      <td>0.089318</td>\n",
       "      <td>0.154575</td>\n",
       "      <td>0.001897</td>\n",
       "      <td>0.009390</td>\n",
       "      <td>0.030041</td>\n",
       "      <td>-0.034408</td>\n",
       "    </tr>\n",
       "    <tr>\n",
       "      <th>floors</th>\n",
       "      <td>0.031941</td>\n",
       "      <td>0.180589</td>\n",
       "      <td>0.146871</td>\n",
       "      <td>0.404291</td>\n",
       "      <td>0.303911</td>\n",
       "      <td>-0.031555</td>\n",
       "      <td>1.000000</td>\n",
       "      <td>0.448245</td>\n",
       "      <td>-0.248466</td>\n",
       "      <td>0.132363</td>\n",
       "      <td>0.125016</td>\n",
       "      <td>0.544314</td>\n",
       "      <td>-0.025041</td>\n",
       "      <td>-0.218174</td>\n",
       "      <td>0.233589</td>\n",
       "    </tr>\n",
       "    <tr>\n",
       "      <th>sqft_above</th>\n",
       "      <td>-0.023340</td>\n",
       "      <td>0.538631</td>\n",
       "      <td>0.546221</td>\n",
       "      <td>0.674239</td>\n",
       "      <td>0.883733</td>\n",
       "      <td>0.131756</td>\n",
       "      <td>0.448245</td>\n",
       "      <td>1.000000</td>\n",
       "      <td>-0.067306</td>\n",
       "      <td>0.559972</td>\n",
       "      <td>0.312593</td>\n",
       "      <td>0.387253</td>\n",
       "      <td>0.011036</td>\n",
       "      <td>0.092317</td>\n",
       "      <td>-0.082722</td>\n",
       "    </tr>\n",
       "    <tr>\n",
       "      <th>sqft_basement</th>\n",
       "      <td>-0.015077</td>\n",
       "      <td>0.245005</td>\n",
       "      <td>0.237957</td>\n",
       "      <td>0.260684</td>\n",
       "      <td>0.338387</td>\n",
       "      <td>0.004457</td>\n",
       "      <td>-0.248466</td>\n",
       "      <td>-0.067306</td>\n",
       "      <td>1.000000</td>\n",
       "      <td>0.025766</td>\n",
       "      <td>0.210305</td>\n",
       "      <td>-0.230783</td>\n",
       "      <td>0.054032</td>\n",
       "      <td>0.059664</td>\n",
       "      <td>-0.045104</td>\n",
       "    </tr>\n",
       "    <tr>\n",
       "      <th>sqft_garage</th>\n",
       "      <td>-0.008044</td>\n",
       "      <td>0.263674</td>\n",
       "      <td>0.318110</td>\n",
       "      <td>0.456264</td>\n",
       "      <td>0.510967</td>\n",
       "      <td>0.089318</td>\n",
       "      <td>0.132363</td>\n",
       "      <td>0.559972</td>\n",
       "      <td>0.025766</td>\n",
       "      <td>1.000000</td>\n",
       "      <td>0.216512</td>\n",
       "      <td>0.447720</td>\n",
       "      <td>-0.098301</td>\n",
       "      <td>0.092092</td>\n",
       "      <td>-0.096639</td>\n",
       "    </tr>\n",
       "    <tr>\n",
       "      <th>sqft_patio</th>\n",
       "      <td>-0.041644</td>\n",
       "      <td>0.313789</td>\n",
       "      <td>0.183660</td>\n",
       "      <td>0.327982</td>\n",
       "      <td>0.396530</td>\n",
       "      <td>0.154575</td>\n",
       "      <td>0.125016</td>\n",
       "      <td>0.312593</td>\n",
       "      <td>0.210305</td>\n",
       "      <td>0.216512</td>\n",
       "      <td>1.000000</td>\n",
       "      <td>0.138112</td>\n",
       "      <td>0.056183</td>\n",
       "      <td>-0.019666</td>\n",
       "      <td>0.025675</td>\n",
       "    </tr>\n",
       "    <tr>\n",
       "      <th>yr_built</th>\n",
       "      <td>0.023076</td>\n",
       "      <td>0.095796</td>\n",
       "      <td>0.145497</td>\n",
       "      <td>0.443379</td>\n",
       "      <td>0.291242</td>\n",
       "      <td>0.001897</td>\n",
       "      <td>0.544314</td>\n",
       "      <td>0.387253</td>\n",
       "      <td>-0.230783</td>\n",
       "      <td>0.447720</td>\n",
       "      <td>0.138112</td>\n",
       "      <td>1.000000</td>\n",
       "      <td>-0.239466</td>\n",
       "      <td>-0.207133</td>\n",
       "      <td>0.209842</td>\n",
       "    </tr>\n",
       "    <tr>\n",
       "      <th>yr_renovated</th>\n",
       "      <td>-0.028858</td>\n",
       "      <td>0.085023</td>\n",
       "      <td>0.015369</td>\n",
       "      <td>0.041574</td>\n",
       "      <td>0.039089</td>\n",
       "      <td>0.009390</td>\n",
       "      <td>-0.025041</td>\n",
       "      <td>0.011036</td>\n",
       "      <td>0.054032</td>\n",
       "      <td>-0.098301</td>\n",
       "      <td>0.056183</td>\n",
       "      <td>-0.239466</td>\n",
       "      <td>1.000000</td>\n",
       "      <td>0.036880</td>\n",
       "      <td>-0.035598</td>\n",
       "    </tr>\n",
       "    <tr>\n",
       "      <th>lat</th>\n",
       "      <td>-0.000764</td>\n",
       "      <td>0.063430</td>\n",
       "      <td>0.108883</td>\n",
       "      <td>-0.005481</td>\n",
       "      <td>0.102205</td>\n",
       "      <td>0.030041</td>\n",
       "      <td>-0.218174</td>\n",
       "      <td>0.092317</td>\n",
       "      <td>0.059664</td>\n",
       "      <td>0.092092</td>\n",
       "      <td>-0.019666</td>\n",
       "      <td>-0.207133</td>\n",
       "      <td>0.036880</td>\n",
       "      <td>1.000000</td>\n",
       "      <td>-0.760532</td>\n",
       "    </tr>\n",
       "    <tr>\n",
       "      <th>long</th>\n",
       "      <td>0.000638</td>\n",
       "      <td>-0.022278</td>\n",
       "      <td>-0.106791</td>\n",
       "      <td>0.017684</td>\n",
       "      <td>-0.087625</td>\n",
       "      <td>-0.034408</td>\n",
       "      <td>0.233589</td>\n",
       "      <td>-0.082722</td>\n",
       "      <td>-0.045104</td>\n",
       "      <td>-0.096639</td>\n",
       "      <td>0.025675</td>\n",
       "      <td>0.209842</td>\n",
       "      <td>-0.035598</td>\n",
       "      <td>-0.760532</td>\n",
       "      <td>1.000000</td>\n",
       "    </tr>\n",
       "  </tbody>\n",
       "</table>\n",
       "</div>"
      ],
      "text/plain": [
       "                     id     price  bedrooms  bathrooms  sqft_living  sqft_lot  \\\n",
       "id             1.000000 -0.034096 -0.007065  -0.012382    -0.028234 -0.119276   \n",
       "price         -0.034096  1.000000  0.288954   0.480337     0.608616  0.086550   \n",
       "bedrooms      -0.007065  0.288954  1.000000   0.588035     0.637048  0.006215   \n",
       "bathrooms     -0.012382  0.480337  0.588035   1.000000     0.772226  0.038028   \n",
       "sqft_living   -0.028234  0.608616  0.637048   0.772226     1.000000  0.122271   \n",
       "sqft_lot      -0.119276  0.086550  0.006215   0.038028     0.122271  1.000000   \n",
       "floors         0.031941  0.180589  0.146871   0.404291     0.303911 -0.031555   \n",
       "sqft_above    -0.023340  0.538631  0.546221   0.674239     0.883733  0.131756   \n",
       "sqft_basement -0.015077  0.245005  0.237957   0.260684     0.338387  0.004457   \n",
       "sqft_garage   -0.008044  0.263674  0.318110   0.456264     0.510967  0.089318   \n",
       "sqft_patio    -0.041644  0.313789  0.183660   0.327982     0.396530  0.154575   \n",
       "yr_built       0.023076  0.095796  0.145497   0.443379     0.291242  0.001897   \n",
       "yr_renovated  -0.028858  0.085023  0.015369   0.041574     0.039089  0.009390   \n",
       "lat           -0.000764  0.063430  0.108883  -0.005481     0.102205  0.030041   \n",
       "long           0.000638 -0.022278 -0.106791   0.017684    -0.087625 -0.034408   \n",
       "\n",
       "                 floors  sqft_above  sqft_basement  sqft_garage  sqft_patio  \\\n",
       "id             0.031941   -0.023340      -0.015077    -0.008044   -0.041644   \n",
       "price          0.180589    0.538631       0.245005     0.263674    0.313789   \n",
       "bedrooms       0.146871    0.546221       0.237957     0.318110    0.183660   \n",
       "bathrooms      0.404291    0.674239       0.260684     0.456264    0.327982   \n",
       "sqft_living    0.303911    0.883733       0.338387     0.510967    0.396530   \n",
       "sqft_lot      -0.031555    0.131756       0.004457     0.089318    0.154575   \n",
       "floors         1.000000    0.448245      -0.248466     0.132363    0.125016   \n",
       "sqft_above     0.448245    1.000000      -0.067306     0.559972    0.312593   \n",
       "sqft_basement -0.248466   -0.067306       1.000000     0.025766    0.210305   \n",
       "sqft_garage    0.132363    0.559972       0.025766     1.000000    0.216512   \n",
       "sqft_patio     0.125016    0.312593       0.210305     0.216512    1.000000   \n",
       "yr_built       0.544314    0.387253      -0.230783     0.447720    0.138112   \n",
       "yr_renovated  -0.025041    0.011036       0.054032    -0.098301    0.056183   \n",
       "lat           -0.218174    0.092317       0.059664     0.092092   -0.019666   \n",
       "long           0.233589   -0.082722      -0.045104    -0.096639    0.025675   \n",
       "\n",
       "               yr_built  yr_renovated       lat      long  \n",
       "id             0.023076     -0.028858 -0.000764  0.000638  \n",
       "price          0.095796      0.085023  0.063430 -0.022278  \n",
       "bedrooms       0.145497      0.015369  0.108883 -0.106791  \n",
       "bathrooms      0.443379      0.041574 -0.005481  0.017684  \n",
       "sqft_living    0.291242      0.039089  0.102205 -0.087625  \n",
       "sqft_lot       0.001897      0.009390  0.030041 -0.034408  \n",
       "floors         0.544314     -0.025041 -0.218174  0.233589  \n",
       "sqft_above     0.387253      0.011036  0.092317 -0.082722  \n",
       "sqft_basement -0.230783      0.054032  0.059664 -0.045104  \n",
       "sqft_garage    0.447720     -0.098301  0.092092 -0.096639  \n",
       "sqft_patio     0.138112      0.056183 -0.019666  0.025675  \n",
       "yr_built       1.000000     -0.239466 -0.207133  0.209842  \n",
       "yr_renovated  -0.239466      1.000000  0.036880 -0.035598  \n",
       "lat           -0.207133      0.036880  1.000000 -0.760532  \n",
       "long           0.209842     -0.035598 -0.760532  1.000000  "
      ]
     },
     "execution_count": 7,
     "metadata": {},
     "output_type": "execute_result"
    }
   ],
   "source": [
    "re.corr()"
   ]
  },
  {
   "cell_type": "markdown",
   "metadata": {},
   "source": [
    "Now lets create a heatmap to see if we can get a better view"
   ]
  },
  {
   "cell_type": "code",
   "execution_count": 8,
   "metadata": {
    "scrolled": false
   },
   "outputs": [
    {
     "data": {
      "image/png": "[encoded data removed]",
      "text/plain": [
       "<Figure size 576x576 with 2 Axes>"
      ]
     },
     "metadata": {},
     "output_type": "display_data"
    }
   ],
   "source": [
    "sns.set(rc={'figure.figsize':(8,8)})\n",
    "\n",
    "sns.heatmap(re.corr());"
   ]
  },
  {
   "cell_type": "markdown",
   "metadata": {},
   "source": [
    "There is still too much going on in both of those, so let's pull up the correlations within the price column alone."
   ]
  },
  {
   "cell_type": "code",
   "execution_count": 9,
   "metadata": {
    "scrolled": true
   },
   "outputs": [
    {
     "data": {
      "text/plain": [
       "price            1.000000\n",
       "sqft_living      0.608616\n",
       "sqft_above       0.538631\n",
       "bathrooms        0.480337\n",
       "sqft_patio       0.313789\n",
       "bedrooms         0.288954\n",
       "sqft_garage      0.263674\n",
       "sqft_basement    0.245005\n",
       "floors           0.180589\n",
       "yr_built         0.095796\n",
       "sqft_lot         0.086550\n",
       "yr_renovated     0.085023\n",
       "lat              0.063430\n",
       "long            -0.022278\n",
       "id              -0.034096\n",
       "Name: price, dtype: float64"
      ]
     },
     "execution_count": 9,
     "metadata": {},
     "output_type": "execute_result"
    }
   ],
   "source": [
    "re_corrs = re.corr()['price'].sort_values(ascending=False)\n",
    "re_corrs"
   ]
  },
  {
   "cell_type": "markdown",
   "metadata": {},
   "source": [
    "Unsurprisingly price is 100% correlated with itself. The variable with the strongest correlation with price is `sqft_living` with a value of .61. This column describes the total square footage of living space in the home. It is quite logical that this is the highest correlated factor, as in general the bigger the house is, the more it will sell for. "
   ]
  },
  {
   "cell_type": "markdown",
   "metadata": {},
   "source": [
    "### Single Variable Regression Model\n",
    "\n",
    "Lets create a basic regression model with the highest correlated value. We should keep in mind that this could also be a negative number(although in this case it clearly isn't). With a correlation value of .61 we shouldn't expect such a great model, as although this doesn't illustrate some significance, it is nowhere near perfect\n",
    "\n",
    "First we will pull up a scatter plot showing the relationship between `sqft_living` and `price`. In plotting scatterplot, I encountered an error and with some interet research I found an import statement that can be used as a workaround. To see more about the issue <a href=\"https://stackoverflow.com/questions/55109716/c-argument-looks-like-a-single-numeric-rgb-or-rgba-sequence\">click here</a>\n",
    "\n",
    "\n"
   ]
  },
  {
   "cell_type": "code",
   "execution_count": 10,
   "metadata": {},
   "outputs": [],
   "source": [
    "from matplotlib.axes._axes import _log as matplotlib_axes_logger\n",
    "matplotlib_axes_logger.setLevel('ERROR')"
   ]
  },
  {
   "cell_type": "code",
   "execution_count": 11,
   "metadata": {
    "scrolled": false
   },
   "outputs": [
    {
     "data": {
      "image/png": "[encoded data removed]",
      "text/plain": [
       "<Figure size 432x288 with 1 Axes>"
      ]
     },
     "metadata": {},
     "output_type": "display_data"
    }
   ],
   "source": [
    "re.plot.scatter(x='sqft_living', y=\"price\", figsize=(6,4));"
   ]
  },
  {
   "cell_type": "markdown",
   "metadata": {},
   "source": [
    "There seems to be some sort of upward trend with a few outlier values, both on the x and y axes.\n",
    "\n",
    "Now, let's move on to plot the actual model. We will first set `price` as our target value, and then `sqft_living` as our X value for our first model. Then we will use methods from statsmodels to create the model. Finally we will pull up the summary stats."
   ]
  },
  {
   "cell_type": "code",
   "execution_count": 12,
   "metadata": {},
   "outputs": [],
   "source": [
    "y = re['price']\n",
    "X_baseline = re['sqft_living']"
   ]
  },
  {
   "cell_type": "code",
   "execution_count": 13,
   "metadata": {},
   "outputs": [
    {
     "name": "stdout",
     "output_type": "stream",
     "text": [
      "                            OLS Regression Results                            \n",
      "==============================================================================\n",
      "Dep. Variable:                  price   R-squared:                       0.370\n",
      "Model:                            OLS   Adj. R-squared:                  0.370\n",
      "Method:                 Least Squares   F-statistic:                 1.771e+04\n",
      "Date:                Mon, 20 Feb 2023   Prob (F-statistic):               0.00\n",
      "Time:                        17:01:13   Log-Likelihood:            -4.4847e+05\n",
      "No. Observations:               30111   AIC:                         8.969e+05\n",
      "Df Residuals:                   30109   BIC:                         8.970e+05\n",
      "Df Model:                           1                                         \n",
      "Covariance Type:            nonrobust                                         \n",
      "===============================================================================\n",
      "                  coef    std err          t      P>|t|      [0.025      0.975]\n",
      "-------------------------------------------------------------------------------\n",
      "const       -7.559e+04   9798.815     -7.714      0.000   -9.48e+04   -5.64e+04\n",
      "sqft_living   560.5134      4.211    133.096      0.000     552.259     568.768\n",
      "==============================================================================\n",
      "Omnibus:                    43384.874   Durbin-Watson:                   1.862\n",
      "Prob(Omnibus):                  0.000   Jarque-Bera (JB):         47187801.072\n",
      "Skew:                           8.195   Prob(JB):                         0.00\n",
      "Kurtosis:                     196.242   Cond. No.                     5.56e+03\n",
      "==============================================================================\n",
      "\n",
      "Notes:\n",
      "[1] Standard Errors assume that the covariance matrix of the errors is correctly specified.\n",
      "[2] The condition number is large, 5.56e+03. This might indicate that there are\n",
      "strong multicollinearity or other numerical problems.\n"
     ]
    }
   ],
   "source": [
    "baseline_model = sm.OLS(y, sm.add_constant(X_baseline))\n",
    "baseline_results = baseline_model.fit()\n",
    "print(baseline_results.summary())"
   ]
  },
  {
   "cell_type": "markdown",
   "metadata": {},
   "source": [
    "Now we will calculate the baseline mean absolute error, and then we will give an analysis of our model."
   ]
  },
  {
   "cell_type": "code",
   "execution_count": 14,
   "metadata": {},
   "outputs": [
    {
     "name": "stdout",
     "output_type": "stream",
     "text": [
      "Baseline Mae: 396271.45\n"
     ]
    }
   ],
   "source": [
    "baseline_mae = mean_absolute_error(y, baseline_results.predict(sm.add_constant(X_baseline)))\n",
    "print(f'Baseline Mae: {round(baseline_mae,2)}')"
   ]
  },
  {
   "cell_type": "markdown",
   "metadata": {},
   "source": [
    "`sqft_living` was the attribute most strongly correlated with price, therefore our model is describing this relationship.\n",
    "\n",
    "Overall this model is statistically significant and explains about 37% of the variance in price. Although there is some significance to this number, there definitely is room to improve.\n",
    "In a typical prediction, the model is off by around $396k. \n",
    "\n",
    "- The intercept is at about -\\\\$76k. This means that a house with 0 square feet of living area  would sell for -\\$76k. It is fine that this value doesn't make sense as there is no such thing as a house that is 0 square feet. \n",
    "- The coefficient for sqft_living is about \\\\$560. This means for each additional square foot of living area, the house price increase by $560."
   ]
  },
  {
   "cell_type": "markdown",
   "metadata": {},
   "source": [
    "### Adding Other Factors\n",
    "In hopes of creating a better model we will add in other numerical factors. However, we want to make to sure to avoid multicollinearity, meaning that one factor shouldn't be a good predictor of a different factor. To avoid this we will pull up the correlation between all numerical factors with eachother. The ones with correlation above .7 we won't use."
   ]
  },
  {
   "cell_type": "code",
   "execution_count": 15,
   "metadata": {
    "scrolled": false
   },
   "outputs": [
    {
     "data": {
      "text/html": [
       "<div>\n",
       "<style scoped>\n",
       "    .dataframe tbody tr th:only-of-type {\n",
       "        vertical-align: middle;\n",
       "    }\n",
       "\n",
       "    .dataframe tbody tr th {\n",
       "        vertical-align: top;\n",
       "    }\n",
       "\n",
       "    .dataframe thead th {\n",
       "        text-align: right;\n",
       "    }\n",
       "</style>\n",
       "<table border=\"1\" class=\"dataframe\">\n",
       "  <thead>\n",
       "    <tr style=\"text-align: right;\">\n",
       "      <th></th>\n",
       "      <th>cc</th>\n",
       "    </tr>\n",
       "    <tr>\n",
       "      <th>pairs</th>\n",
       "      <th></th>\n",
       "    </tr>\n",
       "  </thead>\n",
       "  <tbody>\n",
       "    <tr>\n",
       "      <th>(sqft_above, sqft_living)</th>\n",
       "      <td>0.883733</td>\n",
       "    </tr>\n",
       "    <tr>\n",
       "      <th>(bathrooms, sqft_living)</th>\n",
       "      <td>0.772226</td>\n",
       "    </tr>\n",
       "    <tr>\n",
       "      <th>(lat, long)</th>\n",
       "      <td>0.760532</td>\n",
       "    </tr>\n",
       "  </tbody>\n",
       "</table>\n",
       "</div>"
      ],
      "text/plain": [
       "                                 cc\n",
       "pairs                              \n",
       "(sqft_above, sqft_living)  0.883733\n",
       "(bathrooms, sqft_living)   0.772226\n",
       "(lat, long)                0.760532"
      ]
     },
     "execution_count": 15,
     "metadata": {},
     "output_type": "execute_result"
    }
   ],
   "source": [
    "# converts all values to absolute value\n",
    "# stacks the row:column pairs into a multindex\n",
    "# reset the index to set the multindex to seperate columns\n",
    "# sort values. 0 is the column automatically generated by the stacking\n",
    "\n",
    "hi_corr = re.corr().abs().stack().reset_index().sort_values(0, ascending=False)\n",
    "\n",
    "# zip the variable name columns (Which were only named level_0 and level_1 by default) in a new column named \"pairs\"\n",
    "hi_corr['pairs'] = list(zip(hi_corr.level_0, hi_corr.level_1))\n",
    "\n",
    "# set index to pairs\n",
    "hi_corr.set_index(['pairs'], inplace = True)\n",
    "\n",
    "#drop level columns\n",
    "hi_corr.drop(columns=['level_1', 'level_0'], inplace = True)\n",
    "\n",
    "# rename correlation column as cc rather than 0\n",
    "hi_corr.columns = ['cc']\n",
    "\n",
    "# drop duplicates. This could be dangerous if you have variables perfectly correlated with variables other than themselves.\n",
    "# for the sake of exercise, kept it in.\n",
    "hi_corr.drop_duplicates(inplace=True)\n",
    "hi_corr[(hi_corr.cc>.7) & (hi_corr.cc <1)]"
   ]
  },
  {
   "cell_type": "markdown",
   "metadata": {},
   "source": [
    "It seems that we should either use long or lat if we plan on using any of them, and probably better to only use one of: sqft_above, sqft_living, bathrooms, as there is high multicollinearity between these values. Since sqft_living is the highest correlated with price we will stick with that. "
   ]
  },
  {
   "cell_type": "markdown",
   "metadata": {},
   "source": [
    "So let's reload the correlation values, and create a new model with the values that aren't highly correlated with eachother."
   ]
  },
  {
   "cell_type": "code",
   "execution_count": 16,
   "metadata": {
    "scrolled": true
   },
   "outputs": [
    {
     "data": {
      "text/plain": [
       "price            1.000000\n",
       "sqft_living      0.608616\n",
       "sqft_above       0.538631\n",
       "bathrooms        0.480337\n",
       "sqft_patio       0.313789\n",
       "bedrooms         0.288954\n",
       "sqft_garage      0.263674\n",
       "sqft_basement    0.245005\n",
       "floors           0.180589\n",
       "yr_built         0.095796\n",
       "sqft_lot         0.086550\n",
       "yr_renovated     0.085023\n",
       "lat              0.063430\n",
       "long            -0.022278\n",
       "id              -0.034096\n",
       "Name: price, dtype: float64"
      ]
     },
     "execution_count": 16,
     "metadata": {},
     "output_type": "execute_result"
    }
   ],
   "source": [
    "re_corrs"
   ]
  },
  {
   "cell_type": "markdown",
   "metadata": {},
   "source": [
    "Our new X value is all of the numerical factors, except for `sqft_above`, `bathrooms`, `sqft_lot`, `long`, `lat`, and `id`. "
   ]
  },
  {
   "cell_type": "code",
   "execution_count": 17,
   "metadata": {},
   "outputs": [],
   "source": [
    "X_2 = re[['sqft_living', 'sqft_patio', 'bedrooms', 'sqft_garage', 'sqft_basement','floors', \n",
    "          'yr_built', 'yr_renovated']]"
   ]
  },
  {
   "cell_type": "code",
   "execution_count": 18,
   "metadata": {},
   "outputs": [
    {
     "name": "stdout",
     "output_type": "stream",
     "text": [
      "                            OLS Regression Results                            \n",
      "==============================================================================\n",
      "Dep. Variable:                  price   R-squared:                       0.403\n",
      "Model:                            OLS   Adj. R-squared:                  0.403\n",
      "Method:                 Least Squares   F-statistic:                     2539.\n",
      "Date:                Mon, 20 Feb 2023   Prob (F-statistic):               0.00\n",
      "Time:                        17:01:15   Log-Likelihood:            -4.4767e+05\n",
      "No. Observations:               30111   AIC:                         8.954e+05\n",
      "Df Residuals:                   30102   BIC:                         8.954e+05\n",
      "Df Model:                           8                                         \n",
      "Covariance Type:            nonrobust                                         \n",
      "=================================================================================\n",
      "                    coef    std err          t      P>|t|      [0.025      0.975]\n",
      "---------------------------------------------------------------------------------\n",
      "const          5.577e+06   3.37e+05     16.564      0.000    4.92e+06    6.24e+06\n",
      "sqft_living     644.1443      6.925     93.011      0.000     630.570     657.718\n",
      "sqft_patio      264.3368     17.956     14.721      0.000     229.142     299.531\n",
      "bedrooms      -1.477e+05   5325.655    -27.739      0.000   -1.58e+05   -1.37e+05\n",
      "sqft_garage     -52.7882     18.243     -2.894      0.004     -88.546     -17.030\n",
      "sqft_basement    28.4341      8.270      3.438      0.001      12.225      44.643\n",
      "floors         7.007e+04   9250.663      7.575      0.000    5.19e+04    8.82e+04\n",
      "yr_built      -2780.7161    174.481    -15.937      0.000   -3122.707   -2438.725\n",
      "yr_renovated     66.2543     10.037      6.601      0.000      46.580      85.928\n",
      "==============================================================================\n",
      "Omnibus:                    43150.506   Durbin-Watson:                   1.855\n",
      "Prob(Omnibus):                  0.000   Jarque-Bera (JB):         48268256.118\n",
      "Skew:                           8.090   Prob(JB):                         0.00\n",
      "Kurtosis:                     198.475   Cond. No.                     2.58e+05\n",
      "==============================================================================\n",
      "\n",
      "Notes:\n",
      "[1] Standard Errors assume that the covariance matrix of the errors is correctly specified.\n",
      "[2] The condition number is large, 2.58e+05. This might indicate that there are\n",
      "strong multicollinearity or other numerical problems.\n"
     ]
    }
   ],
   "source": [
    "model2 = sm.OLS(y, sm.add_constant(X_2))\n",
    "results2 = model2.fit()\n",
    "print(results2.summary())"
   ]
  },
  {
   "cell_type": "code",
   "execution_count": 19,
   "metadata": {},
   "outputs": [
    {
     "name": "stdout",
     "output_type": "stream",
     "text": [
      "Model 2 Mae: 381971.71\n"
     ]
    }
   ],
   "source": [
    "results2_mae = mean_absolute_error(y, results2.predict(sm.add_constant(X_2)))\n",
    "print(f'Model 2 Mae: {round(results2_mae,2)}')"
   ]
  },
  {
   "cell_type": "markdown",
   "metadata": {},
   "source": [
    "Our new model is describing the relationship between most of the numerical factors and price.\n",
    "\n",
    "Overall the model is still statistically significant and is slightly better than the last as it explains 40.3% of the variance in price. This number still isn't great, and could use some improvement. \n",
    "\n",
    "All of the individual parts of the model are still statistically significant.\n",
    "\n",
    "- The model is off by slightly less then the last one, as the MAE is now \\\\$381K. \n",
    "- The constant has had a drastic change and is now roughly \\\\$5.6 million. Again, it is fine that this number doesn't make sense, as there is no such thing as a house with 0 sqft.\n",
    "- The coefficient:\n",
    "    - `sqft_living`:     644.1443.\n",
    "    - `sqft_patio`:      264.3368   \n",
    "    - `bedrooms`:      -1.477e+05   \n",
    "    - `sqft_garage`:     -52.7882   \n",
    "    - `sqft_basement`:    28.4341    \n",
    "    - `floors`:         7.007e+04   \n",
    "    - `yr_built`:      -2780.7161    \n",
    "    - `yr_renovated`:     66.2543"
   ]
  },
  {
   "cell_type": "markdown",
   "metadata": {},
   "source": [
    "The values for all the factors except for `bedrooms`, `sqft_garage`, and `yr_built` are all quite reasonable, in that they are positive. Meaning, that usually when you have more square feet in a certain area, more floors, or a newly renovated house the price goes up. However, in general adding extra bedrooms, a larger garage, or a newer house causes the price to go up although this model seems to indicate the opposite. This is a clear sign that the model can use some improvement."
   ]
  },
  {
   "cell_type": "markdown",
   "metadata": {},
   "source": [
    "Let's create a row that gives us the age of the house when it was sold to see if this is a better predictor then `yr_built`"
   ]
  },
  {
   "cell_type": "code",
   "execution_count": 20,
   "metadata": {},
   "outputs": [],
   "source": [
    "re['year_sold'] = pd.DatetimeIndex(re['date']).year\n",
    "re['age'] = re['year_sold'] - re['yr_built']"
   ]
  },
  {
   "cell_type": "markdown",
   "metadata": {},
   "source": [
    "When we tweak our model to compate `age` and `yr_built` we see that the adjusted r-squared values are the same. As such we will stick with our original model which includes `yr_built`"
   ]
  },
  {
   "cell_type": "markdown",
   "metadata": {},
   "source": [
    "If we play around with the data a bit, we can create a column that gives the amount of floors per lot size that may have a slightly positive impact on our model, that we can use later on"
   ]
  },
  {
   "cell_type": "code",
   "execution_count": 21,
   "metadata": {},
   "outputs": [],
   "source": [
    "re['floors_per_lotsize'] = re['floors']/re['sqft_lot']"
   ]
  },
  {
   "cell_type": "markdown",
   "metadata": {},
   "source": [
    "## Adding Categorical Factors\n",
    "\n",
    "Let's move on and add in categorical factors to our model\n",
    "\n",
    "We'll begin by creating a list of all the categorical factors"
   ]
  },
  {
   "cell_type": "code",
   "execution_count": 22,
   "metadata": {},
   "outputs": [
    {
     "data": {
      "text/plain": [
       "['date',\n",
       " 'waterfront',\n",
       " 'greenbelt',\n",
       " 'nuisance',\n",
       " 'view',\n",
       " 'condition',\n",
       " 'grade',\n",
       " 'heat_source',\n",
       " 'sewer_system',\n",
       " 'address']"
      ]
     },
     "execution_count": 22,
     "metadata": {},
     "output_type": "execute_result"
    }
   ],
   "source": [
    "catCols = [col for col in re.columns if re[col].dtype==\"O\"]\n",
    "catCols"
   ]
  },
  {
   "cell_type": "markdown",
   "metadata": {},
   "source": [
    "It is probably fair to assume that address doesn't have much of an affect on the price, and we already used date so lets check out other variables.\n",
    "\n",
    "Let's begin by pulling up histograms of all the categorical factors to see which ones seem to have a strong variance in price based on each value. When loading the histograms, I got a 'SettingWithCopyWarning', as a quick fix I googled an import code to remove this warning. To see more about the issue <a href=\"https://www.dataquest.io/blog/settingwithcopywarning/\">click here</a>"
   ]
  },
  {
   "cell_type": "code",
   "execution_count": 23,
   "metadata": {
    "scrolled": false
   },
   "outputs": [
    {
     "data": {
      "image/png": "[encoded data removed]",
      "text/plain": [
       "<Figure size 1440x360 with 8 Axes>"
      ]
     },
     "metadata": {},
     "output_type": "display_data"
    }
   ],
   "source": [
    "pd.options.mode.chained_assignment = None\n",
    "\n",
    "categorical_features = re.select_dtypes(\"object\").columns\n",
    "categorical_re = re.select_dtypes(include=['object'])\n",
    "categorical_re.drop(columns=['date', 'address'], inplace = True)\n",
    "categorical_features = np.array(categorical_re.columns)\n",
    "fig, axes = plt.subplots(ncols=len(categorical_features), figsize=(20,5))\n",
    "\n",
    "for index, feature in enumerate(categorical_features):\n",
    "    re.groupby(feature).mean().plot.bar(\n",
    "        y=\"price\", ax=axes[index])"
   ]
  },
  {
   "cell_type": "markdown",
   "metadata": {},
   "source": [
    "Upon examining the graphs we find some useful information:\n",
    "\n",
    "- Everything seems to have atleast a slight variance across each of it's individual values.\n",
    "- Looking at the y-axis, `grade` seems to be the most significant, followed by `view` and `waterfront`. "
   ]
  },
  {
   "cell_type": "markdown",
   "metadata": {},
   "source": [
    "So lets start with grade, and one hot encode new dummy values"
   ]
  },
  {
   "cell_type": "code",
   "execution_count": 24,
   "metadata": {
    "scrolled": true
   },
   "outputs": [
    {
     "data": {
      "text/html": [
       "<div>\n",
       "<style scoped>\n",
       "    .dataframe tbody tr th:only-of-type {\n",
       "        vertical-align: middle;\n",
       "    }\n",
       "\n",
       "    .dataframe tbody tr th {\n",
       "        vertical-align: top;\n",
       "    }\n",
       "\n",
       "    .dataframe thead th {\n",
       "        text-align: right;\n",
       "    }\n",
       "</style>\n",
       "<table border=\"1\" class=\"dataframe\">\n",
       "  <thead>\n",
       "    <tr style=\"text-align: right;\">\n",
       "      <th></th>\n",
       "      <th>sqft_living</th>\n",
       "      <th>sqft_patio</th>\n",
       "      <th>bedrooms</th>\n",
       "      <th>sqft_garage</th>\n",
       "      <th>sqft_basement</th>\n",
       "      <th>floors</th>\n",
       "      <th>yr_built</th>\n",
       "      <th>yr_renovated</th>\n",
       "      <th>grade_10 Very Good</th>\n",
       "      <th>grade_11 Excellent</th>\n",
       "      <th>grade_12 Luxury</th>\n",
       "      <th>grade_13 Mansion</th>\n",
       "      <th>grade_2 Substandard</th>\n",
       "      <th>grade_3 Poor</th>\n",
       "      <th>grade_4 Low</th>\n",
       "      <th>grade_5 Fair</th>\n",
       "      <th>grade_6 Low Average</th>\n",
       "      <th>grade_7 Average</th>\n",
       "      <th>grade_8 Good</th>\n",
       "      <th>grade_9 Better</th>\n",
       "    </tr>\n",
       "  </thead>\n",
       "  <tbody>\n",
       "    <tr>\n",
       "      <th>0</th>\n",
       "      <td>1180</td>\n",
       "      <td>40</td>\n",
       "      <td>4</td>\n",
       "      <td>0</td>\n",
       "      <td>0</td>\n",
       "      <td>1.0</td>\n",
       "      <td>1969</td>\n",
       "      <td>0</td>\n",
       "      <td>0</td>\n",
       "      <td>0</td>\n",
       "      <td>0</td>\n",
       "      <td>0</td>\n",
       "      <td>0</td>\n",
       "      <td>0</td>\n",
       "      <td>0</td>\n",
       "      <td>0</td>\n",
       "      <td>0</td>\n",
       "      <td>1</td>\n",
       "      <td>0</td>\n",
       "      <td>0</td>\n",
       "    </tr>\n",
       "    <tr>\n",
       "      <th>1</th>\n",
       "      <td>2770</td>\n",
       "      <td>240</td>\n",
       "      <td>5</td>\n",
       "      <td>0</td>\n",
       "      <td>1570</td>\n",
       "      <td>1.0</td>\n",
       "      <td>1950</td>\n",
       "      <td>0</td>\n",
       "      <td>0</td>\n",
       "      <td>0</td>\n",
       "      <td>0</td>\n",
       "      <td>0</td>\n",
       "      <td>0</td>\n",
       "      <td>0</td>\n",
       "      <td>0</td>\n",
       "      <td>0</td>\n",
       "      <td>0</td>\n",
       "      <td>1</td>\n",
       "      <td>0</td>\n",
       "      <td>0</td>\n",
       "    </tr>\n",
       "    <tr>\n",
       "      <th>2</th>\n",
       "      <td>2880</td>\n",
       "      <td>0</td>\n",
       "      <td>6</td>\n",
       "      <td>0</td>\n",
       "      <td>1580</td>\n",
       "      <td>1.0</td>\n",
       "      <td>1956</td>\n",
       "      <td>0</td>\n",
       "      <td>0</td>\n",
       "      <td>0</td>\n",
       "      <td>0</td>\n",
       "      <td>0</td>\n",
       "      <td>0</td>\n",
       "      <td>0</td>\n",
       "      <td>0</td>\n",
       "      <td>0</td>\n",
       "      <td>0</td>\n",
       "      <td>1</td>\n",
       "      <td>0</td>\n",
       "      <td>0</td>\n",
       "    </tr>\n",
       "    <tr>\n",
       "      <th>3</th>\n",
       "      <td>2160</td>\n",
       "      <td>270</td>\n",
       "      <td>3</td>\n",
       "      <td>200</td>\n",
       "      <td>1070</td>\n",
       "      <td>2.0</td>\n",
       "      <td>2010</td>\n",
       "      <td>0</td>\n",
       "      <td>0</td>\n",
       "      <td>0</td>\n",
       "      <td>0</td>\n",
       "      <td>0</td>\n",
       "      <td>0</td>\n",
       "      <td>0</td>\n",
       "      <td>0</td>\n",
       "      <td>0</td>\n",
       "      <td>0</td>\n",
       "      <td>0</td>\n",
       "      <td>0</td>\n",
       "      <td>1</td>\n",
       "    </tr>\n",
       "    <tr>\n",
       "      <th>4</th>\n",
       "      <td>1120</td>\n",
       "      <td>30</td>\n",
       "      <td>2</td>\n",
       "      <td>550</td>\n",
       "      <td>550</td>\n",
       "      <td>2.0</td>\n",
       "      <td>2012</td>\n",
       "      <td>0</td>\n",
       "      <td>0</td>\n",
       "      <td>0</td>\n",
       "      <td>0</td>\n",
       "      <td>0</td>\n",
       "      <td>0</td>\n",
       "      <td>0</td>\n",
       "      <td>0</td>\n",
       "      <td>0</td>\n",
       "      <td>0</td>\n",
       "      <td>1</td>\n",
       "      <td>0</td>\n",
       "      <td>0</td>\n",
       "    </tr>\n",
       "  </tbody>\n",
       "</table>\n",
       "</div>"
      ],
      "text/plain": [
       "   sqft_living  sqft_patio  bedrooms  sqft_garage  sqft_basement  floors  \\\n",
       "0         1180          40         4            0              0     1.0   \n",
       "1         2770         240         5            0           1570     1.0   \n",
       "2         2880           0         6            0           1580     1.0   \n",
       "3         2160         270         3          200           1070     2.0   \n",
       "4         1120          30         2          550            550     2.0   \n",
       "\n",
       "   yr_built  yr_renovated  grade_10 Very Good  grade_11 Excellent  \\\n",
       "0      1969             0                   0                   0   \n",
       "1      1950             0                   0                   0   \n",
       "2      1956             0                   0                   0   \n",
       "3      2010             0                   0                   0   \n",
       "4      2012             0                   0                   0   \n",
       "\n",
       "   grade_12 Luxury  grade_13 Mansion  grade_2 Substandard  grade_3 Poor  \\\n",
       "0                0                 0                    0             0   \n",
       "1                0                 0                    0             0   \n",
       "2                0                 0                    0             0   \n",
       "3                0                 0                    0             0   \n",
       "4                0                 0                    0             0   \n",
       "\n",
       "   grade_4 Low  grade_5 Fair  grade_6 Low Average  grade_7 Average  \\\n",
       "0            0             0                    0                1   \n",
       "1            0             0                    0                1   \n",
       "2            0             0                    0                1   \n",
       "3            0             0                    0                0   \n",
       "4            0             0                    0                1   \n",
       "\n",
       "   grade_8 Good  grade_9 Better  \n",
       "0             0               0  \n",
       "1             0               0  \n",
       "2             0               0  \n",
       "3             0               1  \n",
       "4             0               0  "
      ]
     },
     "execution_count": 24,
     "metadata": {},
     "output_type": "execute_result"
    }
   ],
   "source": [
    "iterated_X1 = re[['sqft_living', 'sqft_patio', 'bedrooms', 'sqft_garage','sqft_basement',\n",
    "                  'floors', 'yr_built', 'yr_renovated', 'grade']]\n",
    "iterated_X1 = pd.get_dummies(iterated_X1, columns=['grade']) \n",
    "iterated_X1.head()"
   ]
  },
  {
   "cell_type": "markdown",
   "metadata": {},
   "source": [
    "Since `grade_2Substandard` is the worst level, we will drop it, and use it as the baseline"
   ]
  },
  {
   "cell_type": "code",
   "execution_count": 25,
   "metadata": {
    "scrolled": true
   },
   "outputs": [
    {
     "data": {
      "text/html": [
       "<div>\n",
       "<style scoped>\n",
       "    .dataframe tbody tr th:only-of-type {\n",
       "        vertical-align: middle;\n",
       "    }\n",
       "\n",
       "    .dataframe tbody tr th {\n",
       "        vertical-align: top;\n",
       "    }\n",
       "\n",
       "    .dataframe thead th {\n",
       "        text-align: right;\n",
       "    }\n",
       "</style>\n",
       "<table border=\"1\" class=\"dataframe\">\n",
       "  <thead>\n",
       "    <tr style=\"text-align: right;\">\n",
       "      <th></th>\n",
       "      <th>sqft_living</th>\n",
       "      <th>sqft_patio</th>\n",
       "      <th>bedrooms</th>\n",
       "      <th>sqft_garage</th>\n",
       "      <th>sqft_basement</th>\n",
       "      <th>floors</th>\n",
       "      <th>yr_built</th>\n",
       "      <th>yr_renovated</th>\n",
       "      <th>grade_10 Very Good</th>\n",
       "      <th>grade_11 Excellent</th>\n",
       "      <th>grade_12 Luxury</th>\n",
       "      <th>grade_13 Mansion</th>\n",
       "      <th>grade_3 Poor</th>\n",
       "      <th>grade_4 Low</th>\n",
       "      <th>grade_5 Fair</th>\n",
       "      <th>grade_6 Low Average</th>\n",
       "      <th>grade_7 Average</th>\n",
       "      <th>grade_8 Good</th>\n",
       "      <th>grade_9 Better</th>\n",
       "    </tr>\n",
       "  </thead>\n",
       "  <tbody>\n",
       "    <tr>\n",
       "      <th>0</th>\n",
       "      <td>1180</td>\n",
       "      <td>40</td>\n",
       "      <td>4</td>\n",
       "      <td>0</td>\n",
       "      <td>0</td>\n",
       "      <td>1.0</td>\n",
       "      <td>1969</td>\n",
       "      <td>0</td>\n",
       "      <td>0</td>\n",
       "      <td>0</td>\n",
       "      <td>0</td>\n",
       "      <td>0</td>\n",
       "      <td>0</td>\n",
       "      <td>0</td>\n",
       "      <td>0</td>\n",
       "      <td>0</td>\n",
       "      <td>1</td>\n",
       "      <td>0</td>\n",
       "      <td>0</td>\n",
       "    </tr>\n",
       "    <tr>\n",
       "      <th>1</th>\n",
       "      <td>2770</td>\n",
       "      <td>240</td>\n",
       "      <td>5</td>\n",
       "      <td>0</td>\n",
       "      <td>1570</td>\n",
       "      <td>1.0</td>\n",
       "      <td>1950</td>\n",
       "      <td>0</td>\n",
       "      <td>0</td>\n",
       "      <td>0</td>\n",
       "      <td>0</td>\n",
       "      <td>0</td>\n",
       "      <td>0</td>\n",
       "      <td>0</td>\n",
       "      <td>0</td>\n",
       "      <td>0</td>\n",
       "      <td>1</td>\n",
       "      <td>0</td>\n",
       "      <td>0</td>\n",
       "    </tr>\n",
       "    <tr>\n",
       "      <th>2</th>\n",
       "      <td>2880</td>\n",
       "      <td>0</td>\n",
       "      <td>6</td>\n",
       "      <td>0</td>\n",
       "      <td>1580</td>\n",
       "      <td>1.0</td>\n",
       "      <td>1956</td>\n",
       "      <td>0</td>\n",
       "      <td>0</td>\n",
       "      <td>0</td>\n",
       "      <td>0</td>\n",
       "      <td>0</td>\n",
       "      <td>0</td>\n",
       "      <td>0</td>\n",
       "      <td>0</td>\n",
       "      <td>0</td>\n",
       "      <td>1</td>\n",
       "      <td>0</td>\n",
       "      <td>0</td>\n",
       "    </tr>\n",
       "    <tr>\n",
       "      <th>3</th>\n",
       "      <td>2160</td>\n",
       "      <td>270</td>\n",
       "      <td>3</td>\n",
       "      <td>200</td>\n",
       "      <td>1070</td>\n",
       "      <td>2.0</td>\n",
       "      <td>2010</td>\n",
       "      <td>0</td>\n",
       "      <td>0</td>\n",
       "      <td>0</td>\n",
       "      <td>0</td>\n",
       "      <td>0</td>\n",
       "      <td>0</td>\n",
       "      <td>0</td>\n",
       "      <td>0</td>\n",
       "      <td>0</td>\n",
       "      <td>0</td>\n",
       "      <td>0</td>\n",
       "      <td>1</td>\n",
       "    </tr>\n",
       "    <tr>\n",
       "      <th>4</th>\n",
       "      <td>1120</td>\n",
       "      <td>30</td>\n",
       "      <td>2</td>\n",
       "      <td>550</td>\n",
       "      <td>550</td>\n",
       "      <td>2.0</td>\n",
       "      <td>2012</td>\n",
       "      <td>0</td>\n",
       "      <td>0</td>\n",
       "      <td>0</td>\n",
       "      <td>0</td>\n",
       "      <td>0</td>\n",
       "      <td>0</td>\n",
       "      <td>0</td>\n",
       "      <td>0</td>\n",
       "      <td>0</td>\n",
       "      <td>1</td>\n",
       "      <td>0</td>\n",
       "      <td>0</td>\n",
       "    </tr>\n",
       "  </tbody>\n",
       "</table>\n",
       "</div>"
      ],
      "text/plain": [
       "   sqft_living  sqft_patio  bedrooms  sqft_garage  sqft_basement  floors  \\\n",
       "0         1180          40         4            0              0     1.0   \n",
       "1         2770         240         5            0           1570     1.0   \n",
       "2         2880           0         6            0           1580     1.0   \n",
       "3         2160         270         3          200           1070     2.0   \n",
       "4         1120          30         2          550            550     2.0   \n",
       "\n",
       "   yr_built  yr_renovated  grade_10 Very Good  grade_11 Excellent  \\\n",
       "0      1969             0                   0                   0   \n",
       "1      1950             0                   0                   0   \n",
       "2      1956             0                   0                   0   \n",
       "3      2010             0                   0                   0   \n",
       "4      2012             0                   0                   0   \n",
       "\n",
       "   grade_12 Luxury  grade_13 Mansion  grade_3 Poor  grade_4 Low  grade_5 Fair  \\\n",
       "0                0                 0             0            0             0   \n",
       "1                0                 0             0            0             0   \n",
       "2                0                 0             0            0             0   \n",
       "3                0                 0             0            0             0   \n",
       "4                0                 0             0            0             0   \n",
       "\n",
       "   grade_6 Low Average  grade_7 Average  grade_8 Good  grade_9 Better  \n",
       "0                    0                1             0               0  \n",
       "1                    0                1             0               0  \n",
       "2                    0                1             0               0  \n",
       "3                    0                0             0               1  \n",
       "4                    0                1             0               0  "
      ]
     },
     "execution_count": 25,
     "metadata": {},
     "output_type": "execute_result"
    }
   ],
   "source": [
    "iterated_X1.drop('grade_2 Substandard', axis=1, inplace=True)\n",
    "iterated_X1.head()"
   ]
  },
  {
   "cell_type": "markdown",
   "metadata": {},
   "source": [
    "Now, we create our first model with categorical values"
   ]
  },
  {
   "cell_type": "code",
   "execution_count": 26,
   "metadata": {},
   "outputs": [
    {
     "name": "stdout",
     "output_type": "stream",
     "text": [
      "                            OLS Regression Results                            \n",
      "==============================================================================\n",
      "Dep. Variable:                  price   R-squared:                       0.487\n",
      "Model:                            OLS   Adj. R-squared:                  0.487\n",
      "Method:                 Least Squares   F-statistic:                     1503.\n",
      "Date:                Mon, 20 Feb 2023   Prob (F-statistic):               0.00\n",
      "Time:                        17:01:20   Log-Likelihood:            -4.4539e+05\n",
      "No. Observations:               30111   AIC:                         8.908e+05\n",
      "Df Residuals:                   30091   BIC:                         8.910e+05\n",
      "Df Model:                          19                                         \n",
      "Covariance Type:            nonrobust                                         \n",
      "=======================================================================================\n",
      "                          coef    std err          t      P>|t|      [0.025      0.975]\n",
      "---------------------------------------------------------------------------------------\n",
      "const                6.489e+06   7.22e+05      8.990      0.000    5.07e+06     7.9e+06\n",
      "sqft_living           333.5127      7.868     42.389      0.000     318.091     348.934\n",
      "sqft_patio            174.9558     16.730     10.458      0.000     142.164     207.748\n",
      "bedrooms            -5.081e+04   5180.906     -9.807      0.000    -6.1e+04   -4.07e+04\n",
      "sqft_garage          -176.9961     17.167    -10.310      0.000    -210.643    -143.349\n",
      "sqft_basement          51.6157      7.828      6.593      0.000      36.272      66.960\n",
      "floors              -1084.0199   8953.049     -0.121      0.904   -1.86e+04    1.65e+04\n",
      "yr_built            -3189.3423    169.011    -18.871      0.000   -3520.611   -2858.074\n",
      "yr_renovated           75.0783      9.330      8.047      0.000      56.791      93.365\n",
      "grade_10 Very Good   1.187e+06   6.43e+05      1.847      0.065   -7.26e+04    2.45e+06\n",
      "grade_11 Excellent   2.086e+06   6.44e+05      3.242      0.001    8.25e+05    3.35e+06\n",
      "grade_12 Luxury      3.222e+06   6.46e+05      4.990      0.000    1.96e+06    4.49e+06\n",
      "grade_13 Mansion      4.74e+06   6.57e+05      7.214      0.000    3.45e+06    6.03e+06\n",
      "grade_3 Poor         2.237e+04   6.77e+05      0.033      0.974    -1.3e+06    1.35e+06\n",
      "grade_4 Low          1.806e+05   6.49e+05      0.278      0.781   -1.09e+06    1.45e+06\n",
      "grade_5 Fair         8.163e+04   6.43e+05      0.127      0.899   -1.18e+06    1.34e+06\n",
      "grade_6 Low Average  7.129e+04   6.43e+05      0.111      0.912   -1.19e+06    1.33e+06\n",
      "grade_7 Average      1.733e+05   6.42e+05      0.270      0.787   -1.09e+06    1.43e+06\n",
      "grade_8 Good         3.708e+05   6.42e+05      0.577      0.564   -8.88e+05    1.63e+06\n",
      "grade_9 Better       7.027e+05   6.43e+05      1.094      0.274   -5.57e+05    1.96e+06\n",
      "==============================================================================\n",
      "Omnibus:                    43675.744   Durbin-Watson:                   1.834\n",
      "Prob(Omnibus):                  0.000   Jarque-Bera (JB):         55571289.576\n",
      "Skew:                           8.246   Prob(JB):                         0.00\n",
      "Kurtosis:                     212.812   Cond. No.                     1.84e+06\n",
      "==============================================================================\n",
      "\n",
      "Notes:\n",
      "[1] Standard Errors assume that the covariance matrix of the errors is correctly specified.\n",
      "[2] The condition number is large, 1.84e+06. This might indicate that there are\n",
      "strong multicollinearity or other numerical problems.\n"
     ]
    }
   ],
   "source": [
    "iterated_model1 = sm.OLS(y, sm.add_constant(iterated_X1))\n",
    "iterated_results1 = iterated_model1.fit()\n",
    "print(iterated_results1.summary())"
   ]
  },
  {
   "cell_type": "markdown",
   "metadata": {},
   "source": [
    "Our model as a whole is statistically significant, and the adjusted r squared has increased from 40.3% to 48.7%\n",
    "\n",
    "However, all the coefficients for `grade` that are below 11 are not statistically significant.\n",
    "\n",
    "So let's try engineering a new feature that is only the higher level grades. We will create a new row called `high_grade` that will say \"yes\" if the grade is 11 or up, and \"no\" if the grade is below 11. We will then create new dummy values and run a new model with our new column instead of `grade`"
   ]
  },
  {
   "cell_type": "code",
   "execution_count": 27,
   "metadata": {},
   "outputs": [],
   "source": [
    "re['high_grade'] = re['grade'].apply(lambda x: 'yes' if \n",
    "                                     x.__contains__('11') or\n",
    "                                     x.__contains__('12') or\n",
    "                                     x.__contains__('13')\n",
    "                                     else 'no')"
   ]
  },
  {
   "cell_type": "code",
   "execution_count": 28,
   "metadata": {
    "scrolled": true
   },
   "outputs": [
    {
     "data": {
      "text/html": [
       "<div>\n",
       "<style scoped>\n",
       "    .dataframe tbody tr th:only-of-type {\n",
       "        vertical-align: middle;\n",
       "    }\n",
       "\n",
       "    .dataframe tbody tr th {\n",
       "        vertical-align: top;\n",
       "    }\n",
       "\n",
       "    .dataframe thead th {\n",
       "        text-align: right;\n",
       "    }\n",
       "</style>\n",
       "<table border=\"1\" class=\"dataframe\">\n",
       "  <thead>\n",
       "    <tr style=\"text-align: right;\">\n",
       "      <th></th>\n",
       "      <th>sqft_living</th>\n",
       "      <th>sqft_patio</th>\n",
       "      <th>bedrooms</th>\n",
       "      <th>sqft_garage</th>\n",
       "      <th>sqft_basement</th>\n",
       "      <th>floors</th>\n",
       "      <th>yr_built</th>\n",
       "      <th>yr_renovated</th>\n",
       "      <th>high_grade_yes</th>\n",
       "    </tr>\n",
       "  </thead>\n",
       "  <tbody>\n",
       "    <tr>\n",
       "      <th>0</th>\n",
       "      <td>1180</td>\n",
       "      <td>40</td>\n",
       "      <td>4</td>\n",
       "      <td>0</td>\n",
       "      <td>0</td>\n",
       "      <td>1.0</td>\n",
       "      <td>1969</td>\n",
       "      <td>0</td>\n",
       "      <td>0</td>\n",
       "    </tr>\n",
       "    <tr>\n",
       "      <th>1</th>\n",
       "      <td>2770</td>\n",
       "      <td>240</td>\n",
       "      <td>5</td>\n",
       "      <td>0</td>\n",
       "      <td>1570</td>\n",
       "      <td>1.0</td>\n",
       "      <td>1950</td>\n",
       "      <td>0</td>\n",
       "      <td>0</td>\n",
       "    </tr>\n",
       "    <tr>\n",
       "      <th>2</th>\n",
       "      <td>2880</td>\n",
       "      <td>0</td>\n",
       "      <td>6</td>\n",
       "      <td>0</td>\n",
       "      <td>1580</td>\n",
       "      <td>1.0</td>\n",
       "      <td>1956</td>\n",
       "      <td>0</td>\n",
       "      <td>0</td>\n",
       "    </tr>\n",
       "    <tr>\n",
       "      <th>3</th>\n",
       "      <td>2160</td>\n",
       "      <td>270</td>\n",
       "      <td>3</td>\n",
       "      <td>200</td>\n",
       "      <td>1070</td>\n",
       "      <td>2.0</td>\n",
       "      <td>2010</td>\n",
       "      <td>0</td>\n",
       "      <td>0</td>\n",
       "    </tr>\n",
       "    <tr>\n",
       "      <th>4</th>\n",
       "      <td>1120</td>\n",
       "      <td>30</td>\n",
       "      <td>2</td>\n",
       "      <td>550</td>\n",
       "      <td>550</td>\n",
       "      <td>2.0</td>\n",
       "      <td>2012</td>\n",
       "      <td>0</td>\n",
       "      <td>0</td>\n",
       "    </tr>\n",
       "  </tbody>\n",
       "</table>\n",
       "</div>"
      ],
      "text/plain": [
       "   sqft_living  sqft_patio  bedrooms  sqft_garage  sqft_basement  floors  \\\n",
       "0         1180          40         4            0              0     1.0   \n",
       "1         2770         240         5            0           1570     1.0   \n",
       "2         2880           0         6            0           1580     1.0   \n",
       "3         2160         270         3          200           1070     2.0   \n",
       "4         1120          30         2          550            550     2.0   \n",
       "\n",
       "   yr_built  yr_renovated  high_grade_yes  \n",
       "0      1969             0               0  \n",
       "1      1950             0               0  \n",
       "2      1956             0               0  \n",
       "3      2010             0               0  \n",
       "4      2012             0               0  "
      ]
     },
     "execution_count": 28,
     "metadata": {},
     "output_type": "execute_result"
    }
   ],
   "source": [
    "iterated_X2 = re[['sqft_living', 'sqft_patio', 'bedrooms', 'sqft_garage','sqft_basement',\n",
    "                  'floors', 'yr_built', 'yr_renovated', 'high_grade']]\n",
    "iterated_X2 = pd.get_dummies(iterated_X2, columns=['high_grade'], drop_first=True) \n",
    "iterated_X2.head()"
   ]
  },
  {
   "cell_type": "code",
   "execution_count": 29,
   "metadata": {
    "scrolled": true
   },
   "outputs": [
    {
     "name": "stdout",
     "output_type": "stream",
     "text": [
      "r^2 Adj: 0.4412061147471078\n",
      "p values:\n",
      " const             4.234582e-48\n",
      "sqft_living       0.000000e+00\n",
      "sqft_patio        2.807085e-42\n",
      "bedrooms          1.037692e-87\n",
      "sqft_garage       3.505635e-06\n",
      "sqft_basement     6.806510e-08\n",
      "floors            2.683107e-20\n",
      "yr_built          1.683872e-43\n",
      "yr_renovated      6.127883e-16\n",
      "high_grade_yes    0.000000e+00\n",
      "dtype: float64\n"
     ]
    }
   ],
   "source": [
    "iterated_model2 = sm.OLS(y, sm.add_constant(iterated_X2))\n",
    "iterated_results2 = iterated_model2.fit()\n",
    "print(f'r^2 Adj: {iterated_results2.rsquared_adj}')\n",
    "print(f'p values:\\n {iterated_results2.pvalues}')"
   ]
  },
  {
   "cell_type": "markdown",
   "metadata": {},
   "source": [
    "Although, this model has a slightly lower adjusted r squared then the previous model, at only 44.1%, it is still much better then our original model. Additionally, all the variables are now statistically significant. "
   ]
  },
  {
   "cell_type": "markdown",
   "metadata": {},
   "source": [
    "Lets pull up the value counts to see if there is a significant number of higher grade houses."
   ]
  },
  {
   "cell_type": "code",
   "execution_count": 30,
   "metadata": {
    "scrolled": true
   },
   "outputs": [
    {
     "data": {
      "text/plain": [
       "no     29559\n",
       "yes      552\n",
       "Name: high_grade, dtype: int64"
      ]
     },
     "execution_count": 30,
     "metadata": {},
     "output_type": "execute_result"
    }
   ],
   "source": [
    "re.high_grade.value_counts()"
   ]
  },
  {
   "cell_type": "markdown",
   "metadata": {},
   "source": [
    "We see that since there is such a small amount of high graded houses, `grade` only becomes a significant factor for houses with grades 11-13."
   ]
  },
  {
   "cell_type": "markdown",
   "metadata": {},
   "source": [
    "Let's add in view now, to see how it affects our model"
   ]
  },
  {
   "cell_type": "code",
   "execution_count": 31,
   "metadata": {},
   "outputs": [],
   "source": [
    "iterated_X3 = re[['sqft_living', 'sqft_patio', 'bedrooms', 'sqft_garage','sqft_basement',\n",
    "                  'floors', 'yr_built', 'yr_renovated', 'high_grade', 'view']]\n",
    "iterated_X3 = pd.get_dummies(iterated_X3, columns=['high_grade', 'view']) \n",
    "iterated_X3.drop(['view_NONE','high_grade_no'], axis=1, inplace=True)"
   ]
  },
  {
   "cell_type": "code",
   "execution_count": 32,
   "metadata": {},
   "outputs": [
    {
     "name": "stdout",
     "output_type": "stream",
     "text": [
      "R^2 Adj: 0.46779088773981725\n",
      "P values:\n",
      " const             1.795149e-39\n",
      "sqft_living       0.000000e+00\n",
      "sqft_patio        1.144995e-20\n",
      "bedrooms          1.611296e-59\n",
      "sqft_garage       1.837180e-03\n",
      "sqft_basement     3.149082e-02\n",
      "floors            1.159374e-21\n",
      "yr_built          1.088882e-35\n",
      "yr_renovated      1.339835e-08\n",
      "high_grade_yes    0.000000e+00\n",
      "view_AVERAGE      2.472675e-11\n",
      "view_EXCELLENT    0.000000e+00\n",
      "view_FAIR         1.656540e-13\n",
      "view_GOOD         2.396306e-10\n",
      "dtype: float64\n"
     ]
    }
   ],
   "source": [
    "iterated_model3 = sm.OLS(y, sm.add_constant(iterated_X3))\n",
    "iterated_results3 = iterated_model3.fit()\n",
    "print(f'R^2 Adj: {iterated_results3.rsquared_adj}')\n",
    "print(f'P values:\\n {iterated_results3.pvalues}')"
   ]
  },
  {
   "cell_type": "markdown",
   "metadata": {},
   "source": [
    "Now that is a significantly better adjusted r-squared and all of our values our significant.\n",
    "\n",
    "However, lets check out the value counts to see if there is a significant amount of data."
   ]
  },
  {
   "cell_type": "code",
   "execution_count": 33,
   "metadata": {},
   "outputs": [
    {
     "data": {
      "text/plain": [
       "NONE         26555\n",
       "AVERAGE       1910\n",
       "GOOD           877\n",
       "EXCELLENT      549\n",
       "FAIR           220\n",
       "Name: view, dtype: int64"
      ]
     },
     "execution_count": 33,
     "metadata": {},
     "output_type": "execute_result"
    }
   ],
   "source": [
    "re.view.value_counts()"
   ]
  },
  {
   "cell_type": "code",
   "execution_count": 34,
   "metadata": {
    "scrolled": true
   },
   "outputs": [
    {
     "name": "stdout",
     "output_type": "stream",
     "text": [
      "Percentage with no view: 88.19\n"
     ]
    }
   ],
   "source": [
    "print(f'Percentage with no view: {round(26555/30111*100,2)}')"
   ]
  },
  {
   "cell_type": "markdown",
   "metadata": {},
   "source": [
    "Since roughly 90% of the data has no view this factor only becomes significant when a house has a view."
   ]
  },
  {
   "cell_type": "markdown",
   "metadata": {},
   "source": [
    "Instead of going through each categories value counts one by one, lets just pull them up now, to see which one has a fair distribution of values"
   ]
  },
  {
   "cell_type": "code",
   "execution_count": 35,
   "metadata": {
    "scrolled": false
   },
   "outputs": [
    {
     "name": "stdout",
     "output_type": "stream",
     "text": [
      "NO     29600\n",
      "YES      511\n",
      "Name: waterfront, dtype: int64 \n",
      "\n",
      "NO     29339\n",
      "YES      772\n",
      "Name: greenbelt, dtype: int64 \n",
      "\n",
      "NO     24862\n",
      "YES     5249\n",
      "Name: nuisance, dtype: int64 \n",
      "\n",
      "Average      18515\n",
      "Good          8052\n",
      "Very Good     3258\n",
      "Fair           225\n",
      "Poor            61\n",
      "Name: condition, dtype: int64 \n",
      "\n",
      "Gas                  20576\n",
      "Electricity           6460\n",
      "Oil                   2899\n",
      "Gas/Solar               93\n",
      "Electricity/Solar       59\n",
      "Other                   20\n",
      "Oil/Solar                4\n",
      "Name: heat_source, dtype: int64 \n",
      "\n",
      "PUBLIC                25767\n",
      "PRIVATE                4336\n",
      "PRIVATE RESTRICTED        5\n",
      "PUBLIC RESTRICTED         3\n",
      "Name: sewer_system, dtype: int64 \n",
      "\n"
     ]
    }
   ],
   "source": [
    "categoricals = re.select_dtypes(\"object\")\n",
    "categoricals.drop(['date', 'address', 'grade','view','high_grade'], axis=1, inplace=True)\n",
    "for col in categoricals:\n",
    "    print(re[col].value_counts(), \"\\n\")"
   ]
  },
  {
   "cell_type": "code",
   "execution_count": 36,
   "metadata": {},
   "outputs": [
    {
     "data": {
      "text/plain": [
       "['waterfront',\n",
       " 'greenbelt',\n",
       " 'nuisance',\n",
       " 'condition',\n",
       " 'heat_source',\n",
       " 'sewer_system']"
      ]
     },
     "execution_count": 36,
     "metadata": {},
     "output_type": "execute_result"
    }
   ],
   "source": [
    "categorical_col = list(categoricals.columns.values)\n",
    "categorical_col"
   ]
  },
  {
   "cell_type": "code",
   "execution_count": 37,
   "metadata": {},
   "outputs": [
    {
     "name": "stdout",
     "output_type": "stream",
     "text": [
      "R^2 Adj: 0.4821301296199909\n",
      "P values:\n",
      " const                               2.792621e-31\n",
      "sqft_living                         0.000000e+00\n",
      "sqft_patio                          2.272259e-31\n",
      "bedrooms                            8.457273e-70\n",
      "floors                              3.263123e-12\n",
      "yr_built                            7.082854e-35\n",
      "yr_renovated                        9.360324e-08\n",
      "high_grade_yes                      0.000000e+00\n",
      "view_AVERAGE                        4.805505e-06\n",
      "view_EXCELLENT                     1.656982e-114\n",
      "view_FAIR                           1.975433e-11\n",
      "view_GOOD                           3.974847e-05\n",
      "waterfront_YES                      6.261597e-98\n",
      "nuisance_YES                        6.528996e-12\n",
      "condition_Average                   1.364019e-01\n",
      "condition_Fair                      6.797705e-01\n",
      "condition_Good                      9.776616e-02\n",
      "condition_Very Good                 1.874762e-02\n",
      "sewer_system_PRIVATE RESTRICTED     1.884776e-01\n",
      "sewer_system_PUBLIC                 5.013630e-94\n",
      "sewer_system_PUBLIC RESTRICTED      6.762596e-01\n",
      "dtype: float64\n"
     ]
    }
   ],
   "source": [
    "iterated_X4 = re[['sqft_living', 'sqft_patio', 'bedrooms',\n",
    "                  'floors', 'yr_built', 'yr_renovated', 'high_grade', 'view', 'waterfront',\n",
    "                  'nuisance', 'condition','sewer_system']]\n",
    "iterated_X4 = pd.get_dummies(iterated_X4, columns=['high_grade', 'view', 'waterfront',\n",
    "                                                   'nuisance', 'condition','sewer_system']) \n",
    "iterated_X4.drop(['view_NONE','high_grade_no', 'waterfront_NO', 'nuisance_NO' ,\n",
    "                  'condition_Poor', 'sewer_system_PRIVATE'], axis=1, inplace=True)\n",
    "iterated_model4 = sm.OLS(y, sm.add_constant(iterated_X4))\n",
    "iterated_results4 = iterated_model4.fit()\n",
    "print(f'R^2 Adj: {iterated_results4.rsquared_adj}')\n",
    "print(f'P values:\\n {iterated_results4.pvalues}')"
   ]
  },
  {
   "cell_type": "markdown",
   "metadata": {},
   "source": [
    "With some tinkering with the categorical columns we get this model. The model now has an adjusted r&sup2; of 48.2%. However, some of the p values for the predictors are no longer significant. lets see if we can break down some of these columns into larger groups to get significant p values for every predictor. We can also take out `sqft_garage` and `sqft_basement` as they didn't have any affect on the model."
   ]
  },
  {
   "cell_type": "markdown",
   "metadata": {},
   "source": [
    "Let's break the `sewer_system` column down into 2 values, that say whether it's public or private. Additionally let's break down the `condition` column into 2 values, whether it is atleast in \"good\" condition."
   ]
  },
  {
   "cell_type": "code",
   "execution_count": 38,
   "metadata": {
    "scrolled": false
   },
   "outputs": [
    {
     "name": "stdout",
     "output_type": "stream",
     "text": [
      "yes    25770\n",
      "no      4341\n",
      "Name: sewer_system_public, dtype: int64\n",
      "no     18801\n",
      "yes    11310\n",
      "Name: good_condition, dtype: int64\n"
     ]
    }
   ],
   "source": [
    "re['sewer_system_public'] = re['sewer_system'].apply(lambda x: 'yes' if \n",
    "                                     x.__contains__('PUBLIC')\n",
    "                                     else 'no')\n",
    "re['good_condition'] = re['condition'].apply(lambda x: 'yes' if \n",
    "                                     x.__contains__('Good')\n",
    "                                     else 'no')\n",
    "print(re.sewer_system_public.value_counts())\n",
    "print(re.good_condition.value_counts())"
   ]
  },
  {
   "cell_type": "markdown",
   "metadata": {},
   "source": [
    "Now we will create and run our new model"
   ]
  },
  {
   "cell_type": "code",
   "execution_count": 48,
   "metadata": {},
   "outputs": [
    {
     "name": "stdout",
     "output_type": "stream",
     "text": [
      "R^2 Adj: 0.48092902124601145\n",
      "P values:\n",
      " const                       2.092652e-25\n",
      "sqft_living                 0.000000e+00\n",
      "sqft_patio                  1.586113e-32\n",
      "bedrooms                    6.073260e-72\n",
      "yr_built                    1.695862e-25\n",
      "yr_renovated                3.056889e-09\n",
      "high_grade_yes              0.000000e+00\n",
      "view_AVERAGE                7.774605e-06\n",
      "view_EXCELLENT             6.606898e-113\n",
      "view_FAIR                   3.840854e-11\n",
      "view_GOOD                   4.653519e-05\n",
      "waterfront_YES              4.614670e-98\n",
      "nuisance_YES                4.031773e-13\n",
      "good_condition_yes          3.393990e-03\n",
      "sewer_system_public_yes    1.486535e-108\n",
      "dtype: float64\n"
     ]
    }
   ],
   "source": [
    "iterated_X5 = re[['sqft_living', 'sqft_patio', 'bedrooms', 'yr_built', 'yr_renovated',\n",
    "                  'high_grade', 'view', 'waterfront', 'nuisance', 'good_condition',\n",
    "                  'sewer_system_public']]\n",
    "iterated_X5 = pd.get_dummies(iterated_X5, columns=['high_grade', 'view', 'waterfront',\n",
    "                                                   'nuisance', 'good_condition',\n",
    "                                                   'sewer_system_public']) \n",
    "iterated_X5.drop(['view_NONE','high_grade_no', 'waterfront_NO', 'nuisance_NO',\n",
    "                  'good_condition_no', 'sewer_system_public_no'], axis=1, inplace=True)\n",
    "iterated_model5 = sm.OLS(y, sm.add_constant(iterated_X5))\n",
    "iterated_results5 = iterated_model5.fit()\n",
    "print(f'R^2 Adj: {iterated_results5.rsquared_adj}')\n",
    "print(f'P values:\\n {iterated_results5.pvalues}')"
   ]
  },
  {
   "cell_type": "markdown",
   "metadata": {},
   "source": [
    "Now we have our highest adjusted r&sup2; is it's highest yet at 48.2% and all the p values for coefficients are significant"
   ]
  },
  {
   "cell_type": "markdown",
   "metadata": {},
   "source": [
    "Using some basic googling and common knowledge it seems like one of the main factors in price is location. As such let's create a new column that isolates the zipcode. We will do use by using the str method on the address column."
   ]
  },
  {
   "cell_type": "code",
   "execution_count": 40,
   "metadata": {
    "scrolled": true
   },
   "outputs": [
    {
     "data": {
      "text/plain": [
       "0    98055\n",
       "1    98133\n",
       "2    98178\n",
       "3    98118\n",
       "4    98027\n",
       "Name: zipcode, dtype: object"
      ]
     },
     "execution_count": 40,
     "metadata": {},
     "output_type": "execute_result"
    }
   ],
   "source": [
    "re['zipcode'] = re['address'].str[-20:-15]\n",
    "re.zipcode.head()"
   ]
  },
  {
   "cell_type": "code",
   "execution_count": 47,
   "metadata": {
    "scrolled": true
   },
   "outputs": [
    {
     "name": "stdout",
     "output_type": "stream",
     "text": [
      "                            OLS Regression Results                            \n",
      "==============================================================================\n",
      "Dep. Variable:                  price   R-squared:                       0.659\n",
      "Model:                            OLS   Adj. R-squared:                  0.654\n",
      "Method:                 Least Squares   F-statistic:                     139.1\n",
      "Date:                Mon, 20 Feb 2023   Prob (F-statistic):               0.00\n",
      "Time:                        17:07:42   Log-Likelihood:            -4.3925e+05\n",
      "No. Observations:               30111   AIC:                         8.793e+05\n",
      "Df Residuals:                   29698   BIC:                         8.828e+05\n",
      "Df Model:                         412                                         \n",
      "Covariance Type:            nonrobust                                         \n",
      "===========================================================================================\n",
      "                              coef    std err          t      P>|t|      [0.025      0.975]\n",
      "-------------------------------------------------------------------------------------------\n",
      "const                        3e+06   3.73e+05      8.040      0.000    2.27e+06    3.73e+06\n",
      "sqft_living               394.8094      5.299     74.508      0.000     384.423     405.195\n",
      "sqft_patio                 85.6320     14.283      5.995      0.000      57.637     113.627\n",
      "bedrooms                -4.617e+04   4272.797    -10.806      0.000   -5.45e+04   -3.78e+04\n",
      "yr_built                  436.9200    131.857      3.314      0.001     178.475     695.365\n",
      "yr_renovated               46.3294      7.804      5.937      0.000      31.033      61.626\n",
      "high_grade_yes           1.067e+06   2.58e+04     41.341      0.000    1.02e+06    1.12e+06\n",
      "view_AVERAGE             8.003e+04   1.31e+04      6.101      0.000    5.43e+04    1.06e+05\n",
      "view_EXCELLENT           8.135e+05   2.77e+04     29.373      0.000    7.59e+05    8.68e+05\n",
      "view_FAIR                1.913e+05   3.63e+04      5.272      0.000     1.2e+05    2.62e+05\n",
      "view_GOOD                 1.53e+05   1.91e+04      8.000      0.000    1.16e+05     1.9e+05\n",
      "waterfront_YES           7.651e+05   2.86e+04     26.779      0.000    7.09e+05    8.21e+05\n",
      "nuisance_YES            -3.967e+04   8395.727     -4.725      0.000   -5.61e+04   -2.32e+04\n",
      "good_condition_yes       5.201e+04   7205.823      7.218      0.000    3.79e+04    6.61e+04\n",
      "sewer_system_public_yes  2.419e+04   1.08e+04      2.236      0.025    2986.183    4.54e+04\n",
      "zipcode_01541           -3.138e+06   4.57e+05     -6.871      0.000   -4.03e+06   -2.24e+06\n",
      "zipcode_02066           -3.439e+06   2.97e+05    -11.589      0.000   -4.02e+06   -2.86e+06\n",
      "zipcode_02134           -3.596e+06   3.54e+05    -10.166      0.000   -4.29e+06    -2.9e+06\n",
      "zipcode_02149           -3.207e+06    5.9e+05     -5.438      0.000   -4.36e+06   -2.05e+06\n",
      "zipcode_02341           -2.934e+06   5.91e+05     -4.967      0.000   -4.09e+06   -1.78e+06\n",
      "zipcode_02568           -3.465e+06   3.73e+05     -9.291      0.000    -4.2e+06   -2.73e+06\n",
      "zipcode_02645            -3.26e+06    5.9e+05     -5.530      0.000   -4.42e+06    -2.1e+06\n",
      "zipcode_02790           -3.066e+06    5.9e+05     -5.200      0.000   -4.22e+06   -1.91e+06\n",
      "zipcode_02852           -3.465e+06   4.57e+05     -7.586      0.000   -4.36e+06   -2.57e+06\n",
      "zipcode_02916           -3.133e+06    5.9e+05     -5.313      0.000   -4.29e+06   -1.98e+06\n",
      "zipcode_07006           -3.573e+06   2.95e+05    -12.119      0.000   -4.15e+06      -3e+06\n",
      "zipcode_07031           -3.128e+06   4.03e+05     -7.765      0.000   -3.92e+06   -2.34e+06\n",
      "zipcode_07063           -3.481e+06   4.57e+05     -7.621      0.000   -4.38e+06   -2.59e+06\n",
      "zipcode_07079           -3.073e+06    5.9e+05     -5.211      0.000   -4.23e+06   -1.92e+06\n",
      "zipcode_07087           -2.956e+06    5.9e+05     -5.008      0.000   -4.11e+06    -1.8e+06\n",
      "zipcode_07103             -3.6e+06   3.23e+05    -11.147      0.000   -4.23e+06   -2.97e+06\n",
      "zipcode_07107           -2.831e+06    5.9e+05     -4.795      0.000   -3.99e+06   -1.67e+06\n",
      "zipcode_07111           -3.929e+06    5.9e+05     -6.664      0.000   -5.09e+06   -2.77e+06\n",
      "zipcode_07504           -2.904e+06   4.57e+05     -6.359      0.000    -3.8e+06   -2.01e+06\n",
      "zipcode_07513           -3.028e+06    5.9e+05     -5.135      0.000   -4.18e+06   -1.87e+06\n",
      "zipcode_07650            -3.36e+06    5.9e+05     -5.698      0.000   -4.52e+06    -2.2e+06\n",
      "zipcode_07712            -3.48e+06   3.23e+05    -10.776      0.000   -4.11e+06   -2.85e+06\n",
      "zipcode_07719            -3.37e+06   4.03e+05     -8.366      0.000   -4.16e+06   -2.58e+06\n",
      "zipcode_08008           -3.447e+06   2.99e+05    -11.527      0.000   -4.03e+06   -2.86e+06\n",
      "zipcode_08054           -3.518e+06   4.57e+05     -7.703      0.000   -4.41e+06   -2.62e+06\n",
      "zipcode_08096            -3.27e+06    5.9e+05     -5.546      0.000   -4.43e+06   -2.11e+06\n",
      "zipcode_08204           -1.512e+06    5.9e+05     -2.565      0.010   -2.67e+06   -3.57e+05\n",
      "zipcode_08260           -3.544e+06    5.9e+05     -6.010      0.000    -4.7e+06   -2.39e+06\n",
      "zipcode_08360           -3.447e+06   4.57e+05     -7.548      0.000   -4.34e+06   -2.55e+06\n",
      "zipcode_08520           -3.344e+06    5.9e+05     -5.671      0.000    -4.5e+06   -2.19e+06\n",
      "zipcode_08752           -3.616e+06   3.17e+05    -11.410      0.000   -4.24e+06   -2.99e+06\n",
      "zipcode_10011           -3.429e+06   4.03e+05     -8.512      0.000   -4.22e+06   -2.64e+06\n",
      "zipcode_10550           -3.615e+06    5.9e+05     -6.131      0.000   -4.77e+06   -2.46e+06\n",
      "zipcode_11105           -3.493e+06   4.03e+05     -8.673      0.000   -4.28e+06    -2.7e+06\n",
      "zipcode_11106           -3.064e+06   4.57e+05     -6.708      0.000   -3.96e+06   -2.17e+06\n",
      "zipcode_11204           -3.513e+06   4.03e+05     -8.720      0.000    -4.3e+06   -2.72e+06\n",
      "zipcode_11215           -1.959e+06    5.9e+05     -3.321      0.001   -3.11e+06   -8.03e+05\n",
      "zipcode_11360           -2.493e+06    5.9e+05     -4.227      0.000   -3.65e+06   -1.34e+06\n",
      "zipcode_11363            -3.18e+06    5.9e+05     -5.393      0.000   -4.34e+06   -2.02e+06\n",
      "zipcode_11369           -3.306e+06    5.9e+05     -5.607      0.000   -4.46e+06   -2.15e+06\n",
      "zipcode_11370            -3.46e+06   4.57e+05     -7.575      0.000   -4.36e+06   -2.56e+06\n",
      "zipcode_11373           -3.825e+06    5.9e+05     -6.486      0.000   -4.98e+06   -2.67e+06\n",
      "zipcode_11501           -3.641e+06   4.57e+05     -7.972      0.000   -4.54e+06   -2.75e+06\n",
      "zipcode_11510           -3.273e+06    5.9e+05     -5.551      0.000   -4.43e+06   -2.12e+06\n",
      "zipcode_11703           -3.554e+06   3.12e+05    -11.390      0.000   -4.17e+06   -2.94e+06\n",
      "zipcode_11704           -3.338e+06   2.92e+05    -11.451      0.000   -3.91e+06   -2.77e+06\n",
      "zipcode_11706            -3.23e+06   3.73e+05     -8.662      0.000   -3.96e+06    -2.5e+06\n",
      "zipcode_11717           -3.454e+06    5.9e+05     -5.858      0.000   -4.61e+06    -2.3e+06\n",
      "zipcode_11731           -3.379e+06   4.57e+05     -7.398      0.000   -4.27e+06   -2.48e+06\n",
      "zipcode_11762             -3.1e+06    5.9e+05     -5.257      0.000   -4.26e+06   -1.94e+06\n",
      "zipcode_11772           -3.905e+06   4.57e+05     -8.547      0.000    -4.8e+06   -3.01e+06\n",
      "zipcode_11980           -3.352e+06    5.9e+05     -5.686      0.000   -4.51e+06    -2.2e+06\n",
      "zipcode_12546           -3.596e+06   4.57e+05     -7.873      0.000   -4.49e+06    -2.7e+06\n",
      "zipcode_13205           -3.521e+06   4.03e+05     -8.742      0.000   -4.31e+06   -2.73e+06\n",
      "zipcode_15010           -3.611e+06    5.9e+05     -6.124      0.000   -4.77e+06   -2.45e+06\n",
      "zipcode_15064           -3.842e+06    5.9e+05     -6.515      0.000      -5e+06   -2.69e+06\n",
      "zipcode_15120           -3.516e+06   3.23e+05    -10.886      0.000   -4.15e+06   -2.88e+06\n",
      "zipcode_15223           -3.914e+06    5.9e+05     -6.637      0.000   -5.07e+06   -2.76e+06\n",
      "zipcode_15301           -3.645e+06    5.9e+05     -6.182      0.000    -4.8e+06   -2.49e+06\n",
      "zipcode_16001           -3.359e+06    5.9e+05     -5.697      0.000   -4.51e+06    -2.2e+06\n",
      "zipcode_16601           -3.524e+06   4.57e+05     -7.715      0.000   -4.42e+06   -2.63e+06\n",
      "zipcode_17111           -3.154e+06    5.9e+05     -5.348      0.000   -4.31e+06      -2e+06\n",
      "zipcode_17702             -3.7e+06    5.9e+05     -6.275      0.000   -4.86e+06   -2.54e+06\n",
      "zipcode_17922           -3.976e+06    5.9e+05     -6.740      0.000   -5.13e+06   -2.82e+06\n",
      "zipcode_18052           -2.064e+06    5.9e+05     -3.501      0.000   -3.22e+06   -9.08e+05\n",
      "zipcode_18960           -3.388e+06   4.57e+05     -7.417      0.000   -4.28e+06   -2.49e+06\n",
      "zipcode_19104            -3.43e+06   3.31e+05    -10.378      0.000   -4.08e+06   -2.78e+06\n",
      "zipcode_19129           -3.784e+06    5.9e+05     -6.418      0.000   -4.94e+06   -2.63e+06\n",
      "zipcode_19131           -2.713e+06    5.9e+05     -4.601      0.000   -3.87e+06   -1.56e+06\n",
      "zipcode_19139           -3.452e+06   4.57e+05     -7.557      0.000   -4.35e+06   -2.56e+06\n",
      "zipcode_19146           -4.218e+06   4.57e+05     -9.234      0.000   -5.11e+06   -3.32e+06\n",
      "zipcode_21702           -3.964e+06    5.9e+05     -6.723      0.000   -5.12e+06   -2.81e+06\n",
      "zipcode_25177           -3.511e+06    3.4e+05    -10.315      0.000   -4.18e+06   -2.84e+06\n",
      "zipcode_29405           -3.383e+06    5.9e+05     -5.737      0.000   -4.54e+06   -2.23e+06\n",
      "zipcode_29582           -3.843e+06   3.73e+05    -10.303      0.000   -4.57e+06   -3.11e+06\n",
      "zipcode_32609           -3.347e+06    5.9e+05     -5.677      0.000    -4.5e+06   -2.19e+06\n",
      "zipcode_33054           -3.846e+06   4.57e+05     -8.418      0.000   -4.74e+06   -2.95e+06\n",
      "zipcode_33138           -3.143e+06    5.9e+05     -5.330      0.000    -4.3e+06   -1.99e+06\n",
      "zipcode_33147           -3.565e+06   4.03e+05     -8.851      0.000   -4.35e+06   -2.78e+06\n",
      "zipcode_33179             -2.5e+06    5.9e+05     -4.240      0.000   -3.66e+06   -1.34e+06\n",
      "zipcode_33619           -3.477e+06   4.57e+05     -7.614      0.000   -4.37e+06   -2.58e+06\n",
      "zipcode_34116           -3.603e+06    5.9e+05     -6.108      0.000   -4.76e+06   -2.45e+06\n",
      "zipcode_34208           -3.426e+06    5.9e+05     -5.810      0.000   -4.58e+06   -2.27e+06\n",
      "zipcode_34470           -4.099e+06    5.9e+05     -6.951      0.000   -5.26e+06   -2.94e+06\n",
      "zipcode_34601           -3.227e+06    5.9e+05     -5.473      0.000   -4.38e+06   -2.07e+06\n",
      "zipcode_34698           -3.504e+06   3.73e+05     -9.397      0.000   -4.24e+06   -2.77e+06\n",
      "zipcode_43210           -3.487e+06   3.31e+05    -10.547      0.000   -4.13e+06   -2.84e+06\n",
      "zipcode_43211           -3.224e+06   3.17e+05    -10.174      0.000   -3.85e+06    -2.6e+06\n",
      "zipcode_44714           -3.911e+06    5.9e+05     -6.633      0.000   -5.07e+06   -2.76e+06\n",
      "zipcode_45039           -3.772e+06    5.9e+05     -6.397      0.000   -4.93e+06   -2.62e+06\n",
      "zipcode_45044           -3.593e+06   4.57e+05     -7.866      0.000   -4.49e+06    -2.7e+06\n",
      "zipcode_45403           -3.863e+06    5.9e+05     -6.550      0.000   -5.02e+06   -2.71e+06\n",
      "zipcode_45659           -3.718e+06   4.57e+05     -8.141      0.000   -4.61e+06   -2.82e+06\n",
      "zipcode_45831           -3.809e+06   4.03e+05     -9.457      0.000    -4.6e+06   -3.02e+06\n",
      "zipcode_45856           -3.063e+06    5.9e+05     -5.195      0.000   -4.22e+06   -1.91e+06\n",
      "zipcode_46032           -3.546e+06    5.9e+05     -6.013      0.000    -4.7e+06   -2.39e+06\n",
      "zipcode_46151           -3.439e+06   4.03e+05     -8.538      0.000   -4.23e+06   -2.65e+06\n",
      "zipcode_46312           -2.349e+06   4.57e+05     -5.141      0.000   -3.24e+06   -1.45e+06\n",
      "zipcode_46403           -3.733e+06   3.31e+05    -11.293      0.000   -4.38e+06   -3.09e+06\n",
      "zipcode_46554           -3.399e+06    5.9e+05     -5.764      0.000   -4.55e+06   -2.24e+06\n",
      "zipcode_46929           -3.549e+06    5.9e+05     -6.019      0.000    -4.7e+06   -2.39e+06\n",
      "zipcode_47060           -3.423e+06    5.9e+05     -5.804      0.000   -4.58e+06   -2.27e+06\n",
      "zipcode_47265           -3.359e+06   3.54e+05     -9.494      0.000   -4.05e+06   -2.67e+06\n",
      "zipcode_47272           -3.472e+06    5.9e+05     -5.888      0.000   -4.63e+06   -2.32e+06\n",
      "zipcode_47546           -3.585e+06    5.9e+05     -6.081      0.000   -4.74e+06   -2.43e+06\n",
      "zipcode_47575           -3.635e+06    5.9e+05     -6.165      0.000   -4.79e+06   -2.48e+06\n",
      "zipcode_47714           -3.277e+06   3.73e+05     -8.787      0.000   -4.01e+06   -2.55e+06\n",
      "zipcode_47805           -3.574e+06   4.57e+05     -7.826      0.000   -4.47e+06   -2.68e+06\n",
      "zipcode_48336           -3.538e+06    5.9e+05     -6.000      0.000   -4.69e+06   -2.38e+06\n",
      "zipcode_48503           -3.619e+06    5.9e+05     -6.138      0.000   -4.77e+06   -2.46e+06\n",
      "zipcode_49051           -3.682e+06   4.03e+05     -9.141      0.000   -4.47e+06   -2.89e+06\n",
      "zipcode_49090           -3.516e+06    5.9e+05     -5.963      0.000   -4.67e+06   -2.36e+06\n",
      "zipcode_49783            -2.86e+06    5.9e+05     -4.851      0.000   -4.02e+06    -1.7e+06\n",
      "zipcode_49858           -3.464e+06    5.9e+05     -5.875      0.000   -4.62e+06   -2.31e+06\n",
      "zipcode_50161           -2.629e+06    5.9e+05     -4.459      0.000   -3.78e+06   -1.47e+06\n",
      "zipcode_50237           -2.885e+06    5.9e+05     -4.892      0.000   -4.04e+06   -1.73e+06\n",
      "zipcode_50325            -3.57e+06    5.9e+05     -6.055      0.000   -4.73e+06   -2.41e+06\n",
      "zipcode_50644           -3.249e+06    5.9e+05     -5.510      0.000    -4.4e+06   -2.09e+06\n",
      "zipcode_52040           -3.544e+06   4.57e+05     -7.760      0.000   -4.44e+06   -2.65e+06\n",
      "zipcode_52172           -3.525e+06    5.9e+05     -5.979      0.000   -4.68e+06   -2.37e+06\n",
      "zipcode_52241           -3.011e+06    5.9e+05     -5.106      0.000   -4.17e+06   -1.85e+06\n",
      "zipcode_52405           -3.544e+06    3.4e+05    -10.411      0.000   -4.21e+06   -2.88e+06\n",
      "zipcode_52590           -3.061e+06    5.9e+05     -5.192      0.000   -4.22e+06   -1.91e+06\n",
      "zipcode_52732           -3.535e+06   4.03e+05     -8.777      0.000   -4.32e+06   -2.75e+06\n",
      "zipcode_53081           -3.541e+06   4.57e+05     -7.746      0.000   -4.44e+06   -2.64e+06\n",
      "zipcode_53095            -3.89e+06    5.9e+05     -6.597      0.000   -5.05e+06   -2.73e+06\n",
      "zipcode_53142           -3.632e+06    2.9e+05    -12.519      0.000    -4.2e+06   -3.06e+06\n",
      "zipcode_53158           -3.646e+06   3.17e+05    -11.505      0.000   -4.27e+06   -3.03e+06\n",
      "zipcode_53208           -5.924e+06    5.9e+05    -10.036      0.000   -7.08e+06   -4.77e+06\n",
      "zipcode_53213           -3.138e+06   4.57e+05     -6.870      0.000   -4.03e+06   -2.24e+06\n",
      "zipcode_53214           -4.078e+06    5.9e+05     -6.916      0.000   -5.23e+06   -2.92e+06\n",
      "zipcode_53215           -4.045e+06    5.9e+05     -6.860      0.000    -5.2e+06   -2.89e+06\n",
      "zipcode_54002           -3.431e+06    3.4e+05    -10.078      0.000    -4.1e+06   -2.76e+06\n",
      "zipcode_54007            -3.39e+06   4.57e+05     -7.421      0.000   -4.28e+06   -2.49e+06\n",
      "zipcode_54736           -3.527e+06    5.9e+05     -5.981      0.000   -4.68e+06   -2.37e+06\n",
      "zipcode_54751           -3.165e+06    3.4e+05     -9.297      0.000   -3.83e+06    -2.5e+06\n",
      "zipcode_55021           -3.496e+06    5.9e+05     -5.929      0.000   -4.65e+06   -2.34e+06\n",
      "zipcode_55063           -3.089e+06    5.9e+05     -5.238      0.000   -4.24e+06   -1.93e+06\n",
      "zipcode_55112           -3.477e+06    5.9e+05     -5.895      0.000   -4.63e+06   -2.32e+06\n",
      "zipcode_55117           -3.689e+06    5.9e+05     -6.257      0.000   -4.85e+06   -2.53e+06\n",
      "zipcode_55356           -3.498e+06    5.9e+05     -5.932      0.000   -4.65e+06   -2.34e+06\n",
      "zipcode_55369           -4.337e+06    5.9e+05     -7.353      0.000   -5.49e+06   -3.18e+06\n",
      "zipcode_55379            -3.05e+06    5.9e+05     -5.172      0.000   -4.21e+06   -1.89e+06\n",
      "zipcode_55382           -3.615e+06   4.57e+05     -7.915      0.000   -4.51e+06   -2.72e+06\n",
      "zipcode_55404           -3.558e+06   3.54e+05    -10.058      0.000   -4.25e+06   -2.87e+06\n",
      "zipcode_55406           -3.509e+06   3.54e+05     -9.919      0.000    -4.2e+06   -2.82e+06\n",
      "zipcode_55407           -3.569e+06   4.57e+05     -7.814      0.000   -4.46e+06   -2.67e+06\n",
      "zipcode_55411           -3.151e+06    5.9e+05     -5.344      0.000   -4.31e+06      -2e+06\n",
      "zipcode_55412           -3.362e+06    5.9e+05     -5.703      0.000   -4.52e+06   -2.21e+06\n",
      "zipcode_55417            -3.64e+06    3.4e+05    -10.690      0.000   -4.31e+06   -2.97e+06\n",
      "zipcode_55734            -1.93e+06    5.9e+05     -3.273      0.001   -3.09e+06   -7.74e+05\n",
      "zipcode_55901           -3.532e+06    2.9e+05    -12.175      0.000    -4.1e+06   -2.96e+06\n",
      "zipcode_55912           -4.123e+06    5.9e+05     -6.990      0.000   -5.28e+06   -2.97e+06\n",
      "zipcode_55929            -3.27e+06    5.9e+05     -5.546      0.000   -4.43e+06   -2.11e+06\n",
      "zipcode_56027           -3.999e+06    5.9e+05     -6.782      0.000   -5.15e+06   -2.84e+06\n",
      "zipcode_56251           -4.371e+06    5.9e+05     -7.412      0.000   -5.53e+06   -3.22e+06\n",
      "zipcode_56303           -3.093e+06    5.9e+05     -5.246      0.000   -4.25e+06   -1.94e+06\n",
      "zipcode_56364            -4.04e+06    5.9e+05     -6.851      0.000    -5.2e+06   -2.88e+06\n",
      "zipcode_56387           -2.908e+06    5.9e+05     -4.931      0.000   -4.06e+06   -1.75e+06\n",
      "zipcode_56464           -3.842e+06   4.57e+05     -8.412      0.000   -4.74e+06   -2.95e+06\n",
      "zipcode_56472           -3.785e+06    5.9e+05     -6.419      0.000   -4.94e+06   -2.63e+06\n",
      "zipcode_56537            -3.67e+06    5.9e+05     -6.225      0.000   -4.83e+06   -2.51e+06\n",
      "zipcode_56549           -4.066e+06    5.9e+05     -6.895      0.000   -5.22e+06   -2.91e+06\n",
      "zipcode_56560           -3.553e+06   4.57e+05     -7.780      0.000   -4.45e+06   -2.66e+06\n",
      "zipcode_58018           -2.892e+06    5.9e+05     -4.905      0.000   -4.05e+06   -1.74e+06\n",
      "zipcode_58042           -2.508e+06    5.9e+05     -4.254      0.000   -3.66e+06   -1.35e+06\n",
      "zipcode_58059           -2.945e+06    5.9e+05     -4.995      0.000    -4.1e+06   -1.79e+06\n",
      "zipcode_58102            -3.24e+06   4.57e+05     -7.094      0.000   -4.14e+06   -2.34e+06\n",
      "zipcode_58104           -3.536e+06   4.57e+05     -7.742      0.000   -4.43e+06   -2.64e+06\n",
      "zipcode_58203           -3.505e+06    5.9e+05     -5.945      0.000   -4.66e+06   -2.35e+06\n",
      "zipcode_58212           -2.547e+06    5.9e+05     -4.315      0.000    -3.7e+06   -1.39e+06\n",
      "zipcode_58261           -3.744e+06   3.73e+05    -10.035      0.000   -4.48e+06   -3.01e+06\n",
      "zipcode_58270            -3.82e+06    5.9e+05     -6.479      0.000   -4.98e+06   -2.66e+06\n",
      "zipcode_58490           -2.807e+06    5.9e+05     -4.760      0.000   -3.96e+06   -1.65e+06\n",
      "zipcode_58503           -4.065e+06    5.9e+05     -6.893      0.000   -5.22e+06   -2.91e+06\n",
      "zipcode_58504           -4.076e+06    5.9e+05     -6.912      0.000   -5.23e+06   -2.92e+06\n",
      "zipcode_58558           -4.006e+06   4.57e+05     -8.771      0.000    -4.9e+06   -3.11e+06\n",
      "zipcode_58572           -4.273e+06    5.9e+05     -7.243      0.000   -5.43e+06   -3.12e+06\n",
      "zipcode_58801            -2.72e+06    5.9e+05     -4.613      0.000   -3.88e+06   -1.56e+06\n",
      "zipcode_59102            -3.38e+06   4.57e+05     -7.401      0.000   -4.28e+06   -2.49e+06\n",
      "zipcode_59405           -3.535e+06   4.57e+05     -7.741      0.000   -4.43e+06   -2.64e+06\n",
      "zipcode_59501            -3.56e+06    5.9e+05     -6.038      0.000   -4.72e+06    -2.4e+06\n",
      "zipcode_60088           -3.716e+06   3.54e+05    -10.501      0.000   -4.41e+06   -3.02e+06\n",
      "zipcode_60155           -3.435e+06   4.57e+05     -7.520      0.000   -4.33e+06   -2.54e+06\n",
      "zipcode_60411           -4.161e+06    5.9e+05     -7.053      0.000   -5.32e+06      -3e+06\n",
      "zipcode_60546           -4.547e+06    5.9e+05     -7.707      0.000    -5.7e+06   -3.39e+06\n",
      "zipcode_61104           -3.556e+06    5.9e+05     -6.031      0.000   -4.71e+06    -2.4e+06\n",
      "zipcode_61108           -3.507e+06    5.9e+05     -5.948      0.000   -4.66e+06   -2.35e+06\n",
      "zipcode_61201            -3.59e+06   4.57e+05     -7.860      0.000   -4.49e+06   -2.69e+06\n",
      "zipcode_61244           -3.023e+06   3.17e+05     -9.539      0.000   -3.64e+06    -2.4e+06\n",
      "zipcode_61264           -3.249e+06    5.9e+05     -5.510      0.000    -4.4e+06   -2.09e+06\n",
      "zipcode_61933           -3.271e+06   4.57e+05     -7.161      0.000   -4.17e+06   -2.38e+06\n",
      "zipcode_62204            -3.18e+06    5.9e+05     -5.393      0.000   -4.34e+06   -2.02e+06\n",
      "zipcode_62205           -3.347e+06   4.57e+05     -7.328      0.000   -4.24e+06   -2.45e+06\n",
      "zipcode_62281           -3.469e+06    5.9e+05     -5.883      0.000   -4.62e+06   -2.31e+06\n",
      "zipcode_62401           -3.544e+06    5.9e+05     -6.011      0.000    -4.7e+06   -2.39e+06\n",
      "zipcode_62703           -3.593e+06    5.9e+05     -6.094      0.000   -4.75e+06   -2.44e+06\n",
      "zipcode_62859           -3.561e+06   4.03e+05     -8.842      0.000   -4.35e+06   -2.77e+06\n",
      "zipcode_62896           -3.376e+06   4.57e+05     -7.393      0.000   -4.27e+06   -2.48e+06\n",
      "zipcode_63014           -3.316e+06   4.57e+05     -7.259      0.000   -4.21e+06   -2.42e+06\n",
      "zipcode_63090           -3.245e+06   4.03e+05     -8.055      0.000   -4.03e+06   -2.46e+06\n",
      "zipcode_63301           -3.489e+06    5.9e+05     -5.918      0.000   -4.65e+06   -2.33e+06\n",
      "zipcode_63601            -3.49e+06    3.4e+05    -10.250      0.000   -4.16e+06   -2.82e+06\n",
      "zipcode_63624           -3.485e+06   3.17e+05    -10.997      0.000   -4.11e+06   -2.86e+06\n",
      "zipcode_63640           -3.505e+06   3.31e+05    -10.603      0.000   -4.15e+06   -2.86e+06\n",
      "zipcode_63653           -3.441e+06   2.93e+05    -11.740      0.000   -4.02e+06   -2.87e+06\n",
      "zipcode_64116           -3.427e+06    5.9e+05     -5.811      0.000   -4.58e+06   -2.27e+06\n",
      "zipcode_64119           -3.495e+06    3.4e+05    -10.267      0.000   -4.16e+06   -2.83e+06\n",
      "zipcode_64124           -3.688e+06   3.73e+05     -9.888      0.000   -4.42e+06   -2.96e+06\n",
      "zipcode_64156           -3.167e+06    5.9e+05     -5.371      0.000   -4.32e+06   -2.01e+06\n",
      "zipcode_64503           -3.516e+06    5.9e+05     -5.964      0.000   -4.67e+06   -2.36e+06\n",
      "zipcode_64641           -3.746e+06    5.9e+05     -6.352      0.000    -4.9e+06   -2.59e+06\n",
      "zipcode_64649           -4.691e+06   5.91e+05     -7.943      0.000   -5.85e+06   -3.53e+06\n",
      "zipcode_65049           -3.916e+06    5.9e+05     -6.642      0.000   -5.07e+06   -2.76e+06\n",
      "zipcode_66102            -3.28e+06    5.9e+05     -5.564      0.000   -4.44e+06   -2.12e+06\n",
      "zipcode_66104           -3.535e+06   4.57e+05     -7.739      0.000   -4.43e+06   -2.64e+06\n",
      "zipcode_66109           -3.812e+06   4.03e+05     -9.462      0.000    -4.6e+06   -3.02e+06\n",
      "zipcode_66503           -3.658e+06    5.9e+05     -6.204      0.000   -4.81e+06    -2.5e+06\n",
      "zipcode_67801            -1.75e+06   4.57e+05     -3.832      0.000   -2.65e+06   -8.55e+05\n",
      "zipcode_67846           -2.931e+06    5.9e+05     -4.970      0.000   -4.09e+06   -1.77e+06\n",
      "zipcode_68031           -3.559e+06    5.9e+05     -6.036      0.000   -4.72e+06    -2.4e+06\n",
      "zipcode_68048           -3.621e+06   2.93e+05    -12.352      0.000    -4.2e+06   -3.05e+06\n",
      "zipcode_68106            -3.54e+06   4.57e+05     -7.751      0.000   -4.44e+06   -2.64e+06\n",
      "zipcode_68123           -1.775e+06   2.77e+05     -6.413      0.000   -2.32e+06   -1.23e+06\n",
      "zipcode_68132           -3.087e+06   4.57e+05     -6.758      0.000   -3.98e+06   -2.19e+06\n",
      "zipcode_68133           -3.564e+06   3.31e+05    -10.782      0.000   -4.21e+06   -2.92e+06\n",
      "zipcode_68305           -4.758e+06   4.58e+05    -10.390      0.000   -5.66e+06   -3.86e+06\n",
      "zipcode_68307           -3.619e+06    5.9e+05     -6.138      0.000   -4.78e+06   -2.46e+06\n",
      "zipcode_68347           -3.607e+06    5.9e+05     -6.117      0.000   -4.76e+06   -2.45e+06\n",
      "zipcode_68354           -2.975e+06    5.9e+05     -5.043      0.000   -4.13e+06   -1.82e+06\n",
      "zipcode_68410           -3.574e+06   2.76e+05    -12.936      0.000   -4.12e+06   -3.03e+06\n",
      "zipcode_68455           -3.521e+06    5.9e+05     -5.972      0.000   -4.68e+06   -2.37e+06\n",
      "zipcode_68502           -3.569e+06    5.9e+05     -6.053      0.000   -4.73e+06   -2.41e+06\n",
      "zipcode_68504           -3.506e+06    5.9e+05     -5.945      0.000   -4.66e+06   -2.35e+06\n",
      "zipcode_68601           -3.699e+06   2.93e+05    -12.621      0.000   -4.27e+06   -3.12e+06\n",
      "zipcode_68628           -3.675e+06   4.57e+05     -8.046      0.000   -4.57e+06   -2.78e+06\n",
      "zipcode_68632           -3.639e+06    5.9e+05     -6.172      0.000   -4.79e+06   -2.48e+06\n",
      "zipcode_68643            -2.89e+06    5.9e+05     -4.901      0.000   -4.05e+06   -1.73e+06\n",
      "zipcode_68651           -3.683e+06    3.4e+05    -10.818      0.000   -4.35e+06   -3.02e+06\n",
      "zipcode_68652           -3.578e+06    5.9e+05     -6.068      0.000   -4.73e+06   -2.42e+06\n",
      "zipcode_68654           -3.724e+06   4.57e+05     -8.154      0.000   -4.62e+06   -2.83e+06\n",
      "zipcode_68660           -3.515e+06   4.57e+05     -7.697      0.000   -4.41e+06   -2.62e+06\n",
      "zipcode_68788           -3.514e+06   4.57e+05     -7.693      0.000   -4.41e+06   -2.62e+06\n",
      "zipcode_68826            -3.83e+06    5.9e+05     -6.495      0.000   -4.99e+06   -2.67e+06\n",
      "zipcode_68862           -3.697e+06    5.9e+05     -6.269      0.000   -4.85e+06   -2.54e+06\n",
      "zipcode_68970           -3.683e+06   4.57e+05     -8.063      0.000   -4.58e+06   -2.79e+06\n",
      "zipcode_68972           -3.501e+06    5.9e+05     -5.937      0.000   -4.66e+06   -2.34e+06\n",
      "zipcode_69154           -3.474e+06   4.57e+05     -7.606      0.000   -4.37e+06   -2.58e+06\n",
      "zipcode_70584           -3.658e+06   4.03e+05     -9.080      0.000   -4.45e+06   -2.87e+06\n",
      "zipcode_72751           -3.368e+06    5.9e+05     -5.712      0.000   -4.52e+06   -2.21e+06\n",
      "zipcode_73064           -3.556e+06    5.9e+05     -6.031      0.000   -4.71e+06    -2.4e+06\n",
      "zipcode_73118           -3.458e+06    5.9e+05     -5.864      0.000   -4.61e+06    -2.3e+06\n",
      "zipcode_75050           -3.686e+06   4.03e+05     -9.152      0.000   -4.48e+06    -2.9e+06\n",
      "zipcode_76205           -3.679e+06    5.9e+05     -6.240      0.000   -4.84e+06   -2.52e+06\n",
      "zipcode_78216            -3.52e+06   3.73e+05     -9.439      0.000   -4.25e+06   -2.79e+06\n",
      "zipcode_78257            -3.46e+06    5.9e+05     -5.868      0.000   -4.62e+06    -2.3e+06\n",
      "zipcode_79339           -3.193e+06    5.9e+05     -5.414      0.000   -4.35e+06   -2.04e+06\n",
      "zipcode_79423           -3.564e+06   4.57e+05     -7.804      0.000   -4.46e+06   -2.67e+06\n",
      "zipcode_80210           -3.598e+06    5.9e+05     -6.102      0.000   -4.75e+06   -2.44e+06\n",
      "zipcode_80238           -3.695e+06   4.57e+05     -8.091      0.000   -4.59e+06    -2.8e+06\n",
      "zipcode_80401           -3.425e+06   3.54e+05     -9.681      0.000   -4.12e+06   -2.73e+06\n",
      "zipcode_80501           -3.586e+06   2.97e+05    -12.082      0.000   -4.17e+06      -3e+06\n",
      "zipcode_80631           -3.967e+06   3.73e+05    -10.635      0.000    -4.7e+06   -3.24e+06\n",
      "zipcode_80904           -3.879e+06    5.9e+05     -6.578      0.000   -5.04e+06   -2.72e+06\n",
      "zipcode_83687            -3.67e+06    5.9e+05     -6.225      0.000   -4.83e+06   -2.51e+06\n",
      "zipcode_83712           -3.136e+06    5.9e+05     -5.318      0.000   -4.29e+06   -1.98e+06\n",
      "zipcode_84104           -3.636e+06    5.9e+05     -6.167      0.000   -4.79e+06   -2.48e+06\n",
      "zipcode_84115           -3.658e+06    5.9e+05     -6.204      0.000   -4.81e+06    -2.5e+06\n",
      "zipcode_84403           -3.994e+06    5.9e+05     -6.774      0.000   -5.15e+06   -2.84e+06\n",
      "zipcode_84790           -3.433e+06    5.9e+05     -5.821      0.000   -4.59e+06   -2.28e+06\n",
      "zipcode_85040           -3.565e+06    5.9e+05     -6.047      0.000   -4.72e+06   -2.41e+06\n",
      "zipcode_85207           -3.532e+06    5.9e+05     -5.991      0.000   -4.69e+06   -2.38e+06\n",
      "zipcode_85210           -3.437e+06    5.9e+05     -5.829      0.000   -4.59e+06   -2.28e+06\n",
      "zipcode_85295           -3.426e+06    5.9e+05     -5.810      0.000   -4.58e+06   -2.27e+06\n",
      "zipcode_85296           -4.013e+06    5.9e+05     -6.805      0.000   -5.17e+06   -2.86e+06\n",
      "zipcode_85705           -3.564e+06   4.03e+05     -8.849      0.000   -4.35e+06   -2.77e+06\n",
      "zipcode_87507           -3.507e+06    5.9e+05     -5.947      0.000   -4.66e+06   -2.35e+06\n",
      "zipcode_89108           -3.306e+06    5.9e+05     -5.607      0.000   -4.46e+06   -2.15e+06\n",
      "zipcode_90063           -3.679e+06    5.9e+05     -6.240      0.000   -4.83e+06   -2.52e+06\n",
      "zipcode_90605           -3.739e+06   4.57e+05     -8.187      0.000   -4.63e+06   -2.84e+06\n",
      "zipcode_91343           -3.574e+06   3.17e+05    -11.278      0.000    -4.2e+06   -2.95e+06\n",
      "zipcode_91730           -3.641e+06   2.77e+05    -13.149      0.000   -4.18e+06    -3.1e+06\n",
      "zipcode_91910           -3.526e+06   4.03e+05     -8.754      0.000   -4.32e+06   -2.74e+06\n",
      "zipcode_92250             -3.7e+06    5.9e+05     -6.275      0.000   -4.86e+06   -2.54e+06\n",
      "zipcode_92879           -3.531e+06   4.03e+05     -8.766      0.000   -4.32e+06   -2.74e+06\n",
      "zipcode_93033            -3.84e+06   4.57e+05     -8.407      0.000   -4.74e+06   -2.94e+06\n",
      "zipcode_93041           -3.834e+06    5.9e+05     -6.503      0.000   -4.99e+06   -2.68e+06\n",
      "zipcode_93523           -4.057e+06    5.9e+05     -6.881      0.000   -5.21e+06    -2.9e+06\n",
      "zipcode_94122           -3.068e+06    5.9e+05     -5.204      0.000   -4.22e+06   -1.91e+06\n",
      "zipcode_94403            -3.62e+06    5.9e+05     -6.139      0.000   -4.78e+06   -2.46e+06\n",
      "zipcode_94530           -3.608e+06    5.9e+05     -6.120      0.000   -4.76e+06   -2.45e+06\n",
      "zipcode_94607           -3.439e+06    5.9e+05     -5.832      0.000   -4.59e+06   -2.28e+06\n",
      "zipcode_95205           -3.268e+06    5.9e+05     -5.542      0.000   -4.42e+06   -2.11e+06\n",
      "zipcode_95240           -3.701e+06    5.9e+05     -6.274      0.000   -4.86e+06   -2.54e+06\n",
      "zipcode_95822           -3.493e+06   4.03e+05     -8.670      0.000   -4.28e+06    -2.7e+06\n",
      "zipcode_96064           -3.596e+06    3.4e+05    -10.563      0.000   -4.26e+06   -2.93e+06\n",
      "zipcode_96816           -3.498e+06   4.57e+05     -7.658      0.000   -4.39e+06    -2.6e+06\n",
      "zipcode_97006           -2.788e+06    5.9e+05     -4.727      0.000   -3.94e+06   -1.63e+06\n",
      "zipcode_97201           -3.813e+06   4.03e+05     -9.467      0.000    -4.6e+06   -3.02e+06\n",
      "zipcode_97210           -3.522e+06    5.9e+05     -5.973      0.000   -4.68e+06   -2.37e+06\n",
      "zipcode_97214           -3.553e+06   3.54e+05    -10.041      0.000   -4.25e+06   -2.86e+06\n",
      "zipcode_97221           -3.607e+06   2.95e+05    -12.234      0.000   -4.19e+06   -3.03e+06\n",
      "zipcode_97459           -3.554e+06   4.03e+05     -8.824      0.000   -4.34e+06   -2.76e+06\n",
      "zipcode_98001           -3.974e+06   2.65e+05    -15.015      0.000   -4.49e+06   -3.46e+06\n",
      "zipcode_98002           -3.919e+06   2.65e+05    -14.772      0.000   -4.44e+06    -3.4e+06\n",
      "zipcode_98003           -3.958e+06   2.65e+05    -14.936      0.000   -4.48e+06   -3.44e+06\n",
      "zipcode_98004           -1.707e+06   2.66e+05     -6.430      0.000   -2.23e+06   -1.19e+06\n",
      "zipcode_98005           -2.899e+06   2.67e+05    -10.864      0.000   -3.42e+06   -2.38e+06\n",
      "zipcode_98006           -3.202e+06   2.65e+05    -12.089      0.000   -3.72e+06   -2.68e+06\n",
      "zipcode_98007           -3.211e+06   2.67e+05    -12.016      0.000   -3.73e+06   -2.69e+06\n",
      "zipcode_98008           -3.183e+06   2.65e+05    -12.004      0.000    -3.7e+06   -2.66e+06\n",
      "zipcode_98010            -4.04e+06   2.65e+05    -15.218      0.000   -4.56e+06   -3.52e+06\n",
      "zipcode_98011           -3.494e+06   2.66e+05    -13.143      0.000   -4.01e+06   -2.97e+06\n",
      "zipcode_98014           -3.775e+06   2.67e+05    -14.128      0.000    -4.3e+06   -3.25e+06\n",
      "zipcode_98019            -3.72e+06   2.66e+05    -13.988      0.000   -4.24e+06    -3.2e+06\n",
      "zipcode_98022           -3.947e+06   2.65e+05    -14.897      0.000   -4.47e+06   -3.43e+06\n",
      "zipcode_98023           -4.012e+06   2.65e+05    -15.163      0.000   -4.53e+06   -3.49e+06\n",
      "zipcode_98024           -3.325e+06   2.69e+05    -12.381      0.000   -3.85e+06    -2.8e+06\n",
      "zipcode_98027           -3.466e+06   2.65e+05    -13.069      0.000   -3.99e+06   -2.95e+06\n",
      "zipcode_98028           -3.592e+06   2.65e+05    -13.541      0.000   -4.11e+06   -3.07e+06\n",
      "zipcode_98029           -3.275e+06   2.65e+05    -12.340      0.000    -3.8e+06   -2.76e+06\n",
      "zipcode_98030           -3.942e+06   2.65e+05    -14.866      0.000   -4.46e+06   -3.42e+06\n",
      "zipcode_98031           -3.919e+06   2.65e+05    -14.799      0.000   -4.44e+06    -3.4e+06\n",
      "zipcode_98032            -3.92e+06   2.67e+05    -14.700      0.000   -4.44e+06    -3.4e+06\n",
      "zipcode_98033           -2.789e+06   2.65e+05    -10.539      0.000   -3.31e+06   -2.27e+06\n",
      "zipcode_98034            -3.34e+06   2.65e+05    -12.626      0.000   -3.86e+06   -2.82e+06\n",
      "zipcode_98038           -3.879e+06   2.64e+05    -14.671      0.000    -4.4e+06   -3.36e+06\n",
      "zipcode_98039            -4.42e+05   2.73e+05     -1.620      0.105   -9.77e+05    9.26e+04\n",
      "zipcode_98040           -2.629e+06   2.65e+05     -9.907      0.000   -3.15e+06   -2.11e+06\n",
      "zipcode_98042           -3.951e+06   2.64e+05    -14.947      0.000   -4.47e+06   -3.43e+06\n",
      "zipcode_98045           -3.722e+06   2.65e+05    -14.047      0.000   -4.24e+06    -3.2e+06\n",
      "zipcode_98047           -3.903e+06   2.71e+05    -14.428      0.000   -4.43e+06   -3.37e+06\n",
      "zipcode_98050           -3.386e+06   4.57e+05     -7.409      0.000   -4.28e+06   -2.49e+06\n",
      "zipcode_98051           -3.886e+06   2.72e+05    -14.293      0.000   -4.42e+06   -3.35e+06\n",
      "zipcode_98052           -3.167e+06   2.65e+05    -11.963      0.000   -3.69e+06   -2.65e+06\n",
      "zipcode_98053           -3.341e+06   2.65e+05    -12.597      0.000   -3.86e+06   -2.82e+06\n",
      "zipcode_98055           -3.871e+06   2.66e+05    -14.543      0.000   -4.39e+06   -3.35e+06\n",
      "zipcode_98056           -3.656e+06   2.65e+05    -13.808      0.000   -4.18e+06   -3.14e+06\n",
      "zipcode_98057           -3.847e+06   2.68e+05    -14.353      0.000   -4.37e+06   -3.32e+06\n",
      "zipcode_98058           -3.871e+06   2.65e+05    -14.631      0.000   -4.39e+06   -3.35e+06\n",
      "zipcode_98059           -3.674e+06   2.65e+05    -13.878      0.000   -4.19e+06   -3.16e+06\n",
      "zipcode_98065           -3.642e+06   2.66e+05    -13.713      0.000   -4.16e+06   -3.12e+06\n",
      "zipcode_98070           -3.923e+06   2.67e+05    -14.707      0.000   -4.45e+06    -3.4e+06\n",
      "zipcode_98072           -3.362e+06   2.65e+05    -12.668      0.000   -3.88e+06   -2.84e+06\n",
      "zipcode_98074           -3.231e+06   2.65e+05    -12.189      0.000   -3.75e+06   -2.71e+06\n",
      "zipcode_98075           -3.251e+06   2.65e+05    -12.263      0.000   -3.77e+06   -2.73e+06\n",
      "zipcode_98077           -3.436e+06   2.66e+05    -12.910      0.000   -3.96e+06   -2.91e+06\n",
      "zipcode_98092            -4.01e+06   2.65e+05    -15.149      0.000   -4.53e+06   -3.49e+06\n",
      "zipcode_98102            -3.17e+06   2.67e+05    -11.849      0.000   -3.69e+06   -2.65e+06\n",
      "zipcode_98103            -3.35e+06   2.65e+05    -12.666      0.000   -3.87e+06   -2.83e+06\n",
      "zipcode_98105           -3.142e+06   2.66e+05    -11.832      0.000   -3.66e+06   -2.62e+06\n",
      "zipcode_98106           -3.715e+06   2.65e+05    -14.034      0.000   -4.23e+06    -3.2e+06\n",
      "zipcode_98107           -3.381e+06   2.65e+05    -12.762      0.000    -3.9e+06   -2.86e+06\n",
      "zipcode_98108            -3.68e+06   2.66e+05    -13.860      0.000    -4.2e+06   -3.16e+06\n",
      "zipcode_98109           -3.174e+06   2.68e+05    -11.845      0.000    -3.7e+06   -2.65e+06\n",
      "zipcode_98112           -2.895e+06   2.66e+05    -10.897      0.000   -3.42e+06   -2.37e+06\n",
      "zipcode_98115           -3.344e+06   2.65e+05    -12.641      0.000   -3.86e+06   -2.83e+06\n",
      "zipcode_98116           -3.482e+06   2.65e+05    -13.130      0.000      -4e+06   -2.96e+06\n",
      "zipcode_98117           -3.385e+06   2.65e+05    -12.798      0.000    -3.9e+06   -2.87e+06\n",
      "zipcode_98118            -3.65e+06   2.65e+05    -13.788      0.000   -4.17e+06   -3.13e+06\n",
      "zipcode_98119           -3.194e+06   2.66e+05    -12.003      0.000   -3.72e+06   -2.67e+06\n",
      "zipcode_98122           -3.279e+06   2.65e+05    -12.373      0.000    -3.8e+06   -2.76e+06\n",
      "zipcode_98125           -3.579e+06   2.65e+05    -13.510      0.000    -4.1e+06   -3.06e+06\n",
      "zipcode_98126           -3.634e+06   2.65e+05    -13.713      0.000   -4.15e+06   -3.11e+06\n",
      "zipcode_98133           -3.639e+06   2.65e+05    -13.753      0.000   -4.16e+06   -3.12e+06\n",
      "zipcode_98136           -3.516e+06   2.66e+05    -13.236      0.000   -4.04e+06      -3e+06\n",
      "zipcode_98144           -3.476e+06   2.65e+05    -13.116      0.000      -4e+06   -2.96e+06\n",
      "zipcode_98146            -3.71e+06   2.65e+05    -13.998      0.000   -4.23e+06   -3.19e+06\n",
      "zipcode_98148           -3.844e+06   2.69e+05    -14.271      0.000   -4.37e+06   -3.32e+06\n",
      "zipcode_98155            -3.58e+06   2.65e+05    -13.517      0.000    -4.1e+06   -3.06e+06\n",
      "zipcode_98166            -3.83e+06   2.65e+05    -14.433      0.000   -4.35e+06   -3.31e+06\n",
      "zipcode_98168           -3.826e+06   2.65e+05    -14.425      0.000   -4.35e+06   -3.31e+06\n",
      "zipcode_98177           -3.482e+06   2.66e+05    -13.109      0.000      -4e+06   -2.96e+06\n",
      "zipcode_98178           -3.843e+06   2.65e+05    -14.489      0.000   -4.36e+06   -3.32e+06\n",
      "zipcode_98188           -3.903e+06   2.66e+05    -14.648      0.000   -4.42e+06   -3.38e+06\n",
      "zipcode_98198           -3.907e+06   2.65e+05    -14.743      0.000   -4.43e+06   -3.39e+06\n",
      "zipcode_98199           -3.257e+06   2.65e+05    -12.282      0.000   -3.78e+06   -2.74e+06\n",
      "zipcode_98223           -3.038e+06   3.73e+05     -8.145      0.000   -3.77e+06   -2.31e+06\n",
      "zipcode_98224           -3.916e+06   4.03e+05     -9.714      0.000   -4.71e+06   -3.13e+06\n",
      "zipcode_98251           -3.746e+06   4.03e+05     -9.295      0.000   -4.54e+06   -2.96e+06\n",
      "zipcode_98270           -2.855e+06    5.9e+05     -4.840      0.000   -4.01e+06    -1.7e+06\n",
      "zipcode_98271           -3.642e+06   3.54e+05    -10.293      0.000   -4.34e+06   -2.95e+06\n",
      "zipcode_98272           -3.754e+06   3.41e+05    -11.022      0.000   -4.42e+06   -3.09e+06\n",
      "zipcode_98288           -4.116e+06   2.95e+05    -13.950      0.000   -4.69e+06   -3.54e+06\n",
      "zipcode_98296           -3.874e+06    5.9e+05     -6.571      0.000   -5.03e+06   -2.72e+06\n",
      "zipcode_98338           -3.704e+06   4.57e+05     -8.109      0.000    -4.6e+06   -2.81e+06\n",
      "zipcode_98354           -3.908e+06   2.86e+05    -13.674      0.000   -4.47e+06   -3.35e+06\n",
      "zipcode_98372           -3.391e+06   4.57e+05     -7.424      0.000   -4.29e+06    -2.5e+06\n",
      "zipcode_98387            -3.63e+06    5.9e+05     -6.156      0.000   -4.79e+06   -2.47e+06\n",
      "zipcode_98422           -4.601e+06    5.9e+05     -7.798      0.000   -5.76e+06   -3.44e+06\n",
      "zipcode_98663           -3.614e+06   4.57e+05     -7.913      0.000   -4.51e+06   -2.72e+06\n",
      "zipcode_99202           -3.486e+06    5.9e+05     -5.913      0.000   -4.64e+06   -2.33e+06\n",
      "zipcode_99203           -3.622e+06    5.9e+05     -6.142      0.000   -4.78e+06   -2.47e+06\n",
      "zipcode_99223           -3.545e+06    5.9e+05     -6.012      0.000    -4.7e+06   -2.39e+06\n",
      "zipcode_99403           -3.565e+06    5.9e+05     -6.046      0.000   -4.72e+06   -2.41e+06\n",
      "zipcode_99501           -3.431e+06    5.9e+05     -5.819      0.000   -4.59e+06   -2.28e+06\n",
      "zipcode_99701           -3.741e+06    5.9e+05     -6.345      0.000    -4.9e+06   -2.59e+06\n",
      "zipcode_99705           -3.856e+06    5.9e+05     -6.540      0.000   -5.01e+06    -2.7e+06\n",
      "==============================================================================\n",
      "Omnibus:                    50140.009   Durbin-Watson:                   1.829\n",
      "Prob(Omnibus):                  0.000   Jarque-Bera (JB):        162984382.189\n",
      "Skew:                          10.698   Prob(JB):                         0.00\n",
      "Kurtosis:                     362.790   Cond. No.                     5.21e+06\n",
      "==============================================================================\n",
      "\n",
      "Notes:\n",
      "[1] Standard Errors assume that the covariance matrix of the errors is correctly specified.\n",
      "[2] The condition number is large, 5.21e+06. This might indicate that there are\n",
      "strong multicollinearity or other numerical problems.\n"
     ]
    }
   ],
   "source": [
    "iterated_X6 = re[['sqft_living', 'sqft_patio', 'bedrooms', \n",
    "                  'yr_built', 'yr_renovated','high_grade', 'view', 'waterfront', 'nuisance', \n",
    "                  'good_condition','sewer_system_public', 'zipcode']]\n",
    "iterated_X6 = pd.get_dummies(iterated_X6, columns=['high_grade', 'view', 'waterfront',\n",
    "                                                   'nuisance', 'good_condition',\n",
    "                                                   'sewer_system_public', 'zipcode']) \n",
    "iterated_X6.drop(['view_NONE','high_grade_no', 'waterfront_NO', 'nuisance_NO',\n",
    "                  'good_condition_no', 'sewer_system_public_no', 'zipcode_99504'], \n",
    "                 axis=1, inplace=True)\n",
    "iterated_model6 = sm.OLS(y, sm.add_constant(iterated_X6))\n",
    "iterated_results6 = iterated_model6.fit()\n",
    "print(iterated_results6.summary())"
   ]
  },
  {
   "cell_type": "code",
   "execution_count": 42,
   "metadata": {
    "scrolled": true
   },
   "outputs": [
    {
     "name": "stdout",
     "output_type": "stream",
     "text": [
      "Iterated Model 5 Mae: 256787.05\n"
     ]
    }
   ],
   "source": [
    "iterated_results5_mae = mean_absolute_error(y, iterated_results5.predict(sm.add_constant(iterated_X5)))\n",
    "print(f'Iterated Model 5 Mae: {round(iterated_results5_mae,2)}')"
   ]
  },
  {
   "cell_type": "markdown",
   "metadata": {},
   "source": [
    "Aside from some scaling, centering, or other minor changes, this will be our final model.\n",
    "Our final model is describing the relationship between many factors numeric and categorical factors of a house, and price.\n",
    "\n",
    "Overall the model is statistically significant as it explains 65.4% of the variance in price. This number is quite an improvement over our old models.\n",
    "\n",
    "All of the individual parts of the model are still statistically significant except for 1 zipcode.\n",
    "\n",
    "The model is off by much less than the previous ones, as the MAE is now only \\\\$257K.  \n",
    "\n",
    "The constant has had a drastic change and is now roughly $3 million. Again, it is fine that this number doesn't make sense, as there is no such thing as a house with 0 sqft.\n",
    "\n",
    "The coefficients:\n",
    "- sqft_living               394.8094\n",
    "    - This value means that for an increase in 1 square foot of living area, price increases by \\\\$395.\n",
    "- sqft_patio                 85.6320\n",
    "    - This value means that for an increase in 1 square foot of patio area, price increases by \\\\$86.\n",
    "- bedrooms                -4.617e+04\n",
    "    - This means that for every bedroom in a house there is a decrease in price of around \\\\$46k. As we mentioned earlier this value is quite strange, as bedrooms has a positive relationship with price. It seems as though taking all the factors in the model into account this is what comes out. \n",
    "- yr_built                  436.9200\n",
    "    - This means that for every increase in year the price goes up by \\\\$436. In other words the newer the house is the more it will cost.\n",
    "- yr_renovated               46.3294\n",
    "    - Similar to the year the house was built, the newer the renovation done on the houes the more it will cost.\n",
    "- high_grade_yes           1.067e+06\n",
    "    - This category is indicating whether the house has a grade of 11 or above. Grades 11-13 indicate whether it's \"Excellent\", \"Luxury\", or \"Mansion\". If it is in one of these categories the price will go up by over \\\\$1 million dollars.\n",
    "- view_AVERAGE             8.003e+04\n",
    "- view_EXCELLENT           8.135e+05\n",
    "- view_FAIR                1.913e+05\n",
    "- view_GOOD                 1.53e+05\n",
    "    - These next 4 are describing the relationship that the houses view has on its price. They are all being compared to houses with no view at all. If the house does have a view from \"Average\" to \"Excellent\", this price will go up by \\\\$80k-\\\\$813k on average.\n",
    "- waterfront_YES           7.651e+05\n",
    "    - Whether the house is on a waterfront will also have a major impact on it's price, and on average will cause a price increase of \\\\$765k.\n",
    "- nuisance_YES            -3.967e+04\n",
    "    - Whether the house has traffic noise or other recorded nuisances will cause the price of the house to drop by \\\\$40k on average. \n",
    "- good_condition_yes       5.201e+04\n",
    "   - Whether the overall condition of the house it good or better, in terms of its maintenance will cause the house price to increase by \\\\$52k on average.\n",
    "- sewer_system_public_yes  2.419e+04  \n",
    "    - Whether the house uses a public sewer system in comparison to a private one will increase it's value on average by \\\\$24k. \n",
    "\n",
    "Most of the coefficients is this model are quiet logical, that they are positive vs negative. The only major standout is bedrooms, in that more bedrooms is generally viewed as having a positive impact on the houses price. The combination of this coefficient, a MAE of \\\\$257, and an adjusted r&sup2; not quite close enough to 1, indicates there is still room for improvement of the model. Perhaps given other data about the neighborhood of the houses, proximity to houses of worship, details whether the house is more kid friendly, etc. could allow us to create a more accurate model. "
   ]
  },
  {
   "cell_type": "markdown",
   "metadata": {},
   "source": [
    "## Final Model results\n",
    "\n",
    "Although we may do some slight tinkering with the model after this(ex: scaling, centering, or other minor changes), this will be our final model"
   ]
  },
  {
   "cell_type": "code",
   "execution_count": 43,
   "metadata": {
    "scrolled": true
   },
   "outputs": [
    {
     "data": {
      "image/png": "[encoded data removed]",
      "text/plain": [
       "<Figure size 1440x288 with 5 Axes>"
      ]
     },
     "metadata": {},
     "output_type": "display_data"
    }
   ],
   "source": [
    "#'sqft_living', 'sqft_patio', 'bedrooms', 'yr_built', 'yr_renovated'\n",
    "import matplotlib.pyplot as plt\n",
    "\n",
    "columns = ['sqft_living', 'sqft_patio', 'bedrooms', 'yr_built', 'yr_renovated']\n",
    "\n",
    "# Create a figure with 5 subplots\n",
    "fig, axs = plt.subplots(nrows=1, ncols=5, figsize=(20, 4))\n",
    "\n",
    "# Plot each scatterplot in a separate subplot\n",
    "for i, col in enumerate(columns):\n",
    "    axs[i].scatter(re[col], re['price'], alpha=0.3)\n",
    "    axs[i].set_xlabel(col)\n",
    "    axs[i].set_ylabel('Price')\n",
    "\n",
    "# Show the plot\n",
    "plt.show()"
   ]
  },
  {
   "cell_type": "code",
   "execution_count": 44,
   "metadata": {
    "scrolled": true
   },
   "outputs": [
    {
     "data": {
      "image/png": "[encoded data removed]",
      "text/plain": [
       "<Figure size 1440x360 with 6 Axes>"
      ]
     },
     "metadata": {},
     "output_type": "display_data"
    }
   ],
   "source": [
    "#everything except zipcode, as there are too many\n",
    "pd.options.mode.chained_assignment = None\n",
    "\n",
    "final_categorical_re = re.loc[:, ['high_grade', 'view', 'waterfront', 'nuisance',\n",
    "                                  'good_condition','sewer_system_public']]\n",
    "final_categorical_features = np.array(final_categorical_re.columns)\n",
    "fig, axes = plt.subplots(ncols=len(final_categorical_features), figsize=(20,5))\n",
    "\n",
    "for index, feature in enumerate(final_categorical_features):\n",
    "    re.groupby(feature).mean().plot.bar(\n",
    "        y=\"price\", ax=axes[index])"
   ]
  },
  {
   "cell_type": "code",
   "execution_count": 49,
   "metadata": {},
   "outputs": [
    {
     "data": {
      "image/png": "[encoded data removed]",
      "text/plain": [
       "<Figure size 1080x1080 with 14 Axes>"
      ]
     },
     "metadata": {},
     "output_type": "display_data"
    }
   ],
   "source": [
    "#everything except zipcode as there are too many\n",
    "\n",
    "fig = plt.figure(figsize=(15,15))\n",
    "sm.graphics.plot_partregress_grid(\n",
    "    iterated_results5,\n",
    "    exog_idx=list(iterated_X5.columns),\n",
    "    grid=(4,4),\n",
    "    fig=fig)\n",
    "plt.tight_layout()\n",
    "plt.show()"
   ]
  },
  {
   "cell_type": "code",
   "execution_count": 51,
   "metadata": {},
   "outputs": [
    {
     "data": {
      "image/png": "[encoded data removed]",
      "text/plain": [
       "<Figure size 720x360 with 1 Axes>"
      ]
     },
     "metadata": {},
     "output_type": "display_data"
    }
   ],
   "source": [
    "y.hist(bins=100, figsize=(10,5));"
   ]
  },
  {
   "cell_type": "code",
   "execution_count": 52,
   "metadata": {},
   "outputs": [],
   "source": [
    "#reducing order of magnitude. logs undo exponentiation"
   ]
  },
  {
   "cell_type": "code",
   "execution_count": 53,
   "metadata": {
    "scrolled": false
   },
   "outputs": [
    {
     "data": {
      "image/png": "[encoded data removed]",
      "text/plain": [
       "<Figure size 720x360 with 1 Axes>"
      ]
     },
     "metadata": {},
     "output_type": "display_data"
    }
   ],
   "source": [
    "y_log = np.log(y)\n",
    "y_log.hist(bins=100, figsize=(10,5));"
   ]
  },
  {
   "cell_type": "code",
   "execution_count": 54,
   "metadata": {
    "scrolled": true
   },
   "outputs": [
    {
     "name": "stdout",
     "output_type": "stream",
     "text": [
      "                            OLS Regression Results                            \n",
      "==============================================================================\n",
      "Dep. Variable:                  price   R-squared:                       0.686\n",
      "Model:                            OLS   Adj. R-squared:                  0.681\n",
      "Method:                 Least Squares   F-statistic:                     157.2\n",
      "Date:                Mon, 20 Feb 2023   Prob (F-statistic):               0.00\n",
      "Time:                        14:20:37   Log-Likelihood:                -9009.8\n",
      "No. Observations:               30111   AIC:                         1.885e+04\n",
      "Df Residuals:                   29698   BIC:                         2.228e+04\n",
      "Df Model:                         412                                         \n",
      "Covariance Type:            nonrobust                                         \n",
      "===========================================================================================\n",
      "                              coef    std err          t      P>|t|      [0.025      0.975]\n",
      "-------------------------------------------------------------------------------------------\n",
      "const                      12.2092      0.233     52.511      0.000      11.753      12.665\n",
      "sqft_living                 0.0003    3.3e-06     80.903      0.000       0.000       0.000\n",
      "sqft_patio               6.213e-05    8.9e-06      6.981      0.000    4.47e-05    7.96e-05\n",
      "bedrooms                    0.0028      0.003      1.061      0.288      -0.002       0.008\n",
      "yr_built                    0.0010   8.22e-05     12.584      0.000       0.001       0.001\n",
      "yr_renovated             4.457e-05   4.86e-06      9.164      0.000     3.5e-05    5.41e-05\n",
      "high_grade_yes              0.0500      0.016      3.108      0.002       0.018       0.082\n",
      "view_AVERAGE                0.1034      0.008     12.646      0.000       0.087       0.119\n",
      "view_EXCELLENT              0.3434      0.017     19.900      0.000       0.310       0.377\n",
      "view_FAIR                   0.1677      0.023      7.417      0.000       0.123       0.212\n",
      "view_GOOD                   0.1618      0.012     13.573      0.000       0.138       0.185\n",
      "waterfront_YES              0.2361      0.018     13.262      0.000       0.201       0.271\n",
      "nuisance_YES               -0.0535      0.005    -10.221      0.000      -0.064      -0.043\n",
      "good_condition_yes          0.0746      0.004     16.612      0.000       0.066       0.083\n",
      "sewer_system_public_yes     0.0061      0.007      0.898      0.369      -0.007       0.019\n",
      "zipcode_01541              -0.6874      0.285     -2.415      0.016      -1.245      -0.130\n",
      "zipcode_02066              -0.9892      0.185     -5.349      0.000      -1.352      -0.627\n",
      "zipcode_02134              -1.1831      0.220     -5.367      0.000      -1.615      -0.751\n",
      "zipcode_02149              -0.7317      0.367     -1.991      0.046      -1.452      -0.011\n",
      "zipcode_02341              -0.6807      0.368     -1.849      0.064      -1.402       0.041\n",
      "zipcode_02568              -0.9899      0.232     -4.260      0.000      -1.445      -0.534\n",
      "zipcode_02645              -0.7922      0.367     -2.156      0.031      -1.512      -0.072\n",
      "zipcode_02790              -0.6342      0.367     -1.726      0.084      -1.354       0.086\n",
      "zipcode_02852              -1.0775      0.285     -3.786      0.000      -1.635      -0.520\n",
      "zipcode_02916              -0.6899      0.367     -1.878      0.060      -1.410       0.030\n",
      "zipcode_07006              -1.1936      0.184     -6.496      0.000      -1.554      -0.833\n",
      "zipcode_07031              -0.6489      0.251     -2.585      0.010      -1.141      -0.157\n",
      "zipcode_07063              -1.0307      0.285     -3.621      0.000      -1.589      -0.473\n",
      "zipcode_07079              -0.6102      0.367     -1.661      0.097      -1.330       0.110\n",
      "zipcode_07087              -0.5064      0.368     -1.377      0.169      -1.227       0.214\n",
      "zipcode_07103              -1.2735      0.201     -6.328      0.000      -1.668      -0.879\n",
      "zipcode_07107              -0.4904      0.368     -1.333      0.183      -1.211       0.231\n",
      "zipcode_07111              -1.4866      0.367     -4.046      0.000      -2.207      -0.766\n",
      "zipcode_07504              -0.7091      0.285     -2.491      0.013      -1.267      -0.151\n",
      "zipcode_07513              -0.6192      0.367     -1.685      0.092      -1.339       0.101\n",
      "zipcode_07650              -0.8812      0.367     -2.398      0.016      -1.601      -0.161\n",
      "zipcode_07712              -1.0823      0.201     -5.378      0.000      -1.477      -0.688\n",
      "zipcode_07719              -0.9513      0.251     -3.790      0.000      -1.443      -0.459\n",
      "zipcode_08008              -0.9614      0.186     -5.160      0.000      -1.327      -0.596\n",
      "zipcode_08054              -1.0588      0.285     -3.720      0.000      -1.617      -0.501\n",
      "zipcode_08096              -0.7987      0.367     -2.174      0.030      -1.519      -0.078\n",
      "zipcode_08204              -0.1121      0.367     -0.305      0.760      -0.832       0.608\n",
      "zipcode_08260              -1.1010      0.367     -2.996      0.003      -1.821      -0.381\n",
      "zipcode_08360              -0.9951      0.285     -3.496      0.000      -1.553      -0.437\n",
      "zipcode_08520              -0.8392      0.367     -2.284      0.022      -1.559      -0.119\n",
      "zipcode_08752              -1.2104      0.197     -6.129      0.000      -1.598      -0.823\n",
      "zipcode_10011              -0.9793      0.251     -3.902      0.000      -1.471      -0.487\n",
      "zipcode_10550              -1.3540      0.367     -3.685      0.000      -2.074      -0.634\n",
      "zipcode_11105              -1.0832      0.251     -4.315      0.000      -1.575      -0.591\n",
      "zipcode_11106              -0.7083      0.285     -2.489      0.013      -1.266      -0.150\n",
      "zipcode_11204              -1.1213      0.251     -4.467      0.000      -1.613      -0.629\n",
      "zipcode_11215              -0.1407      0.367     -0.383      0.702      -0.861       0.579\n",
      "zipcode_11360              -0.4762      0.367     -1.296      0.195      -1.196       0.244\n",
      "zipcode_11363              -0.7127      0.367     -1.940      0.052      -1.433       0.007\n",
      "zipcode_11369              -0.7716      0.367     -2.100      0.036      -1.492      -0.051\n",
      "zipcode_11370              -1.0692      0.285     -3.756      0.000      -1.627      -0.511\n",
      "zipcode_11373              -1.3163      0.367     -3.582      0.000      -2.037      -0.596\n",
      "zipcode_11501              -1.3939      0.285     -4.897      0.000      -1.952      -0.836\n",
      "zipcode_11510              -0.7920      0.367     -2.156      0.031      -1.512      -0.072\n",
      "zipcode_11703              -1.1099      0.194     -5.708      0.000      -1.491      -0.729\n",
      "zipcode_11704              -0.8795      0.182     -4.841      0.000      -1.236      -0.523\n",
      "zipcode_11706              -0.8396      0.232     -3.613      0.000      -1.295      -0.384\n",
      "zipcode_11717              -0.9915      0.367     -2.698      0.007      -1.712      -0.271\n",
      "zipcode_11731              -0.8946      0.285     -3.143      0.002      -1.452      -0.337\n",
      "zipcode_11762              -0.6279      0.367     -1.709      0.087      -1.348       0.092\n",
      "zipcode_11772              -2.0333      0.285     -7.143      0.000      -2.591      -1.475\n",
      "zipcode_11980              -0.8568      0.367     -2.332      0.020      -1.577      -0.137\n",
      "zipcode_12546              -1.1677      0.285     -4.102      0.000      -1.726      -0.610\n",
      "zipcode_13205              -1.0481      0.251     -4.175      0.000      -1.540      -0.556\n",
      "zipcode_15010              -1.1326      0.367     -3.082      0.002      -1.853      -0.412\n",
      "zipcode_15064              -1.6401      0.367     -4.463      0.000      -2.360      -0.920\n",
      "zipcode_15120              -1.0648      0.201     -5.291      0.000      -1.459      -0.670\n",
      "zipcode_15223              -1.5657      0.367     -4.261      0.000      -2.286      -0.845\n",
      "zipcode_15301              -1.1995      0.367     -3.265      0.001      -1.920      -0.479\n",
      "zipcode_16001              -0.9159      0.367     -2.493      0.013      -1.636      -0.196\n",
      "zipcode_16601              -1.1373      0.285     -3.996      0.000      -1.695      -0.579\n",
      "zipcode_17111              -0.7012      0.367     -1.908      0.056      -1.421       0.019\n",
      "zipcode_17702              -1.4085      0.367     -3.833      0.000      -2.129      -0.688\n",
      "zipcode_17922              -1.6390      0.368     -4.458      0.000      -2.360      -0.918\n",
      "zipcode_18052              -0.1655      0.367     -0.450      0.653      -0.886       0.555\n",
      "zipcode_18960              -0.8873      0.285     -3.118      0.002      -1.445      -0.329\n",
      "zipcode_19104              -0.9675      0.206     -4.697      0.000      -1.371      -0.564\n",
      "zipcode_19129              -1.4410      0.367     -3.922      0.000      -2.161      -0.721\n",
      "zipcode_19131              -0.5016      0.367     -1.365      0.172      -1.222       0.219\n",
      "zipcode_19139              -0.9414      0.285     -3.308      0.001      -1.499      -0.384\n",
      "zipcode_19146              -1.9659      0.285     -6.907      0.000      -2.524      -1.408\n",
      "zipcode_21702              -1.4391      0.367     -3.916      0.000      -2.159      -0.719\n",
      "zipcode_25177              -1.0731      0.212     -5.058      0.000      -1.489      -0.657\n",
      "zipcode_29405              -0.9246      0.367     -2.516      0.012      -1.645      -0.204\n",
      "zipcode_29582              -1.3018      0.232     -5.601      0.000      -1.757      -0.846\n",
      "zipcode_32609              -0.7848      0.367     -2.136      0.033      -1.505      -0.065\n",
      "zipcode_33054              -1.2609      0.285     -4.429      0.000      -1.819      -0.703\n",
      "zipcode_33138              -0.6593      0.367     -1.794      0.073      -1.380       0.061\n",
      "zipcode_33147              -1.0966      0.251     -4.369      0.000      -1.589      -0.605\n",
      "zipcode_33179              -0.4823      0.367     -1.313      0.189      -1.203       0.238\n",
      "zipcode_33619              -1.0431      0.285     -3.665      0.000      -1.601      -0.485\n",
      "zipcode_34116              -1.1071      0.368     -3.012      0.003      -1.827      -0.387\n",
      "zipcode_34208              -0.8916      0.367     -2.427      0.015      -1.612      -0.171\n",
      "zipcode_34470              -1.7068      0.368     -4.644      0.000      -2.427      -0.986\n",
      "zipcode_34601              -0.7821      0.367     -2.129      0.033      -1.502      -0.062\n",
      "zipcode_34698              -1.0452      0.232     -4.498      0.000      -1.501      -0.590\n",
      "zipcode_43210              -1.0375      0.206     -5.037      0.000      -1.441      -0.634\n",
      "zipcode_43211              -0.9404      0.197     -4.762      0.000      -1.327      -0.553\n",
      "zipcode_44714              -1.4590      0.367     -3.971      0.000      -2.179      -0.739\n",
      "zipcode_45039              -1.5227      0.367     -4.144      0.000      -2.243      -0.803\n",
      "zipcode_45044              -1.1174      0.285     -3.926      0.000      -1.675      -0.560\n",
      "zipcode_45403              -1.4103      0.368     -3.837      0.000      -2.131      -0.690\n",
      "zipcode_45659              -1.3502      0.285     -4.744      0.000      -1.908      -0.792\n",
      "zipcode_45831              -1.3211      0.251     -5.263      0.000      -1.813      -0.829\n",
      "zipcode_45856              -0.6330      0.367     -1.723      0.085      -1.353       0.087\n",
      "zipcode_46032              -1.0527      0.367     -2.865      0.004      -1.773      -0.332\n",
      "zipcode_46151              -0.9413      0.251     -3.750      0.000      -1.433      -0.449\n",
      "zipcode_46312              -0.4336      0.285     -1.523      0.128      -0.992       0.124\n",
      "zipcode_46403              -1.4935      0.206     -7.250      0.000      -1.897      -1.090\n",
      "zipcode_46554              -0.8965      0.367     -2.440      0.015      -1.617      -0.176\n",
      "zipcode_46929              -1.0706      0.367     -2.914      0.004      -1.791      -0.350\n",
      "zipcode_47060              -1.0295      0.367     -2.802      0.005      -1.750      -0.309\n",
      "zipcode_47265              -0.8892      0.220     -4.033      0.000      -1.321      -0.457\n",
      "zipcode_47272              -0.9620      0.367     -2.618      0.009      -1.682      -0.242\n",
      "zipcode_47546              -1.2071      0.367     -3.285      0.001      -1.927      -0.487\n",
      "zipcode_47575              -1.2472      0.367     -3.394      0.001      -1.967      -0.527\n",
      "zipcode_47714              -0.7837      0.232     -3.372      0.001      -1.239      -0.328\n",
      "zipcode_47805              -1.1519      0.285     -4.047      0.000      -1.710      -0.594\n",
      "zipcode_48336              -1.2008      0.367     -3.268      0.001      -1.921      -0.481\n",
      "zipcode_48503              -1.2228      0.367     -3.328      0.001      -1.943      -0.503\n",
      "zipcode_49051              -1.4246      0.251     -5.675      0.000      -1.917      -0.933\n",
      "zipcode_49090              -1.0729      0.367     -2.920      0.004      -1.793      -0.353\n",
      "zipcode_49783              -0.4881      0.367     -1.328      0.184      -1.208       0.232\n",
      "zipcode_49858              -0.9621      0.367     -2.618      0.009      -1.682      -0.242\n",
      "zipcode_50161              -0.4828      0.367     -1.314      0.189      -1.203       0.237\n",
      "zipcode_50237              -0.7176      0.368     -1.953      0.051      -1.438       0.003\n",
      "zipcode_50325              -1.1500      0.367     -3.130      0.002      -1.870      -0.430\n",
      "zipcode_50644              -0.7907      0.367     -2.152      0.031      -1.511      -0.070\n",
      "zipcode_52040              -1.0949      0.285     -3.847      0.000      -1.653      -0.537\n",
      "zipcode_52172              -1.0011      0.367     -2.724      0.006      -1.721      -0.281\n",
      "zipcode_52241              -0.6323      0.367     -1.721      0.085      -1.353       0.088\n",
      "zipcode_52405              -1.1009      0.212     -5.190      0.000      -1.517      -0.685\n",
      "zipcode_52590              -0.6195      0.367     -1.686      0.092      -1.340       0.101\n",
      "zipcode_52732              -1.0798      0.251     -4.302      0.000      -1.572      -0.588\n",
      "zipcode_53081              -1.0644      0.285     -3.736      0.000      -1.623      -0.506\n",
      "zipcode_53095              -1.5922      0.367     -4.333      0.000      -2.312      -0.872\n",
      "zipcode_53142              -1.2575      0.181     -6.955      0.000      -1.612      -0.903\n",
      "zipcode_53158              -1.2077      0.198     -6.115      0.000      -1.595      -0.821\n",
      "zipcode_53208              -2.0913      0.368     -5.686      0.000      -2.812      -1.370\n",
      "zipcode_53213              -0.6955      0.285     -2.444      0.015      -1.253      -0.138\n",
      "zipcode_53214              -1.4508      0.367     -3.948      0.000      -2.171      -0.731\n",
      "zipcode_53215              -1.4724      0.367     -4.007      0.000      -2.193      -0.752\n",
      "zipcode_54002              -0.9879      0.212     -4.657      0.000      -1.404      -0.572\n",
      "zipcode_54007              -0.9112      0.285     -3.201      0.001      -1.469      -0.353\n",
      "zipcode_54736              -1.1538      0.367     -3.140      0.002      -1.874      -0.434\n",
      "zipcode_54751              -0.7492      0.212     -3.531      0.000      -1.165      -0.333\n",
      "zipcode_55021              -0.9620      0.367     -2.618      0.009      -1.682      -0.242\n",
      "zipcode_55063              -0.7319      0.367     -1.992      0.046      -1.452      -0.012\n",
      "zipcode_55112              -1.0721      0.368     -2.917      0.004      -1.792      -0.352\n",
      "zipcode_55117              -1.2793      0.367     -3.482      0.000      -2.000      -0.559\n",
      "zipcode_55356              -1.0077      0.367     -2.743      0.006      -1.728      -0.288\n",
      "zipcode_55369              -1.5886      0.368     -4.323      0.000      -2.309      -0.868\n",
      "zipcode_55379              -0.6514      0.367     -1.773      0.076      -1.372       0.069\n",
      "zipcode_55382              -1.1726      0.285     -4.120      0.000      -1.730      -0.615\n",
      "zipcode_55404              -1.0891      0.220     -4.940      0.000      -1.521      -0.657\n",
      "zipcode_55406              -1.0522      0.220     -4.772      0.000      -1.484      -0.620\n",
      "zipcode_55407              -1.0606      0.285     -3.727      0.000      -1.618      -0.503\n",
      "zipcode_55411              -0.6890      0.367     -1.875      0.061      -1.409       0.031\n",
      "zipcode_55412              -0.8151      0.367     -2.218      0.027      -1.535      -0.095\n",
      "zipcode_55417              -1.1902      0.212     -5.610      0.000      -1.606      -0.774\n",
      "zipcode_55734              -0.2877      0.367     -0.783      0.434      -1.008       0.433\n",
      "zipcode_55901              -1.0988      0.181     -6.077      0.000      -1.453      -0.744\n",
      "zipcode_55912              -1.4964      0.368     -4.071      0.000      -2.217      -0.776\n",
      "zipcode_55929              -0.8097      0.367     -2.204      0.028      -1.530      -0.089\n",
      "zipcode_56027              -1.7126      0.367     -4.661      0.000      -2.433      -0.992\n",
      "zipcode_56251              -1.9152      0.368     -5.211      0.000      -2.636      -1.195\n",
      "zipcode_56303              -0.6239      0.367     -1.698      0.090      -1.344       0.096\n",
      "zipcode_56364              -1.6542      0.367     -4.502      0.000      -2.374      -0.934\n",
      "zipcode_56387              -0.6833      0.367     -1.859      0.063      -1.404       0.037\n",
      "zipcode_56464              -1.4559      0.285     -5.115      0.000      -2.014      -0.898\n",
      "zipcode_56472              -1.1666      0.367     -3.175      0.002      -1.887      -0.446\n",
      "zipcode_56537              -1.2277      0.367     -3.341      0.001      -1.948      -0.508\n",
      "zipcode_56549              -1.4922      0.367     -4.061      0.000      -2.212      -0.772\n",
      "zipcode_56560              -1.0535      0.285     -3.701      0.000      -1.611      -0.496\n",
      "zipcode_58018              -0.6373      0.367     -1.734      0.083      -1.358       0.083\n",
      "zipcode_58042              -0.4465      0.367     -1.215      0.224      -1.167       0.274\n",
      "zipcode_58059              -0.6473      0.367     -1.762      0.078      -1.368       0.073\n",
      "zipcode_58102              -0.7732      0.285     -2.717      0.007      -1.331      -0.215\n",
      "zipcode_58104              -1.0236      0.285     -3.596      0.000      -1.581      -0.466\n",
      "zipcode_58203              -1.0581      0.367     -2.880      0.004      -1.778      -0.338\n",
      "zipcode_58212              -0.4284      0.368     -1.165      0.244      -1.149       0.292\n",
      "zipcode_58261              -1.1740      0.232     -5.050      0.000      -1.630      -0.718\n",
      "zipcode_58270              -1.3467      0.367     -3.665      0.000      -2.067      -0.627\n",
      "zipcode_58490              -0.6735      0.368     -1.833      0.067      -1.394       0.047\n",
      "zipcode_58503              -1.4182      0.367     -3.859      0.000      -2.138      -0.698\n",
      "zipcode_58504              -1.4128      0.367     -3.845      0.000      -2.133      -0.693\n",
      "zipcode_58558              -1.5078      0.285     -5.297      0.000      -2.066      -0.950\n",
      "zipcode_58572              -1.5719      0.368     -4.275      0.000      -2.292      -0.851\n",
      "zipcode_58801              -0.4654      0.367     -1.266      0.205      -1.186       0.255\n",
      "zipcode_59102              -0.9049      0.285     -3.179      0.001      -1.463      -0.347\n",
      "zipcode_59405              -1.0239      0.285     -3.598      0.000      -1.582      -0.466\n",
      "zipcode_59501              -1.0966      0.367     -2.985      0.003      -1.817      -0.376\n",
      "zipcode_60088              -1.2301      0.220     -5.579      0.000      -1.662      -0.798\n",
      "zipcode_60155              -1.0202      0.285     -3.585      0.000      -1.578      -0.462\n",
      "zipcode_60411              -1.6720      0.368     -4.548      0.000      -2.393      -0.951\n",
      "zipcode_60546              -4.1626      0.368    -11.322      0.000      -4.883      -3.442\n",
      "zipcode_61104              -1.1554      0.367     -3.144      0.002      -1.876      -0.435\n",
      "zipcode_61108              -1.0752      0.367     -2.926      0.003      -1.795      -0.355\n",
      "zipcode_61201              -1.1409      0.285     -4.008      0.000      -1.699      -0.583\n",
      "zipcode_61244              -0.7796      0.197     -3.947      0.000      -1.167      -0.393\n",
      "zipcode_61264              -0.8225      0.367     -2.238      0.025      -1.543      -0.102\n",
      "zipcode_61933              -0.8040      0.285     -2.825      0.005      -1.362      -0.246\n",
      "zipcode_62204              -0.7369      0.367     -2.005      0.045      -1.457      -0.017\n",
      "zipcode_62205              -0.8957      0.285     -3.147      0.002      -1.454      -0.338\n",
      "zipcode_62281              -0.9960      0.367     -2.711      0.007      -1.716      -0.276\n",
      "zipcode_62401              -1.1201      0.367     -3.048      0.002      -1.840      -0.400\n",
      "zipcode_62703              -1.1654      0.367     -3.172      0.002      -1.886      -0.445\n",
      "zipcode_62859              -1.1246      0.251     -4.480      0.000      -1.617      -0.633\n",
      "zipcode_62896              -0.9324      0.285     -3.276      0.001      -1.490      -0.375\n",
      "zipcode_63014              -0.8458      0.285     -2.971      0.003      -1.404      -0.288\n",
      "zipcode_63090              -0.8107      0.251     -3.230      0.001      -1.303      -0.319\n",
      "zipcode_63301              -0.9938      0.367     -2.705      0.007      -1.714      -0.274\n",
      "zipcode_63601              -1.0690      0.212     -5.039      0.000      -1.485      -0.653\n",
      "zipcode_63624              -1.0443      0.198     -5.287      0.000      -1.431      -0.657\n",
      "zipcode_63640              -1.1276      0.206     -5.474      0.000      -1.531      -0.724\n",
      "zipcode_63653              -0.9889      0.183     -5.415      0.000      -1.347      -0.631\n",
      "zipcode_64116              -0.9594      0.368     -2.610      0.009      -1.680      -0.239\n",
      "zipcode_64119              -1.0284      0.212     -4.848      0.000      -1.444      -0.613\n",
      "zipcode_64124              -1.2121      0.232     -5.215      0.000      -1.668      -0.757\n",
      "zipcode_64156              -0.7695      0.367     -2.094      0.036      -1.490      -0.049\n",
      "zipcode_64503              -1.0766      0.367     -2.930      0.003      -1.797      -0.356\n",
      "zipcode_64641              -1.1698      0.368     -3.183      0.001      -1.890      -0.449\n",
      "zipcode_64649              -1.9314      0.368     -5.248      0.000      -2.653      -1.210\n",
      "zipcode_65049              -1.4975      0.367     -4.075      0.000      -2.218      -0.777\n",
      "zipcode_66102              -0.8053      0.367     -2.192      0.028      -1.525      -0.085\n",
      "zipcode_66104              -1.0108      0.285     -3.551      0.000      -1.569      -0.453\n",
      "zipcode_66109              -1.2759      0.251     -5.082      0.000      -1.768      -0.784\n",
      "zipcode_66503              -1.2125      0.367     -3.300      0.001      -1.933      -0.492\n",
      "zipcode_67801               0.1240      0.285      0.436      0.663      -0.434       0.682\n",
      "zipcode_67846              -0.5930      0.367     -1.614      0.107      -1.313       0.127\n",
      "zipcode_68031              -1.1772      0.367     -3.204      0.001      -1.897      -0.457\n",
      "zipcode_68048              -1.2392      0.183     -6.784      0.000      -1.597      -0.881\n",
      "zipcode_68106              -1.1265      0.285     -3.958      0.000      -1.684      -0.569\n",
      "zipcode_68123              -0.6362      0.173     -3.687      0.000      -0.974      -0.298\n",
      "zipcode_68132              -0.8389      0.285     -2.947      0.003      -1.397      -0.281\n",
      "zipcode_68133              -1.1431      0.206     -5.549      0.000      -1.547      -0.739\n",
      "zipcode_68305              -2.0277      0.285     -7.105      0.000      -2.587      -1.468\n",
      "zipcode_68307              -1.2151      0.367     -3.307      0.001      -1.935      -0.495\n",
      "zipcode_68347              -1.2264      0.367     -3.337      0.001      -1.947      -0.506\n",
      "zipcode_68354              -0.6426      0.368     -1.748      0.080      -1.363       0.078\n",
      "zipcode_68410              -1.1540      0.172     -6.703      0.000      -1.491      -0.817\n",
      "zipcode_68455              -1.0971      0.367     -2.986      0.003      -1.817      -0.377\n",
      "zipcode_68502              -1.0821      0.367     -2.945      0.003      -1.802      -0.362\n",
      "zipcode_68504              -1.0398      0.367     -2.830      0.005      -1.760      -0.320\n",
      "zipcode_68601              -1.4183      0.183     -7.764      0.000      -1.776      -1.060\n",
      "zipcode_68628              -1.2963      0.285     -4.554      0.000      -1.854      -0.738\n",
      "zipcode_68632              -1.2310      0.367     -3.350      0.001      -1.951      -0.511\n",
      "zipcode_68643              -0.5912      0.367     -1.609      0.108      -1.311       0.129\n",
      "zipcode_68651              -1.3025      0.212     -6.139      0.000      -1.718      -0.887\n",
      "zipcode_68652              -1.2975      0.367     -3.531      0.000      -2.018      -0.577\n",
      "zipcode_68654              -1.3472      0.285     -4.733      0.000      -1.905      -0.789\n",
      "zipcode_68660              -1.1004      0.285     -3.866      0.000      -1.658      -0.543\n",
      "zipcode_68788              -1.0653      0.285     -3.743      0.000      -1.623      -0.507\n",
      "zipcode_68826              -1.4569      0.367     -3.965      0.000      -2.177      -0.737\n",
      "zipcode_68862              -1.2531      0.367     -3.410      0.001      -1.973      -0.533\n",
      "zipcode_68970              -1.2777      0.285     -4.489      0.000      -1.836      -0.720\n",
      "zipcode_68972              -1.0087      0.367     -2.745      0.006      -1.729      -0.289\n",
      "zipcode_69154              -1.0284      0.285     -3.613      0.000      -1.586      -0.471\n",
      "zipcode_70584              -1.5038      0.251     -5.991      0.000      -1.996      -1.012\n",
      "zipcode_72751              -0.8741      0.367     -2.379      0.017      -1.594      -0.154\n",
      "zipcode_73064              -1.1813      0.367     -3.215      0.001      -1.901      -0.461\n",
      "zipcode_73118              -1.0093      0.367     -2.747      0.006      -1.730      -0.289\n",
      "zipcode_75050              -1.2464      0.251     -4.965      0.000      -1.738      -0.754\n",
      "zipcode_76205              -1.2397      0.367     -3.374      0.001      -1.960      -0.519\n",
      "zipcode_78216              -1.0659      0.232     -4.587      0.000      -1.521      -0.610\n",
      "zipcode_78257              -1.0980      0.367     -2.988      0.003      -1.818      -0.378\n",
      "zipcode_79339              -0.7302      0.368     -1.987      0.047      -1.451      -0.010\n",
      "zipcode_79423              -1.1366      0.285     -3.994      0.000      -1.694      -0.579\n",
      "zipcode_80210              -1.1552      0.367     -3.144      0.002      -1.875      -0.435\n",
      "zipcode_80238              -1.3671      0.285     -4.803      0.000      -1.925      -0.809\n",
      "zipcode_80401              -0.9538      0.220     -4.326      0.000      -1.386      -0.522\n",
      "zipcode_80501              -1.1805      0.185     -6.383      0.000      -1.543      -0.818\n",
      "zipcode_80631              -1.7113      0.232     -7.362      0.000      -2.167      -1.256\n",
      "zipcode_80904              -1.1902      0.367     -3.239      0.001      -1.910      -0.470\n",
      "zipcode_83687              -1.2619      0.367     -3.434      0.001      -1.982      -0.542\n",
      "zipcode_83712              -0.6486      0.367     -1.765      0.078      -1.369       0.072\n",
      "zipcode_84104              -1.1827      0.367     -3.219      0.001      -1.903      -0.463\n",
      "zipcode_84115              -1.1893      0.367     -3.237      0.001      -1.910      -0.469\n",
      "zipcode_84403              -1.4658      0.367     -3.989      0.000      -2.186      -0.746\n",
      "zipcode_84790              -1.0421      0.367     -2.836      0.005      -1.762      -0.322\n",
      "zipcode_85040              -1.1080      0.367     -3.016      0.003      -1.828      -0.388\n",
      "zipcode_85207              -1.0710      0.367     -2.915      0.004      -1.791      -0.351\n",
      "zipcode_85210              -0.9731      0.367     -2.648      0.008      -1.693      -0.253\n",
      "zipcode_85295              -0.9265      0.367     -2.522      0.012      -1.647      -0.206\n",
      "zipcode_85296              -1.4216      0.367     -3.869      0.000      -2.142      -0.701\n",
      "zipcode_85705              -1.1483      0.251     -4.574      0.000      -1.640      -0.656\n",
      "zipcode_87507              -1.0158      0.367     -2.764      0.006      -1.736      -0.296\n",
      "zipcode_89108              -0.8375      0.367     -2.279      0.023      -1.558      -0.117\n",
      "zipcode_90063              -1.2275      0.367     -3.341      0.001      -1.948      -0.507\n",
      "zipcode_90605              -1.4304      0.285     -5.026      0.000      -1.988      -0.873\n",
      "zipcode_91343              -1.1176      0.198     -5.659      0.000      -1.505      -0.730\n",
      "zipcode_91730              -1.2313      0.173     -7.136      0.000      -1.569      -0.893\n",
      "zipcode_91910              -1.0660      0.251     -4.247      0.000      -1.558      -0.574\n",
      "zipcode_92250              -1.2880      0.367     -3.505      0.000      -2.008      -0.568\n",
      "zipcode_92879              -1.1308      0.251     -4.505      0.000      -1.623      -0.639\n",
      "zipcode_93033              -1.3786      0.285     -4.844      0.000      -1.936      -0.821\n",
      "zipcode_93041              -1.3852      0.367     -3.770      0.000      -2.105      -0.665\n",
      "zipcode_93523              -1.4899      0.367     -4.055      0.000      -2.210      -0.770\n",
      "zipcode_94122              -0.6072      0.367     -1.652      0.098      -1.327       0.113\n",
      "zipcode_94403              -1.2516      0.367     -3.406      0.001      -1.972      -0.531\n",
      "zipcode_94530              -1.2515      0.367     -3.406      0.001      -1.972      -0.531\n",
      "zipcode_94607              -0.8601      0.367     -2.341      0.019      -1.580      -0.140\n",
      "zipcode_95205              -0.7511      0.367     -2.044      0.041      -1.471      -0.031\n",
      "zipcode_95240              -1.1438      0.368     -3.112      0.002      -1.864      -0.423\n",
      "zipcode_95822              -1.0279      0.251     -4.095      0.000      -1.520      -0.536\n",
      "zipcode_96064              -1.1900      0.212     -5.610      0.000      -1.606      -0.774\n",
      "zipcode_96816              -1.0808      0.285     -3.798      0.000      -1.639      -0.523\n",
      "zipcode_97006              -0.4110      0.367     -1.118      0.263      -1.131       0.309\n",
      "zipcode_97201              -1.4341      0.251     -5.713      0.000      -1.926      -0.942\n",
      "zipcode_97210              -1.0514      0.367     -2.862      0.004      -1.772      -0.331\n",
      "zipcode_97214              -1.0695      0.220     -4.851      0.000      -1.502      -0.637\n",
      "zipcode_97221              -1.2118      0.184     -6.595      0.000      -1.572      -0.852\n",
      "zipcode_97459              -1.1333      0.251     -4.515      0.000      -1.625      -0.641\n",
      "zipcode_98001              -1.5963      0.165     -9.679      0.000      -1.920      -1.273\n",
      "zipcode_98002              -1.7026      0.165    -10.299      0.000      -2.027      -1.379\n",
      "zipcode_98003              -1.6251      0.165     -9.841      0.000      -1.949      -1.301\n",
      "zipcode_98004              -0.3492      0.165     -2.110      0.035      -0.673      -0.025\n",
      "zipcode_98005              -0.6325      0.166     -3.804      0.000      -0.958      -0.307\n",
      "zipcode_98006              -0.8063      0.165     -4.886      0.000      -1.130      -0.483\n",
      "zipcode_98007              -0.8052      0.167     -4.835      0.000      -1.132      -0.479\n",
      "zipcode_98008              -0.7982      0.165     -4.830      0.000      -1.122      -0.474\n",
      "zipcode_98010              -1.4846      0.165     -8.975      0.000      -1.809      -1.160\n",
      "zipcode_98011              -1.0105      0.166     -6.100      0.000      -1.335      -0.686\n",
      "zipcode_98014              -1.2804      0.167     -7.690      0.000      -1.607      -0.954\n",
      "zipcode_98019              -1.2104      0.166     -7.304      0.000      -1.535      -0.886\n",
      "zipcode_98022              -1.5737      0.165     -9.530      0.000      -1.897      -1.250\n",
      "zipcode_98023              -1.6095      0.165     -9.763      0.000      -1.933      -1.286\n",
      "zipcode_98024              -1.0206      0.167     -6.098      0.000      -1.349      -0.693\n",
      "zipcode_98027              -0.9978      0.165     -6.037      0.000      -1.322      -0.674\n",
      "zipcode_98028              -1.1134      0.165     -6.735      0.000      -1.437      -0.789\n",
      "zipcode_98029              -0.8383      0.165     -5.068      0.000      -1.162      -0.514\n",
      "zipcode_98030              -1.5693      0.165     -9.496      0.000      -1.893      -1.245\n",
      "zipcode_98031              -1.5483      0.165     -9.383      0.000      -1.872      -1.225\n",
      "zipcode_98032              -1.5745      0.166     -9.475      0.000      -1.900      -1.249\n",
      "zipcode_98033              -0.5991      0.165     -3.633      0.000      -0.922      -0.276\n",
      "zipcode_98034              -0.9268      0.165     -5.622      0.000      -1.250      -0.604\n",
      "zipcode_98038              -1.3962      0.165     -8.474      0.000      -1.719      -1.073\n",
      "zipcode_98039              -0.0911      0.170     -0.536      0.592      -0.424       0.242\n",
      "zipcode_98040              -0.6105      0.165     -3.691      0.000      -0.935      -0.286\n",
      "zipcode_98042              -1.5390      0.165     -9.343      0.000      -1.862      -1.216\n",
      "zipcode_98045              -1.2108      0.165     -7.333      0.000      -1.534      -0.887\n",
      "zipcode_98047              -1.6499      0.169     -9.787      0.000      -1.980      -1.319\n",
      "zipcode_98050              -1.0606      0.285     -3.724      0.000      -1.619      -0.502\n",
      "zipcode_98051              -1.3925      0.169     -8.220      0.000      -1.725      -1.060\n",
      "zipcode_98052              -0.7663      0.165     -4.645      0.000      -1.090      -0.443\n",
      "zipcode_98053              -0.8942      0.165     -5.411      0.000      -1.218      -0.570\n",
      "zipcode_98055              -1.4619      0.166     -8.813      0.000      -1.787      -1.137\n",
      "zipcode_98056              -1.2595      0.165     -7.633      0.000      -1.583      -0.936\n",
      "zipcode_98057              -1.4660      0.167     -8.778      0.000      -1.793      -1.139\n",
      "zipcode_98058              -1.4168      0.165     -8.593      0.000      -1.740      -1.094\n",
      "zipcode_98059              -1.2105      0.165     -7.337      0.000      -1.534      -0.887\n",
      "zipcode_98065              -1.1162      0.166     -6.744      0.000      -1.441      -0.792\n",
      "zipcode_98070              -1.3092      0.166     -7.875      0.000      -1.635      -0.983\n",
      "zipcode_98072              -0.9661      0.165     -5.841      0.000      -1.290      -0.642\n",
      "zipcode_98074              -0.8276      0.165     -5.011      0.000      -1.151      -0.504\n",
      "zipcode_98075              -0.7917      0.165     -4.792      0.000      -1.116      -0.468\n",
      "zipcode_98077              -0.9370      0.166     -5.650      0.000      -1.262      -0.612\n",
      "zipcode_98092              -1.5556      0.165     -9.432      0.000      -1.879      -1.232\n",
      "zipcode_98102              -0.7534      0.167     -4.520      0.000      -1.080      -0.427\n",
      "zipcode_98103              -0.9116      0.165     -5.530      0.000      -1.235      -0.589\n",
      "zipcode_98105              -0.8209      0.165     -4.962      0.000      -1.145      -0.497\n",
      "zipcode_98106              -1.3547      0.165     -8.212      0.000      -1.678      -1.031\n",
      "zipcode_98107              -0.9083      0.165     -5.502      0.000      -1.232      -0.585\n",
      "zipcode_98108              -1.3179      0.165     -7.965      0.000      -1.642      -0.994\n",
      "zipcode_98109              -0.7679      0.167     -4.599      0.000      -1.095      -0.441\n",
      "zipcode_98112              -0.6941      0.166     -4.193      0.000      -1.019      -0.370\n",
      "zipcode_98115              -0.9101      0.165     -5.521      0.000      -1.233      -0.587\n",
      "zipcode_98116              -1.0052      0.165     -6.082      0.000      -1.329      -0.681\n",
      "zipcode_98117              -0.9209      0.165     -5.587      0.000      -1.244      -0.598\n",
      "zipcode_98118              -1.2339      0.165     -7.480      0.000      -1.557      -0.911\n",
      "zipcode_98119              -0.7975      0.166     -4.809      0.000      -1.122      -0.472\n",
      "zipcode_98122              -0.9398      0.165     -5.691      0.000      -1.263      -0.616\n",
      "zipcode_98125              -1.1131      0.165     -6.743      0.000      -1.437      -0.790\n",
      "zipcode_98126              -1.1961      0.165     -7.243      0.000      -1.520      -0.872\n",
      "zipcode_98133              -1.1955      0.165     -7.251      0.000      -1.519      -0.872\n",
      "zipcode_98136              -1.0442      0.166     -6.309      0.000      -1.369      -0.720\n",
      "zipcode_98144              -1.0461      0.165     -6.335      0.000      -1.370      -0.722\n",
      "zipcode_98146              -1.3388      0.165     -8.106      0.000      -1.663      -1.015\n",
      "zipcode_98148              -1.5055      0.168     -8.969      0.000      -1.835      -1.177\n",
      "zipcode_98155              -1.1382      0.165     -6.897      0.000      -1.462      -0.815\n",
      "zipcode_98166              -1.3598      0.165     -8.222      0.000      -1.684      -1.036\n",
      "zipcode_98168              -1.5518      0.165     -9.390      0.000      -1.876      -1.228\n",
      "zipcode_98177              -1.0512      0.166     -6.351      0.000      -1.376      -0.727\n",
      "zipcode_98178              -1.4663      0.165     -8.871      0.000      -1.790      -1.142\n",
      "zipcode_98188              -1.5259      0.166     -9.191      0.000      -1.851      -1.201\n",
      "zipcode_98198              -1.5644      0.165     -9.472      0.000      -1.888      -1.241\n",
      "zipcode_98199              -0.8478      0.165     -5.131      0.000      -1.172      -0.524\n",
      "zipcode_98223              -0.7229      0.232     -3.110      0.002      -1.179      -0.267\n",
      "zipcode_98224              -2.0725      0.251     -8.250      0.000      -2.565      -1.580\n",
      "zipcode_98251              -1.4900      0.251     -5.934      0.000      -1.982      -0.998\n",
      "zipcode_98270              -0.6944      0.368     -1.889      0.059      -1.415       0.026\n",
      "zipcode_98271              -1.1844      0.221     -5.371      0.000      -1.617      -0.752\n",
      "zipcode_98272              -1.2128      0.212     -5.714      0.000      -1.629      -0.797\n",
      "zipcode_98288              -1.8770      0.184    -10.209      0.000      -2.237      -1.517\n",
      "zipcode_98296              -1.4254      0.367     -3.879      0.000      -2.146      -0.705\n",
      "zipcode_98338              -1.2292      0.285     -4.318      0.000      -1.787      -0.671\n",
      "zipcode_98354              -1.5676      0.178     -8.802      0.000      -1.917      -1.219\n",
      "zipcode_98372              -0.8993      0.285     -3.160      0.002      -1.457      -0.341\n",
      "zipcode_98387              -1.2178      0.367     -3.314      0.001      -1.938      -0.498\n",
      "zipcode_98422              -2.4816      0.368     -6.749      0.000      -3.202      -1.761\n",
      "zipcode_98663              -1.2786      0.285     -4.492      0.000      -1.836      -0.721\n",
      "zipcode_99202              -1.0621      0.367     -2.891      0.004      -1.782      -0.342\n",
      "zipcode_99203              -1.2114      0.367     -3.297      0.001      -1.932      -0.491\n",
      "zipcode_99223              -1.0713      0.367     -2.916      0.004      -1.791      -0.351\n",
      "zipcode_99403              -1.0917      0.367     -2.971      0.003      -1.812      -0.372\n",
      "zipcode_99501              -0.9605      0.367     -2.614      0.009      -1.681      -0.240\n",
      "zipcode_99701              -1.2426      0.367     -3.382      0.001      -1.963      -0.522\n",
      "zipcode_99705              -1.4627      0.367     -3.981      0.000      -2.183      -0.743\n",
      "==============================================================================\n",
      "Omnibus:                    17188.591   Durbin-Watson:                   1.943\n",
      "Prob(Omnibus):                  0.000   Jarque-Bera (JB):           534099.722\n",
      "Skew:                          -2.194   Prob(JB):                         0.00\n",
      "Kurtosis:                      23.161   Cond. No.                     5.21e+06\n",
      "==============================================================================\n",
      "\n",
      "Notes:\n",
      "[1] Standard Errors assume that the covariance matrix of the errors is correctly specified.\n",
      "[2] The condition number is large, 5.21e+06. This might indicate that there are\n",
      "strong multicollinearity or other numerical problems.\n"
     ]
    }
   ],
   "source": [
    "log_model1 = sm.OLS(y_log, sm.add_constant(iterated_X5))\n",
    "log_results1 = log_model1.fit()\n",
    "print(log_results1.summary())"
   ]
  },
  {
   "cell_type": "markdown",
   "metadata": {},
   "source": [
    "For each increase of 1 unit in `sqft_living`, we see an associated change of .03% in house price."
   ]
  },
  {
   "cell_type": "code",
   "execution_count": null,
   "metadata": {},
   "outputs": [],
   "source": [
    "numeric_df = re.select_dtypes(include='number')"
   ]
  },
  {
   "cell_type": "code",
   "execution_count": null,
   "metadata": {},
   "outputs": [],
   "source": [
    "re_preds = numeric_df.drop('price', axis=1)\n",
    "re_preds.head()"
   ]
  },
  {
   "cell_type": "code",
   "execution_count": null,
   "metadata": {
    "scrolled": true
   },
   "outputs": [],
   "source": [
    "ss =  StandardScaler()\n",
    "ss.fit(re_preds)\n",
    "re_preds_st_scaled = ss.transform(re_preds)\n",
    "re_preds_st_scaled[:5, :]"
   ]
  },
  {
   "cell_type": "code",
   "execution_count": null,
   "metadata": {},
   "outputs": [],
   "source": [
    "lr = LinearRegression ()\n",
    "lr.fit(re_preds_st_scaled, y)\n",
    "lr.coef_"
   ]
  },
  {
   "cell_type": "code",
   "execution_count": null,
   "metadata": {},
   "outputs": [],
   "source": [
    "lr.intercept_"
   ]
  },
  {
   "cell_type": "code",
   "execution_count": null,
   "metadata": {},
   "outputs": [],
   "source": [
    "lr.score(re_preds_st_scaled, y)#fix this tmrw as it doesnt match the above .510"
   ]
  },
  {
   "cell_type": "code",
   "execution_count": null,
   "metadata": {},
   "outputs": [],
   "source": [
    "y_hat = lr.predict(re_preds_st_scaled)\n",
    "y_hat"
   ]
  },
  {
   "cell_type": "code",
   "execution_count": null,
   "metadata": {},
   "outputs": [],
   "source": []
  },
  {
   "cell_type": "code",
   "execution_count": 71,
   "metadata": {},
   "outputs": [],
   "source": [
    "X = re[['sqft_living', 'sqft_patio', 'yr_built', 'excellent_view', 'nuisance']]\n",
    "X = pd.get_dummies(X, columns=['eview', 'nuisance'], drop_first=True)"
   ]
  },
  {
   "cell_type": "code",
   "execution_count": 73,
   "metadata": {},
   "outputs": [
    {
     "name": "stdout",
     "output_type": "stream",
     "text": [
      "0.4102599046611679\n",
      "const             0.000000e+00\n",
      "sqft_living       0.000000e+00\n",
      "sqft_patio        9.787143e-30\n",
      "yr_built          9.698302e-22\n",
      "view_EXCELLENT    3.833104e-50\n",
      "view_FAIR         1.144592e-04\n",
      "view_GOOD         2.700286e-01\n",
      "view_NONE         4.155345e-31\n",
      "nuisance_YES      9.735873e-06\n",
      "dtype: float64\n"
     ]
    }
   ],
   "source": [
    "model6 = sm.OLS(y_log, sm.add_constant(X))\n",
    "results6 = model6.fit()\n",
    "print(results6.rsquared_adj)\n",
    "print(results6.pvalues)"
   ]
  },
  {
   "cell_type": "code",
   "execution_count": 158,
   "metadata": {},
   "outputs": [
    {
     "data": {
      "image/png": "[encoded data removed]",
      "text/plain": [
       "<Figure size 1008x288 with 3 Axes>"
      ]
     },
     "metadata": {},
     "output_type": "display_data"
    }
   ],
   "source": [
    "variables = [re.sqft_living, re.sqft_patio, re.age]\n",
    "\n",
    "plt.figure(figsize=(14,4))\n",
    "i = 0\n",
    "for x in variables:\n",
    "    i = i+1\n",
    "    plt.subplot(1,3,i)\n",
    "    plt.hist(x,histtype='bar')\n",
    "    x.hist();"
   ]
  },
  {
   "cell_type": "code",
   "execution_count": 159,
   "metadata": {
    "scrolled": false
   },
   "outputs": [
    {
     "name": "stderr",
     "output_type": "stream",
     "text": [
      "/Users/joshuaedelstein/opt/anaconda3/envs/learn-env/lib/python3.8/site-packages/pandas/core/series.py:726: RuntimeWarning: divide by zero encountered in log\n",
      "  result = getattr(ufunc, method)(*inputs, **kwargs)\n",
      "/Users/joshuaedelstein/opt/anaconda3/envs/learn-env/lib/python3.8/site-packages/pandas/core/series.py:726: RuntimeWarning: invalid value encountered in log\n",
      "  result = getattr(ufunc, method)(*inputs, **kwargs)\n"
     ]
    }
   ],
   "source": [
    "log_sqft_living = np.log(re.sqft_living)\n",
    "log_sqft_patio = np.log(re.sqft_patio)\n",
    "log_yr_built = np.log(re.age)"
   ]
  },
  {
   "cell_type": "code",
   "execution_count": null,
   "metadata": {},
   "outputs": [],
   "source": [
    "re.grade.value_counts()"
   ]
  },
  {
   "cell_type": "code",
   "execution_count": null,
   "metadata": {},
   "outputs": [],
   "source": [
    "criteria = {'1 Cabin': 'low', '2 Substandard': 'low', '3 Poor': 'low', '4 Low': 'low', \n",
    "            '5 Fair': 'fair', '6 Low Average': 'fair', '7 Average': 'fair', '8 Good': 'fair', \n",
    "            '9 Better': 'good', '10 Very Good': 'good', '11 Excellent': 'good', \n",
    "            '12 Luxury': 'good', '13 Mansion': 'good'}\n",
    "re['grade_groups'] = re['grade'].map(criteria)"
   ]
  },
  {
   "cell_type": "code",
   "execution_count": null,
   "metadata": {},
   "outputs": [],
   "source": [
    "X = re[['sqft_living', 'sqft_patio', 'yr_built', 'view', 'grade_groups']]\n",
    "X = pd.get_dummies(X, columns=['view', 'grade_groups'], drop_first=True)"
   ]
  },
  {
   "cell_type": "code",
   "execution_count": null,
   "metadata": {},
   "outputs": [],
   "source": [
    "model7 = sm.OLS(y, sm.add_constant(X))\n",
    "results7 = model7.fit()\n",
    "print(results7.rsquared_adj)\n",
    "print(results7.pvalues)"
   ]
  },
  {
   "cell_type": "markdown",
   "metadata": {},
   "source": [
    "this was not helpful"
   ]
  },
  {
   "cell_type": "code",
   "execution_count": null,
   "metadata": {},
   "outputs": [],
   "source": [
    "y.hist(bins=50);"
   ]
  },
  {
   "cell_type": "code",
   "execution_count": null,
   "metadata": {},
   "outputs": [],
   "source": [
    "log_y = np.log(y)"
   ]
  },
  {
   "cell_type": "code",
   "execution_count": null,
   "metadata": {
    "scrolled": false
   },
   "outputs": [],
   "source": [
    "log_y.hist(bins=50);"
   ]
  },
  {
   "cell_type": "code",
   "execution_count": null,
   "metadata": {},
   "outputs": [],
   "source": [
    "X = re[['sqft_living', 'sqft_patio', 'yr_built', 'view', 'nuisance']]\n",
    "X = pd.get_dummies(X, columns=['view', 'nuisance'], drop_first=True)"
   ]
  },
  {
   "cell_type": "code",
   "execution_count": null,
   "metadata": {},
   "outputs": [],
   "source": [
    "model8 = sm.OLS(log_y, sm.add_constant(X))\n",
    "results8 = model8.fit()\n",
    "print(results8.summary())"
   ]
  },
  {
   "cell_type": "markdown",
   "metadata": {},
   "source": [
    "r went down a bit, and a value is no longer stat significant. If u replace view with waterfront then all values are signif but r goes down to .401"
   ]
  },
  {
   "cell_type": "code",
   "execution_count": null,
   "metadata": {},
   "outputs": [],
   "source": []
  },
  {
   "cell_type": "code",
   "execution_count": null,
   "metadata": {},
   "outputs": [],
   "source": []
  },
  {
   "cell_type": "code",
   "execution_count": null,
   "metadata": {},
   "outputs": [],
   "source": []
  },
  {
   "cell_type": "code",
   "execution_count": null,
   "metadata": {},
   "outputs": [],
   "source": []
  },
  {
   "cell_type": "code",
   "execution_count": null,
   "metadata": {},
   "outputs": [],
   "source": []
  },
  {
   "cell_type": "code",
   "execution_count": null,
   "metadata": {},
   "outputs": [],
   "source": []
  },
  {
   "cell_type": "code",
   "execution_count": null,
   "metadata": {},
   "outputs": [],
   "source": []
  },
  {
   "cell_type": "code",
   "execution_count": null,
   "metadata": {},
   "outputs": [],
   "source": []
  },
  {
   "cell_type": "code",
   "execution_count": null,
   "metadata": {},
   "outputs": [],
   "source": []
  }
 ],
 "metadata": {
  "kernelspec": {
   "display_name": "Python (learn-env)",
   "language": "python",
   "name": "learn-env"
  },
  "language_info": {
   "codemirror_mode": {
    "name": "ipython",
    "version": 3
   },
   "file_extension": ".py",
   "mimetype": "text/x-python",
   "name": "python",
   "nbconvert_exporter": "python",
   "pygments_lexer": "ipython3",
   "version": "3.8.5"
  }
 },
 "nbformat": 4,
 "nbformat_minor": 4
}
