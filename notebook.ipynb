{
 "cells": [
  {
   "cell_type": "code",
   "execution_count": 1,
   "metadata": {},
   "outputs": [],
   "source": [
    "import pandas as pd \n",
    "import seaborn as sns\n",
    "from matplotlib import pyplot as plt\n",
    "import statsmodels.api as sm\n",
    "import numpy as np\n",
    "from sklearn.metrics import mean_absolute_error\n",
    "from sklearn.model_selection import train_test_split\n",
    "from sklearn.linear_model import LinearRegression \n",
    "from sklearn.feature_selection import RFE\n",
    "from sklearn.preprocessing import PolynomialFeatures, StandardScaler"
   ]
  },
  {
   "cell_type": "code",
   "execution_count": null,
   "metadata": {},
   "outputs": [],
   "source": [
    "\n",
    "\"\"\"\n",
    "\n",
    "watch: 🎬 Lecture: Feature Selection and Engineering (Flex)\n",
    "\n",
    "\n",
    "recom and concl are consistent with business problem. You can decide business problem at the \n",
    "end\n",
    "\n",
    "baseline model with strongest correlated with salesprice(single lin regression)\n",
    "-pearson correlation(heatmap), pairplots, \n",
    "\n",
    "2nd feature that correlation with price but not correlated with highest correlated\n",
    "\n",
    "3rd feature with all values(use categorical values)\n",
    "\n",
    "conclusion and final model and results(may be very redundant)\n",
    "\n",
    "recommendations\n",
    "\n",
    "limitations \n",
    "\n",
    "next steps\n",
    "\"\"\""
   ]
  },
  {
   "cell_type": "code",
   "execution_count": null,
   "metadata": {},
   "outputs": [],
   "source": []
  },
  {
   "cell_type": "markdown",
   "metadata": {},
   "source": [
    "Load data and preview"
   ]
  },
  {
   "cell_type": "code",
   "execution_count": 3,
   "metadata": {
    "scrolled": false
   },
   "outputs": [
    {
     "data": {
      "text/html": [
       "<div>\n",
       "<style scoped>\n",
       "    .dataframe tbody tr th:only-of-type {\n",
       "        vertical-align: middle;\n",
       "    }\n",
       "\n",
       "    .dataframe tbody tr th {\n",
       "        vertical-align: top;\n",
       "    }\n",
       "\n",
       "    .dataframe thead th {\n",
       "        text-align: right;\n",
       "    }\n",
       "</style>\n",
       "<table border=\"1\" class=\"dataframe\">\n",
       "  <thead>\n",
       "    <tr style=\"text-align: right;\">\n",
       "      <th></th>\n",
       "      <th>id</th>\n",
       "      <th>date</th>\n",
       "      <th>price</th>\n",
       "      <th>bedrooms</th>\n",
       "      <th>bathrooms</th>\n",
       "      <th>sqft_living</th>\n",
       "      <th>sqft_lot</th>\n",
       "      <th>floors</th>\n",
       "      <th>waterfront</th>\n",
       "      <th>greenbelt</th>\n",
       "      <th>...</th>\n",
       "      <th>sewer_system</th>\n",
       "      <th>sqft_above</th>\n",
       "      <th>sqft_basement</th>\n",
       "      <th>sqft_garage</th>\n",
       "      <th>sqft_patio</th>\n",
       "      <th>yr_built</th>\n",
       "      <th>yr_renovated</th>\n",
       "      <th>address</th>\n",
       "      <th>lat</th>\n",
       "      <th>long</th>\n",
       "    </tr>\n",
       "  </thead>\n",
       "  <tbody>\n",
       "    <tr>\n",
       "      <th>0</th>\n",
       "      <td>7399300360</td>\n",
       "      <td>5/24/2022</td>\n",
       "      <td>675000.0</td>\n",
       "      <td>4</td>\n",
       "      <td>1.0</td>\n",
       "      <td>1180</td>\n",
       "      <td>7140</td>\n",
       "      <td>1.0</td>\n",
       "      <td>NO</td>\n",
       "      <td>NO</td>\n",
       "      <td>...</td>\n",
       "      <td>PUBLIC</td>\n",
       "      <td>1180</td>\n",
       "      <td>0</td>\n",
       "      <td>0</td>\n",
       "      <td>40</td>\n",
       "      <td>1969</td>\n",
       "      <td>0</td>\n",
       "      <td>2102 Southeast 21st Court, Renton, Washington ...</td>\n",
       "      <td>47.461975</td>\n",
       "      <td>-122.19052</td>\n",
       "    </tr>\n",
       "    <tr>\n",
       "      <th>1</th>\n",
       "      <td>8910500230</td>\n",
       "      <td>12/13/2021</td>\n",
       "      <td>920000.0</td>\n",
       "      <td>5</td>\n",
       "      <td>2.5</td>\n",
       "      <td>2770</td>\n",
       "      <td>6703</td>\n",
       "      <td>1.0</td>\n",
       "      <td>NO</td>\n",
       "      <td>NO</td>\n",
       "      <td>...</td>\n",
       "      <td>PUBLIC</td>\n",
       "      <td>1570</td>\n",
       "      <td>1570</td>\n",
       "      <td>0</td>\n",
       "      <td>240</td>\n",
       "      <td>1950</td>\n",
       "      <td>0</td>\n",
       "      <td>11231 Greenwood Avenue North, Seattle, Washing...</td>\n",
       "      <td>47.711525</td>\n",
       "      <td>-122.35591</td>\n",
       "    </tr>\n",
       "    <tr>\n",
       "      <th>2</th>\n",
       "      <td>1180000275</td>\n",
       "      <td>9/29/2021</td>\n",
       "      <td>311000.0</td>\n",
       "      <td>6</td>\n",
       "      <td>2.0</td>\n",
       "      <td>2880</td>\n",
       "      <td>6156</td>\n",
       "      <td>1.0</td>\n",
       "      <td>NO</td>\n",
       "      <td>NO</td>\n",
       "      <td>...</td>\n",
       "      <td>PUBLIC</td>\n",
       "      <td>1580</td>\n",
       "      <td>1580</td>\n",
       "      <td>0</td>\n",
       "      <td>0</td>\n",
       "      <td>1956</td>\n",
       "      <td>0</td>\n",
       "      <td>8504 South 113th Street, Seattle, Washington 9...</td>\n",
       "      <td>47.502045</td>\n",
       "      <td>-122.22520</td>\n",
       "    </tr>\n",
       "    <tr>\n",
       "      <th>3</th>\n",
       "      <td>1604601802</td>\n",
       "      <td>12/14/2021</td>\n",
       "      <td>775000.0</td>\n",
       "      <td>3</td>\n",
       "      <td>3.0</td>\n",
       "      <td>2160</td>\n",
       "      <td>1400</td>\n",
       "      <td>2.0</td>\n",
       "      <td>NO</td>\n",
       "      <td>NO</td>\n",
       "      <td>...</td>\n",
       "      <td>PUBLIC</td>\n",
       "      <td>1090</td>\n",
       "      <td>1070</td>\n",
       "      <td>200</td>\n",
       "      <td>270</td>\n",
       "      <td>2010</td>\n",
       "      <td>0</td>\n",
       "      <td>4079 Letitia Avenue South, Seattle, Washington...</td>\n",
       "      <td>47.566110</td>\n",
       "      <td>-122.29020</td>\n",
       "    </tr>\n",
       "    <tr>\n",
       "      <th>4</th>\n",
       "      <td>8562780790</td>\n",
       "      <td>8/24/2021</td>\n",
       "      <td>592500.0</td>\n",
       "      <td>2</td>\n",
       "      <td>2.0</td>\n",
       "      <td>1120</td>\n",
       "      <td>758</td>\n",
       "      <td>2.0</td>\n",
       "      <td>NO</td>\n",
       "      <td>NO</td>\n",
       "      <td>...</td>\n",
       "      <td>PUBLIC</td>\n",
       "      <td>1120</td>\n",
       "      <td>550</td>\n",
       "      <td>550</td>\n",
       "      <td>30</td>\n",
       "      <td>2012</td>\n",
       "      <td>0</td>\n",
       "      <td>2193 Northwest Talus Drive, Issaquah, Washingt...</td>\n",
       "      <td>47.532470</td>\n",
       "      <td>-122.07188</td>\n",
       "    </tr>\n",
       "  </tbody>\n",
       "</table>\n",
       "<p>5 rows × 25 columns</p>\n",
       "</div>"
      ],
      "text/plain": [
       "           id        date     price  bedrooms  bathrooms  sqft_living  \\\n",
       "0  7399300360   5/24/2022  675000.0         4        1.0         1180   \n",
       "1  8910500230  12/13/2021  920000.0         5        2.5         2770   \n",
       "2  1180000275   9/29/2021  311000.0         6        2.0         2880   \n",
       "3  1604601802  12/14/2021  775000.0         3        3.0         2160   \n",
       "4  8562780790   8/24/2021  592500.0         2        2.0         1120   \n",
       "\n",
       "   sqft_lot  floors waterfront greenbelt  ... sewer_system sqft_above  \\\n",
       "0      7140     1.0         NO        NO  ...       PUBLIC       1180   \n",
       "1      6703     1.0         NO        NO  ...       PUBLIC       1570   \n",
       "2      6156     1.0         NO        NO  ...       PUBLIC       1580   \n",
       "3      1400     2.0         NO        NO  ...       PUBLIC       1090   \n",
       "4       758     2.0         NO        NO  ...       PUBLIC       1120   \n",
       "\n",
       "  sqft_basement sqft_garage sqft_patio yr_built  yr_renovated  \\\n",
       "0             0           0         40     1969             0   \n",
       "1          1570           0        240     1950             0   \n",
       "2          1580           0          0     1956             0   \n",
       "3          1070         200        270     2010             0   \n",
       "4           550         550         30     2012             0   \n",
       "\n",
       "                                             address        lat       long  \n",
       "0  2102 Southeast 21st Court, Renton, Washington ...  47.461975 -122.19052  \n",
       "1  11231 Greenwood Avenue North, Seattle, Washing...  47.711525 -122.35591  \n",
       "2  8504 South 113th Street, Seattle, Washington 9...  47.502045 -122.22520  \n",
       "3  4079 Letitia Avenue South, Seattle, Washington...  47.566110 -122.29020  \n",
       "4  2193 Northwest Talus Drive, Issaquah, Washingt...  47.532470 -122.07188  \n",
       "\n",
       "[5 rows x 25 columns]"
      ]
     },
     "execution_count": 3,
     "metadata": {},
     "output_type": "execute_result"
    }
   ],
   "source": [
    "url = 'https://raw.githubusercontent.com/learn-co-curriculum/dsc-phase-2-project-v2-5/main/data/kc_house_data.csv'\n",
    "re = pd.read_csv(url)\n",
    "re.head()"
   ]
  },
  {
   "cell_type": "code",
   "execution_count": 4,
   "metadata": {},
   "outputs": [
    {
     "name": "stdout",
     "output_type": "stream",
     "text": [
      "<class 'pandas.core.frame.DataFrame'>\n",
      "RangeIndex: 30155 entries, 0 to 30154\n",
      "Data columns (total 25 columns):\n",
      " #   Column         Non-Null Count  Dtype  \n",
      "---  ------         --------------  -----  \n",
      " 0   id             30155 non-null  int64  \n",
      " 1   date           30155 non-null  object \n",
      " 2   price          30155 non-null  float64\n",
      " 3   bedrooms       30155 non-null  int64  \n",
      " 4   bathrooms      30155 non-null  float64\n",
      " 5   sqft_living    30155 non-null  int64  \n",
      " 6   sqft_lot       30155 non-null  int64  \n",
      " 7   floors         30155 non-null  float64\n",
      " 8   waterfront     30155 non-null  object \n",
      " 9   greenbelt      30155 non-null  object \n",
      " 10  nuisance       30155 non-null  object \n",
      " 11  view           30155 non-null  object \n",
      " 12  condition      30155 non-null  object \n",
      " 13  grade          30155 non-null  object \n",
      " 14  heat_source    30123 non-null  object \n",
      " 15  sewer_system   30141 non-null  object \n",
      " 16  sqft_above     30155 non-null  int64  \n",
      " 17  sqft_basement  30155 non-null  int64  \n",
      " 18  sqft_garage    30155 non-null  int64  \n",
      " 19  sqft_patio     30155 non-null  int64  \n",
      " 20  yr_built       30155 non-null  int64  \n",
      " 21  yr_renovated   30155 non-null  int64  \n",
      " 22  address        30155 non-null  object \n",
      " 23  lat            30155 non-null  float64\n",
      " 24  long           30155 non-null  float64\n",
      "dtypes: float64(5), int64(10), object(10)\n",
      "memory usage: 5.8+ MB\n"
     ]
    }
   ],
   "source": [
    "re.info()"
   ]
  },
  {
   "cell_type": "markdown",
   "metadata": {},
   "source": [
    "We see that there are 2 columns with missing values let's just drop the rows with missing values. "
   ]
  },
  {
   "cell_type": "code",
   "execution_count": 5,
   "metadata": {},
   "outputs": [],
   "source": [
    "re = re.dropna()"
   ]
  },
  {
   "cell_type": "code",
   "execution_count": 6,
   "metadata": {
    "scrolled": true
   },
   "outputs": [
    {
     "data": {
      "text/html": [
       "<div>\n",
       "<style scoped>\n",
       "    .dataframe tbody tr th:only-of-type {\n",
       "        vertical-align: middle;\n",
       "    }\n",
       "\n",
       "    .dataframe tbody tr th {\n",
       "        vertical-align: top;\n",
       "    }\n",
       "\n",
       "    .dataframe thead th {\n",
       "        text-align: right;\n",
       "    }\n",
       "</style>\n",
       "<table border=\"1\" class=\"dataframe\">\n",
       "  <thead>\n",
       "    <tr style=\"text-align: right;\">\n",
       "      <th></th>\n",
       "      <th>id</th>\n",
       "      <th>price</th>\n",
       "      <th>bedrooms</th>\n",
       "      <th>bathrooms</th>\n",
       "      <th>sqft_living</th>\n",
       "      <th>sqft_lot</th>\n",
       "      <th>floors</th>\n",
       "      <th>sqft_above</th>\n",
       "      <th>sqft_basement</th>\n",
       "      <th>sqft_garage</th>\n",
       "      <th>sqft_patio</th>\n",
       "      <th>yr_built</th>\n",
       "      <th>yr_renovated</th>\n",
       "      <th>lat</th>\n",
       "      <th>long</th>\n",
       "    </tr>\n",
       "  </thead>\n",
       "  <tbody>\n",
       "    <tr>\n",
       "      <th>count</th>\n",
       "      <td>3.011100e+04</td>\n",
       "      <td>3.011100e+04</td>\n",
       "      <td>30111.000000</td>\n",
       "      <td>30111.000000</td>\n",
       "      <td>30111.000000</td>\n",
       "      <td>3.011100e+04</td>\n",
       "      <td>30111.000000</td>\n",
       "      <td>30111.000000</td>\n",
       "      <td>30111.000000</td>\n",
       "      <td>30111.000000</td>\n",
       "      <td>30111.000000</td>\n",
       "      <td>30111.000000</td>\n",
       "      <td>30111.000000</td>\n",
       "      <td>30111.000000</td>\n",
       "      <td>30111.000000</td>\n",
       "    </tr>\n",
       "    <tr>\n",
       "      <th>mean</th>\n",
       "      <td>4.539171e+09</td>\n",
       "      <td>1.108971e+06</td>\n",
       "      <td>3.415197</td>\n",
       "      <td>2.335708</td>\n",
       "      <td>2113.342798</td>\n",
       "      <td>1.664880e+04</td>\n",
       "      <td>1.543506</td>\n",
       "      <td>1810.389658</td>\n",
       "      <td>476.617117</td>\n",
       "      <td>330.475308</td>\n",
       "      <td>217.451264</td>\n",
       "      <td>1975.162299</td>\n",
       "      <td>90.792767</td>\n",
       "      <td>47.328482</td>\n",
       "      <td>-121.318872</td>\n",
       "    </tr>\n",
       "    <tr>\n",
       "      <th>std</th>\n",
       "      <td>2.882236e+09</td>\n",
       "      <td>8.965158e+05</td>\n",
       "      <td>0.979755</td>\n",
       "      <td>0.888293</td>\n",
       "      <td>973.453260</td>\n",
       "      <td>5.993303e+04</td>\n",
       "      <td>0.567789</td>\n",
       "      <td>877.726339</td>\n",
       "      <td>579.805355</td>\n",
       "      <td>285.725020</td>\n",
       "      <td>245.301991</td>\n",
       "      <td>32.052930</td>\n",
       "      <td>416.197627</td>\n",
       "      <td>1.433309</td>\n",
       "      <td>5.724073</td>\n",
       "    </tr>\n",
       "    <tr>\n",
       "      <th>min</th>\n",
       "      <td>1.000055e+06</td>\n",
       "      <td>2.736000e+04</td>\n",
       "      <td>0.000000</td>\n",
       "      <td>0.000000</td>\n",
       "      <td>3.000000</td>\n",
       "      <td>4.020000e+02</td>\n",
       "      <td>1.000000</td>\n",
       "      <td>2.000000</td>\n",
       "      <td>0.000000</td>\n",
       "      <td>0.000000</td>\n",
       "      <td>0.000000</td>\n",
       "      <td>1900.000000</td>\n",
       "      <td>0.000000</td>\n",
       "      <td>21.274240</td>\n",
       "      <td>-157.791480</td>\n",
       "    </tr>\n",
       "    <tr>\n",
       "      <th>25%</th>\n",
       "      <td>2.070850e+09</td>\n",
       "      <td>6.492360e+05</td>\n",
       "      <td>3.000000</td>\n",
       "      <td>2.000000</td>\n",
       "      <td>1420.000000</td>\n",
       "      <td>4.850000e+03</td>\n",
       "      <td>1.000000</td>\n",
       "      <td>1180.000000</td>\n",
       "      <td>0.000000</td>\n",
       "      <td>0.000000</td>\n",
       "      <td>40.000000</td>\n",
       "      <td>1953.000000</td>\n",
       "      <td>0.000000</td>\n",
       "      <td>47.405348</td>\n",
       "      <td>-122.326075</td>\n",
       "    </tr>\n",
       "    <tr>\n",
       "      <th>50%</th>\n",
       "      <td>3.876000e+09</td>\n",
       "      <td>8.600000e+05</td>\n",
       "      <td>3.000000</td>\n",
       "      <td>2.500000</td>\n",
       "      <td>1920.000000</td>\n",
       "      <td>7.477000e+03</td>\n",
       "      <td>1.500000</td>\n",
       "      <td>1560.000000</td>\n",
       "      <td>0.000000</td>\n",
       "      <td>400.000000</td>\n",
       "      <td>150.000000</td>\n",
       "      <td>1977.000000</td>\n",
       "      <td>0.000000</td>\n",
       "      <td>47.551440</td>\n",
       "      <td>-122.225790</td>\n",
       "    </tr>\n",
       "    <tr>\n",
       "      <th>75%</th>\n",
       "      <td>7.287100e+09</td>\n",
       "      <td>1.300000e+06</td>\n",
       "      <td>4.000000</td>\n",
       "      <td>3.000000</td>\n",
       "      <td>2620.000000</td>\n",
       "      <td>1.056800e+04</td>\n",
       "      <td>2.000000</td>\n",
       "      <td>2270.000000</td>\n",
       "      <td>940.000000</td>\n",
       "      <td>510.000000</td>\n",
       "      <td>320.000000</td>\n",
       "      <td>2003.000000</td>\n",
       "      <td>0.000000</td>\n",
       "      <td>47.669917</td>\n",
       "      <td>-122.116394</td>\n",
       "    </tr>\n",
       "    <tr>\n",
       "      <th>max</th>\n",
       "      <td>9.904000e+09</td>\n",
       "      <td>3.075000e+07</td>\n",
       "      <td>13.000000</td>\n",
       "      <td>10.500000</td>\n",
       "      <td>15360.000000</td>\n",
       "      <td>3.253932e+06</td>\n",
       "      <td>4.000000</td>\n",
       "      <td>12660.000000</td>\n",
       "      <td>8020.000000</td>\n",
       "      <td>3580.000000</td>\n",
       "      <td>4370.000000</td>\n",
       "      <td>2022.000000</td>\n",
       "      <td>2022.000000</td>\n",
       "      <td>64.824070</td>\n",
       "      <td>-70.074340</td>\n",
       "    </tr>\n",
       "  </tbody>\n",
       "</table>\n",
       "</div>"
      ],
      "text/plain": [
       "                 id         price      bedrooms     bathrooms   sqft_living  \\\n",
       "count  3.011100e+04  3.011100e+04  30111.000000  30111.000000  30111.000000   \n",
       "mean   4.539171e+09  1.108971e+06      3.415197      2.335708   2113.342798   \n",
       "std    2.882236e+09  8.965158e+05      0.979755      0.888293    973.453260   \n",
       "min    1.000055e+06  2.736000e+04      0.000000      0.000000      3.000000   \n",
       "25%    2.070850e+09  6.492360e+05      3.000000      2.000000   1420.000000   \n",
       "50%    3.876000e+09  8.600000e+05      3.000000      2.500000   1920.000000   \n",
       "75%    7.287100e+09  1.300000e+06      4.000000      3.000000   2620.000000   \n",
       "max    9.904000e+09  3.075000e+07     13.000000     10.500000  15360.000000   \n",
       "\n",
       "           sqft_lot        floors    sqft_above  sqft_basement   sqft_garage  \\\n",
       "count  3.011100e+04  30111.000000  30111.000000   30111.000000  30111.000000   \n",
       "mean   1.664880e+04      1.543506   1810.389658     476.617117    330.475308   \n",
       "std    5.993303e+04      0.567789    877.726339     579.805355    285.725020   \n",
       "min    4.020000e+02      1.000000      2.000000       0.000000      0.000000   \n",
       "25%    4.850000e+03      1.000000   1180.000000       0.000000      0.000000   \n",
       "50%    7.477000e+03      1.500000   1560.000000       0.000000    400.000000   \n",
       "75%    1.056800e+04      2.000000   2270.000000     940.000000    510.000000   \n",
       "max    3.253932e+06      4.000000  12660.000000    8020.000000   3580.000000   \n",
       "\n",
       "         sqft_patio      yr_built  yr_renovated           lat          long  \n",
       "count  30111.000000  30111.000000  30111.000000  30111.000000  30111.000000  \n",
       "mean     217.451264   1975.162299     90.792767     47.328482   -121.318872  \n",
       "std      245.301991     32.052930    416.197627      1.433309      5.724073  \n",
       "min        0.000000   1900.000000      0.000000     21.274240   -157.791480  \n",
       "25%       40.000000   1953.000000      0.000000     47.405348   -122.326075  \n",
       "50%      150.000000   1977.000000      0.000000     47.551440   -122.225790  \n",
       "75%      320.000000   2003.000000      0.000000     47.669917   -122.116394  \n",
       "max     4370.000000   2022.000000   2022.000000     64.824070    -70.074340  "
      ]
     },
     "execution_count": 6,
     "metadata": {},
     "output_type": "execute_result"
    }
   ],
   "source": [
    "re.describe()"
   ]
  },
  {
   "cell_type": "markdown",
   "metadata": {},
   "source": [
    "we see the df is houses built between 1900-2022, that were sold in 2021 or 2022."
   ]
  },
  {
   "cell_type": "markdown",
   "metadata": {},
   "source": [
    "pull up correlation matrix to see what is correlated well with price"
   ]
  },
  {
   "cell_type": "code",
   "execution_count": 7,
   "metadata": {
    "scrolled": false
   },
   "outputs": [
    {
     "data": {
      "text/html": [
       "<div>\n",
       "<style scoped>\n",
       "    .dataframe tbody tr th:only-of-type {\n",
       "        vertical-align: middle;\n",
       "    }\n",
       "\n",
       "    .dataframe tbody tr th {\n",
       "        vertical-align: top;\n",
       "    }\n",
       "\n",
       "    .dataframe thead th {\n",
       "        text-align: right;\n",
       "    }\n",
       "</style>\n",
       "<table border=\"1\" class=\"dataframe\">\n",
       "  <thead>\n",
       "    <tr style=\"text-align: right;\">\n",
       "      <th></th>\n",
       "      <th>id</th>\n",
       "      <th>price</th>\n",
       "      <th>bedrooms</th>\n",
       "      <th>bathrooms</th>\n",
       "      <th>sqft_living</th>\n",
       "      <th>sqft_lot</th>\n",
       "      <th>floors</th>\n",
       "      <th>sqft_above</th>\n",
       "      <th>sqft_basement</th>\n",
       "      <th>sqft_garage</th>\n",
       "      <th>sqft_patio</th>\n",
       "      <th>yr_built</th>\n",
       "      <th>yr_renovated</th>\n",
       "      <th>lat</th>\n",
       "      <th>long</th>\n",
       "    </tr>\n",
       "  </thead>\n",
       "  <tbody>\n",
       "    <tr>\n",
       "      <th>id</th>\n",
       "      <td>1.000000</td>\n",
       "      <td>-0.034096</td>\n",
       "      <td>-0.007065</td>\n",
       "      <td>-0.012382</td>\n",
       "      <td>-0.028234</td>\n",
       "      <td>-0.119276</td>\n",
       "      <td>0.031941</td>\n",
       "      <td>-0.023340</td>\n",
       "      <td>-0.015077</td>\n",
       "      <td>-0.008044</td>\n",
       "      <td>-0.041644</td>\n",
       "      <td>0.023076</td>\n",
       "      <td>-0.028858</td>\n",
       "      <td>-0.000764</td>\n",
       "      <td>0.000638</td>\n",
       "    </tr>\n",
       "    <tr>\n",
       "      <th>price</th>\n",
       "      <td>-0.034096</td>\n",
       "      <td>1.000000</td>\n",
       "      <td>0.288954</td>\n",
       "      <td>0.480337</td>\n",
       "      <td>0.608616</td>\n",
       "      <td>0.086550</td>\n",
       "      <td>0.180589</td>\n",
       "      <td>0.538631</td>\n",
       "      <td>0.245005</td>\n",
       "      <td>0.263674</td>\n",
       "      <td>0.313789</td>\n",
       "      <td>0.095796</td>\n",
       "      <td>0.085023</td>\n",
       "      <td>0.063430</td>\n",
       "      <td>-0.022278</td>\n",
       "    </tr>\n",
       "    <tr>\n",
       "      <th>bedrooms</th>\n",
       "      <td>-0.007065</td>\n",
       "      <td>0.288954</td>\n",
       "      <td>1.000000</td>\n",
       "      <td>0.588035</td>\n",
       "      <td>0.637048</td>\n",
       "      <td>0.006215</td>\n",
       "      <td>0.146871</td>\n",
       "      <td>0.546221</td>\n",
       "      <td>0.237957</td>\n",
       "      <td>0.318110</td>\n",
       "      <td>0.183660</td>\n",
       "      <td>0.145497</td>\n",
       "      <td>0.015369</td>\n",
       "      <td>0.108883</td>\n",
       "      <td>-0.106791</td>\n",
       "    </tr>\n",
       "    <tr>\n",
       "      <th>bathrooms</th>\n",
       "      <td>-0.012382</td>\n",
       "      <td>0.480337</td>\n",
       "      <td>0.588035</td>\n",
       "      <td>1.000000</td>\n",
       "      <td>0.772226</td>\n",
       "      <td>0.038028</td>\n",
       "      <td>0.404291</td>\n",
       "      <td>0.674239</td>\n",
       "      <td>0.260684</td>\n",
       "      <td>0.456264</td>\n",
       "      <td>0.327982</td>\n",
       "      <td>0.443379</td>\n",
       "      <td>0.041574</td>\n",
       "      <td>-0.005481</td>\n",
       "      <td>0.017684</td>\n",
       "    </tr>\n",
       "    <tr>\n",
       "      <th>sqft_living</th>\n",
       "      <td>-0.028234</td>\n",
       "      <td>0.608616</td>\n",
       "      <td>0.637048</td>\n",
       "      <td>0.772226</td>\n",
       "      <td>1.000000</td>\n",
       "      <td>0.122271</td>\n",
       "      <td>0.303911</td>\n",
       "      <td>0.883733</td>\n",
       "      <td>0.338387</td>\n",
       "      <td>0.510967</td>\n",
       "      <td>0.396530</td>\n",
       "      <td>0.291242</td>\n",
       "      <td>0.039089</td>\n",
       "      <td>0.102205</td>\n",
       "      <td>-0.087625</td>\n",
       "    </tr>\n",
       "    <tr>\n",
       "      <th>sqft_lot</th>\n",
       "      <td>-0.119276</td>\n",
       "      <td>0.086550</td>\n",
       "      <td>0.006215</td>\n",
       "      <td>0.038028</td>\n",
       "      <td>0.122271</td>\n",
       "      <td>1.000000</td>\n",
       "      <td>-0.031555</td>\n",
       "      <td>0.131756</td>\n",
       "      <td>0.004457</td>\n",
       "      <td>0.089318</td>\n",
       "      <td>0.154575</td>\n",
       "      <td>0.001897</td>\n",
       "      <td>0.009390</td>\n",
       "      <td>0.030041</td>\n",
       "      <td>-0.034408</td>\n",
       "    </tr>\n",
       "    <tr>\n",
       "      <th>floors</th>\n",
       "      <td>0.031941</td>\n",
       "      <td>0.180589</td>\n",
       "      <td>0.146871</td>\n",
       "      <td>0.404291</td>\n",
       "      <td>0.303911</td>\n",
       "      <td>-0.031555</td>\n",
       "      <td>1.000000</td>\n",
       "      <td>0.448245</td>\n",
       "      <td>-0.248466</td>\n",
       "      <td>0.132363</td>\n",
       "      <td>0.125016</td>\n",
       "      <td>0.544314</td>\n",
       "      <td>-0.025041</td>\n",
       "      <td>-0.218174</td>\n",
       "      <td>0.233589</td>\n",
       "    </tr>\n",
       "    <tr>\n",
       "      <th>sqft_above</th>\n",
       "      <td>-0.023340</td>\n",
       "      <td>0.538631</td>\n",
       "      <td>0.546221</td>\n",
       "      <td>0.674239</td>\n",
       "      <td>0.883733</td>\n",
       "      <td>0.131756</td>\n",
       "      <td>0.448245</td>\n",
       "      <td>1.000000</td>\n",
       "      <td>-0.067306</td>\n",
       "      <td>0.559972</td>\n",
       "      <td>0.312593</td>\n",
       "      <td>0.387253</td>\n",
       "      <td>0.011036</td>\n",
       "      <td>0.092317</td>\n",
       "      <td>-0.082722</td>\n",
       "    </tr>\n",
       "    <tr>\n",
       "      <th>sqft_basement</th>\n",
       "      <td>-0.015077</td>\n",
       "      <td>0.245005</td>\n",
       "      <td>0.237957</td>\n",
       "      <td>0.260684</td>\n",
       "      <td>0.338387</td>\n",
       "      <td>0.004457</td>\n",
       "      <td>-0.248466</td>\n",
       "      <td>-0.067306</td>\n",
       "      <td>1.000000</td>\n",
       "      <td>0.025766</td>\n",
       "      <td>0.210305</td>\n",
       "      <td>-0.230783</td>\n",
       "      <td>0.054032</td>\n",
       "      <td>0.059664</td>\n",
       "      <td>-0.045104</td>\n",
       "    </tr>\n",
       "    <tr>\n",
       "      <th>sqft_garage</th>\n",
       "      <td>-0.008044</td>\n",
       "      <td>0.263674</td>\n",
       "      <td>0.318110</td>\n",
       "      <td>0.456264</td>\n",
       "      <td>0.510967</td>\n",
       "      <td>0.089318</td>\n",
       "      <td>0.132363</td>\n",
       "      <td>0.559972</td>\n",
       "      <td>0.025766</td>\n",
       "      <td>1.000000</td>\n",
       "      <td>0.216512</td>\n",
       "      <td>0.447720</td>\n",
       "      <td>-0.098301</td>\n",
       "      <td>0.092092</td>\n",
       "      <td>-0.096639</td>\n",
       "    </tr>\n",
       "    <tr>\n",
       "      <th>sqft_patio</th>\n",
       "      <td>-0.041644</td>\n",
       "      <td>0.313789</td>\n",
       "      <td>0.183660</td>\n",
       "      <td>0.327982</td>\n",
       "      <td>0.396530</td>\n",
       "      <td>0.154575</td>\n",
       "      <td>0.125016</td>\n",
       "      <td>0.312593</td>\n",
       "      <td>0.210305</td>\n",
       "      <td>0.216512</td>\n",
       "      <td>1.000000</td>\n",
       "      <td>0.138112</td>\n",
       "      <td>0.056183</td>\n",
       "      <td>-0.019666</td>\n",
       "      <td>0.025675</td>\n",
       "    </tr>\n",
       "    <tr>\n",
       "      <th>yr_built</th>\n",
       "      <td>0.023076</td>\n",
       "      <td>0.095796</td>\n",
       "      <td>0.145497</td>\n",
       "      <td>0.443379</td>\n",
       "      <td>0.291242</td>\n",
       "      <td>0.001897</td>\n",
       "      <td>0.544314</td>\n",
       "      <td>0.387253</td>\n",
       "      <td>-0.230783</td>\n",
       "      <td>0.447720</td>\n",
       "      <td>0.138112</td>\n",
       "      <td>1.000000</td>\n",
       "      <td>-0.239466</td>\n",
       "      <td>-0.207133</td>\n",
       "      <td>0.209842</td>\n",
       "    </tr>\n",
       "    <tr>\n",
       "      <th>yr_renovated</th>\n",
       "      <td>-0.028858</td>\n",
       "      <td>0.085023</td>\n",
       "      <td>0.015369</td>\n",
       "      <td>0.041574</td>\n",
       "      <td>0.039089</td>\n",
       "      <td>0.009390</td>\n",
       "      <td>-0.025041</td>\n",
       "      <td>0.011036</td>\n",
       "      <td>0.054032</td>\n",
       "      <td>-0.098301</td>\n",
       "      <td>0.056183</td>\n",
       "      <td>-0.239466</td>\n",
       "      <td>1.000000</td>\n",
       "      <td>0.036880</td>\n",
       "      <td>-0.035598</td>\n",
       "    </tr>\n",
       "    <tr>\n",
       "      <th>lat</th>\n",
       "      <td>-0.000764</td>\n",
       "      <td>0.063430</td>\n",
       "      <td>0.108883</td>\n",
       "      <td>-0.005481</td>\n",
       "      <td>0.102205</td>\n",
       "      <td>0.030041</td>\n",
       "      <td>-0.218174</td>\n",
       "      <td>0.092317</td>\n",
       "      <td>0.059664</td>\n",
       "      <td>0.092092</td>\n",
       "      <td>-0.019666</td>\n",
       "      <td>-0.207133</td>\n",
       "      <td>0.036880</td>\n",
       "      <td>1.000000</td>\n",
       "      <td>-0.760532</td>\n",
       "    </tr>\n",
       "    <tr>\n",
       "      <th>long</th>\n",
       "      <td>0.000638</td>\n",
       "      <td>-0.022278</td>\n",
       "      <td>-0.106791</td>\n",
       "      <td>0.017684</td>\n",
       "      <td>-0.087625</td>\n",
       "      <td>-0.034408</td>\n",
       "      <td>0.233589</td>\n",
       "      <td>-0.082722</td>\n",
       "      <td>-0.045104</td>\n",
       "      <td>-0.096639</td>\n",
       "      <td>0.025675</td>\n",
       "      <td>0.209842</td>\n",
       "      <td>-0.035598</td>\n",
       "      <td>-0.760532</td>\n",
       "      <td>1.000000</td>\n",
       "    </tr>\n",
       "  </tbody>\n",
       "</table>\n",
       "</div>"
      ],
      "text/plain": [
       "                     id     price  bedrooms  bathrooms  sqft_living  sqft_lot  \\\n",
       "id             1.000000 -0.034096 -0.007065  -0.012382    -0.028234 -0.119276   \n",
       "price         -0.034096  1.000000  0.288954   0.480337     0.608616  0.086550   \n",
       "bedrooms      -0.007065  0.288954  1.000000   0.588035     0.637048  0.006215   \n",
       "bathrooms     -0.012382  0.480337  0.588035   1.000000     0.772226  0.038028   \n",
       "sqft_living   -0.028234  0.608616  0.637048   0.772226     1.000000  0.122271   \n",
       "sqft_lot      -0.119276  0.086550  0.006215   0.038028     0.122271  1.000000   \n",
       "floors         0.031941  0.180589  0.146871   0.404291     0.303911 -0.031555   \n",
       "sqft_above    -0.023340  0.538631  0.546221   0.674239     0.883733  0.131756   \n",
       "sqft_basement -0.015077  0.245005  0.237957   0.260684     0.338387  0.004457   \n",
       "sqft_garage   -0.008044  0.263674  0.318110   0.456264     0.510967  0.089318   \n",
       "sqft_patio    -0.041644  0.313789  0.183660   0.327982     0.396530  0.154575   \n",
       "yr_built       0.023076  0.095796  0.145497   0.443379     0.291242  0.001897   \n",
       "yr_renovated  -0.028858  0.085023  0.015369   0.041574     0.039089  0.009390   \n",
       "lat           -0.000764  0.063430  0.108883  -0.005481     0.102205  0.030041   \n",
       "long           0.000638 -0.022278 -0.106791   0.017684    -0.087625 -0.034408   \n",
       "\n",
       "                 floors  sqft_above  sqft_basement  sqft_garage  sqft_patio  \\\n",
       "id             0.031941   -0.023340      -0.015077    -0.008044   -0.041644   \n",
       "price          0.180589    0.538631       0.245005     0.263674    0.313789   \n",
       "bedrooms       0.146871    0.546221       0.237957     0.318110    0.183660   \n",
       "bathrooms      0.404291    0.674239       0.260684     0.456264    0.327982   \n",
       "sqft_living    0.303911    0.883733       0.338387     0.510967    0.396530   \n",
       "sqft_lot      -0.031555    0.131756       0.004457     0.089318    0.154575   \n",
       "floors         1.000000    0.448245      -0.248466     0.132363    0.125016   \n",
       "sqft_above     0.448245    1.000000      -0.067306     0.559972    0.312593   \n",
       "sqft_basement -0.248466   -0.067306       1.000000     0.025766    0.210305   \n",
       "sqft_garage    0.132363    0.559972       0.025766     1.000000    0.216512   \n",
       "sqft_patio     0.125016    0.312593       0.210305     0.216512    1.000000   \n",
       "yr_built       0.544314    0.387253      -0.230783     0.447720    0.138112   \n",
       "yr_renovated  -0.025041    0.011036       0.054032    -0.098301    0.056183   \n",
       "lat           -0.218174    0.092317       0.059664     0.092092   -0.019666   \n",
       "long           0.233589   -0.082722      -0.045104    -0.096639    0.025675   \n",
       "\n",
       "               yr_built  yr_renovated       lat      long  \n",
       "id             0.023076     -0.028858 -0.000764  0.000638  \n",
       "price          0.095796      0.085023  0.063430 -0.022278  \n",
       "bedrooms       0.145497      0.015369  0.108883 -0.106791  \n",
       "bathrooms      0.443379      0.041574 -0.005481  0.017684  \n",
       "sqft_living    0.291242      0.039089  0.102205 -0.087625  \n",
       "sqft_lot       0.001897      0.009390  0.030041 -0.034408  \n",
       "floors         0.544314     -0.025041 -0.218174  0.233589  \n",
       "sqft_above     0.387253      0.011036  0.092317 -0.082722  \n",
       "sqft_basement -0.230783      0.054032  0.059664 -0.045104  \n",
       "sqft_garage    0.447720     -0.098301  0.092092 -0.096639  \n",
       "sqft_patio     0.138112      0.056183 -0.019666  0.025675  \n",
       "yr_built       1.000000     -0.239466 -0.207133  0.209842  \n",
       "yr_renovated  -0.239466      1.000000  0.036880 -0.035598  \n",
       "lat           -0.207133      0.036880  1.000000 -0.760532  \n",
       "long           0.209842     -0.035598 -0.760532  1.000000  "
      ]
     },
     "execution_count": 7,
     "metadata": {},
     "output_type": "execute_result"
    }
   ],
   "source": [
    "re.corr()"
   ]
  },
  {
   "cell_type": "markdown",
   "metadata": {},
   "source": [
    "pull up heatmap to see what is correlated well with price"
   ]
  },
  {
   "cell_type": "code",
   "execution_count": 8,
   "metadata": {
    "scrolled": false
   },
   "outputs": [
    {
     "data": {
      "image/png": "[encoded data removed]",
      "text/plain": [
       "<Figure size 576x576 with 2 Axes>"
      ]
     },
     "metadata": {},
     "output_type": "display_data"
    }
   ],
   "source": [
    "sns.set(rc={'figure.figsize':(8,8)})\n",
    "\n",
    "sns.heatmap(re.corr());"
   ]
  },
  {
   "cell_type": "markdown",
   "metadata": {},
   "source": [
    "we still cant get a great view so lets create a list of all the correlation values in the price column"
   ]
  },
  {
   "cell_type": "code",
   "execution_count": 9,
   "metadata": {
    "scrolled": true
   },
   "outputs": [
    {
     "data": {
      "text/plain": [
       "price            1.000000\n",
       "sqft_living      0.608616\n",
       "sqft_above       0.538631\n",
       "bathrooms        0.480337\n",
       "sqft_patio       0.313789\n",
       "bedrooms         0.288954\n",
       "sqft_garage      0.263674\n",
       "sqft_basement    0.245005\n",
       "floors           0.180589\n",
       "yr_built         0.095796\n",
       "sqft_lot         0.086550\n",
       "yr_renovated     0.085023\n",
       "lat              0.063430\n",
       "long            -0.022278\n",
       "id              -0.034096\n",
       "Name: price, dtype: float64"
      ]
     },
     "execution_count": 9,
     "metadata": {},
     "output_type": "execute_result"
    }
   ],
   "source": [
    "re_corrs = re.corr()['price'].sort_values(ascending=False)\n",
    "re_corrs"
   ]
  },
  {
   "cell_type": "markdown",
   "metadata": {},
   "source": [
    "unsurprisingly price is 100% correlated with itself. lets create a basic regression model with the highest correlated value. We should keep in mind that this could also be a negative number(although in this case it clearly isn't). "
   ]
  },
  {
   "cell_type": "code",
   "execution_count": 10,
   "metadata": {},
   "outputs": [],
   "source": [
    "most_correlated = 'sqft_living'"
   ]
  },
  {
   "cell_type": "markdown",
   "metadata": {},
   "source": [
    "### Plotting the Predictor vs. Price\n",
    "We'll also create a scatter plot of this variable vs. price:"
   ]
  },
  {
   "cell_type": "code",
   "execution_count": 11,
   "metadata": {},
   "outputs": [],
   "source": [
    " from matplotlib.axes._axes import _log as matplotlib_axes_logger\n",
    " matplotlib_axes_logger.setLevel('ERROR')"
   ]
  },
  {
   "cell_type": "code",
   "execution_count": 12,
   "metadata": {
    "scrolled": false
   },
   "outputs": [
    {
     "data": {
      "image/png": "[encoded data removed]",
      "text/plain": [
       "<Figure size 432x288 with 1 Axes>"
      ]
     },
     "metadata": {},
     "output_type": "display_data"
    }
   ],
   "source": [
    "re.plot.scatter(x=most_correlated, y=\"price\", figsize=(6,4));"
   ]
  },
  {
   "cell_type": "markdown",
   "metadata": {},
   "source": [
    "There seems to be some sort of upward trend"
   ]
  },
  {
   "cell_type": "code",
   "execution_count": 13,
   "metadata": {},
   "outputs": [],
   "source": [
    "y = re['price']\n",
    "X_baseline = re[[most_correlated]]"
   ]
  },
  {
   "cell_type": "code",
   "execution_count": 14,
   "metadata": {},
   "outputs": [
    {
     "name": "stdout",
     "output_type": "stream",
     "text": [
      "                            OLS Regression Results                            \n",
      "==============================================================================\n",
      "Dep. Variable:                  price   R-squared:                       0.370\n",
      "Model:                            OLS   Adj. R-squared:                  0.370\n",
      "Method:                 Least Squares   F-statistic:                 1.771e+04\n",
      "Date:                Wed, 15 Feb 2023   Prob (F-statistic):               0.00\n",
      "Time:                        17:32:42   Log-Likelihood:            -4.4847e+05\n",
      "No. Observations:               30111   AIC:                         8.969e+05\n",
      "Df Residuals:                   30109   BIC:                         8.970e+05\n",
      "Df Model:                           1                                         \n",
      "Covariance Type:            nonrobust                                         \n",
      "===============================================================================\n",
      "                  coef    std err          t      P>|t|      [0.025      0.975]\n",
      "-------------------------------------------------------------------------------\n",
      "const       -7.559e+04   9798.815     -7.714      0.000   -9.48e+04   -5.64e+04\n",
      "sqft_living   560.5134      4.211    133.096      0.000     552.259     568.768\n",
      "==============================================================================\n",
      "Omnibus:                    43384.874   Durbin-Watson:                   1.862\n",
      "Prob(Omnibus):                  0.000   Jarque-Bera (JB):         47187801.072\n",
      "Skew:                           8.195   Prob(JB):                         0.00\n",
      "Kurtosis:                     196.242   Cond. No.                     5.56e+03\n",
      "==============================================================================\n",
      "\n",
      "Notes:\n",
      "[1] Standard Errors assume that the covariance matrix of the errors is correctly specified.\n",
      "[2] The condition number is large, 5.56e+03. This might indicate that there are\n",
      "strong multicollinearity or other numerical problems.\n"
     ]
    }
   ],
   "source": [
    "baseline_model = sm.OLS(y, sm.add_constant(X_baseline))\n",
    "baseline_results = baseline_model.fit()\n",
    "print(baseline_results.summary())"
   ]
  },
  {
   "cell_type": "markdown",
   "metadata": {},
   "source": [
    "Now we will calculate the baseline mean absolute error"
   ]
  },
  {
   "cell_type": "code",
   "execution_count": 15,
   "metadata": {},
   "outputs": [
    {
     "name": "stdout",
     "output_type": "stream",
     "text": [
      "Baseline Mae: 396271.45\n"
     ]
    }
   ],
   "source": [
    "baseline_mae = mean_absolute_error(y, baseline_results.predict(sm.add_constant(X_baseline)))\n",
    "print(f'Baseline Mae: {round(baseline_mae,2)}')"
   ]
  },
  {
   "cell_type": "markdown",
   "metadata": {},
   "source": [
    "`sqft_living` was the attribute most strongly correlated with price, therefore our model is describing this relationship.\n",
    "\n",
    "Overall this model is statistically significant and explains about 37% of the variance in price. IAlthough there is some significance to this number, there definitely is room to improve.\n",
    "In a typical prediction, the model is off by around $396k. \n",
    "\n",
    "- The intercept is at about -\\\\$76000. This means that a house with 0 square feet of living area  would sell for -\\$76k. It is fine that this value doesn't make sense as there is no such thing as a house that is 0 square feet. \n",
    "- The coefficient for sqft_living is about \\\\$560. This means for each additional square foot of living area, the house price increase by $560."
   ]
  },
  {
   "cell_type": "markdown",
   "metadata": {},
   "source": [
    "### Adding another factor\n",
    "Lets see which categories are highly correlated with eachother to know not to use both, we will use .7 as our cutoff"
   ]
  },
  {
   "cell_type": "code",
   "execution_count": 16,
   "metadata": {
    "scrolled": false
   },
   "outputs": [
    {
     "data": {
      "text/html": [
       "<div>\n",
       "<style scoped>\n",
       "    .dataframe tbody tr th:only-of-type {\n",
       "        vertical-align: middle;\n",
       "    }\n",
       "\n",
       "    .dataframe tbody tr th {\n",
       "        vertical-align: top;\n",
       "    }\n",
       "\n",
       "    .dataframe thead th {\n",
       "        text-align: right;\n",
       "    }\n",
       "</style>\n",
       "<table border=\"1\" class=\"dataframe\">\n",
       "  <thead>\n",
       "    <tr style=\"text-align: right;\">\n",
       "      <th></th>\n",
       "      <th>cc</th>\n",
       "    </tr>\n",
       "    <tr>\n",
       "      <th>pairs</th>\n",
       "      <th></th>\n",
       "    </tr>\n",
       "  </thead>\n",
       "  <tbody>\n",
       "    <tr>\n",
       "      <th>(sqft_above, sqft_living)</th>\n",
       "      <td>0.883733</td>\n",
       "    </tr>\n",
       "    <tr>\n",
       "      <th>(bathrooms, sqft_living)</th>\n",
       "      <td>0.772226</td>\n",
       "    </tr>\n",
       "    <tr>\n",
       "      <th>(lat, long)</th>\n",
       "      <td>0.760532</td>\n",
       "    </tr>\n",
       "  </tbody>\n",
       "</table>\n",
       "</div>"
      ],
      "text/plain": [
       "                                 cc\n",
       "pairs                              \n",
       "(sqft_above, sqft_living)  0.883733\n",
       "(bathrooms, sqft_living)   0.772226\n",
       "(lat, long)                0.760532"
      ]
     },
     "execution_count": 16,
     "metadata": {},
     "output_type": "execute_result"
    }
   ],
   "source": [
    "# converts all values to absolute value\n",
    "# stacks the row:column pairs into a multindex\n",
    "# reset the index to set the multindex to seperate columns\n",
    "# sort values. 0 is the column automatically generated by the stacking\n",
    "\n",
    "hi_corr = re.corr().abs().stack().reset_index().sort_values(0, ascending=False)\n",
    "\n",
    "# zip the variable name columns (Which were only named level_0 and level_1 by default) in a new column named \"pairs\"\n",
    "hi_corr['pairs'] = list(zip(hi_corr.level_0, hi_corr.level_1))\n",
    "\n",
    "# set index to pairs\n",
    "hi_corr.set_index(['pairs'], inplace = True)\n",
    "\n",
    "#drop level columns\n",
    "hi_corr.drop(columns=['level_1', 'level_0'], inplace = True)\n",
    "\n",
    "# rename correlation column as cc rather than 0\n",
    "hi_corr.columns = ['cc']\n",
    "\n",
    "# drop duplicates. This could be dangerous if you have variables perfectly correlated with variables other than themselves.\n",
    "# for the sake of exercise, kept it in.\n",
    "hi_corr.drop_duplicates(inplace=True)\n",
    "hi_corr[(hi_corr.cc>.7) & (hi_corr.cc <1)]"
   ]
  },
  {
   "cell_type": "markdown",
   "metadata": {},
   "source": [
    "It seems that we should either use long or lat, and probably better to only use one of: sqft_above, sqft_living, bathrooms, as there is hi multicollinearity between these values. Since sqft_living is the highest correlated with price we will stick with that. "
   ]
  },
  {
   "cell_type": "markdown",
   "metadata": {},
   "source": [
    "This makes sense as in general the more square feet a house has the more bathrooms and bedrooms it will have.\n",
    "\n",
    "So we'll reload the correlations, and choose some that don't seem to be highly correlated with eachother"
   ]
  },
  {
   "cell_type": "code",
   "execution_count": 17,
   "metadata": {
    "scrolled": true
   },
   "outputs": [
    {
     "data": {
      "text/plain": [
       "price            1.000000\n",
       "sqft_living      0.608616\n",
       "sqft_above       0.538631\n",
       "bathrooms        0.480337\n",
       "sqft_patio       0.313789\n",
       "bedrooms         0.288954\n",
       "sqft_garage      0.263674\n",
       "sqft_basement    0.245005\n",
       "floors           0.180589\n",
       "yr_built         0.095796\n",
       "sqft_lot         0.086550\n",
       "yr_renovated     0.085023\n",
       "lat              0.063430\n",
       "long            -0.022278\n",
       "id              -0.034096\n",
       "Name: price, dtype: float64"
      ]
     },
     "execution_count": 17,
     "metadata": {},
     "output_type": "execute_result"
    }
   ],
   "source": [
    "re_corrs"
   ]
  },
  {
   "cell_type": "code",
   "execution_count": 18,
   "metadata": {
    "scrolled": false
   },
   "outputs": [],
   "source": [
    "#re['recent_yr'] = re[['yr_built', 'yr_renovated']].max(axis=1)\n",
    "#re.corr()['price'].map(abs).sort_values(ascending=False)"
   ]
  },
  {
   "cell_type": "markdown",
   "metadata": {},
   "source": [
    "We will now create a new multiple regression model with the two factors that are highest correlated with price but not eachother."
   ]
  },
  {
   "cell_type": "code",
   "execution_count": 19,
   "metadata": {},
   "outputs": [],
   "source": [
    "X_2 = re[['sqft_living', 'sqft_patio']]"
   ]
  },
  {
   "cell_type": "code",
   "execution_count": 20,
   "metadata": {},
   "outputs": [
    {
     "name": "stdout",
     "output_type": "stream",
     "text": [
      "                            OLS Regression Results                            \n",
      "==============================================================================\n",
      "Dep. Variable:                  price   R-squared:                       0.377\n",
      "Model:                            OLS   Adj. R-squared:                  0.377\n",
      "Method:                 Least Squares   F-statistic:                     9096.\n",
      "Date:                Wed, 15 Feb 2023   Prob (F-statistic):               0.00\n",
      "Time:                        17:32:45   Log-Likelihood:            -4.4832e+05\n",
      "No. Observations:               30111   AIC:                         8.966e+05\n",
      "Df Residuals:                   30108   BIC:                         8.967e+05\n",
      "Df Model:                           2                                         \n",
      "Covariance Type:            nonrobust                                         \n",
      "===============================================================================\n",
      "                  coef    std err          t      P>|t|      [0.025      0.975]\n",
      "-------------------------------------------------------------------------------\n",
      "const       -7.756e+04   9751.046     -7.954      0.000   -9.67e+04   -5.84e+04\n",
      "sqft_living   529.1173      4.565    115.914      0.000     520.170     538.064\n",
      "sqft_patio    314.2051     18.115     17.345      0.000     278.699     349.711\n",
      "==============================================================================\n",
      "Omnibus:                    43142.565   Durbin-Watson:                   1.862\n",
      "Prob(Omnibus):                  0.000   Jarque-Bera (JB):         45972492.532\n",
      "Skew:                           8.107   Prob(JB):                         0.00\n",
      "Kurtosis:                     193.734   Cond. No.                     5.59e+03\n",
      "==============================================================================\n",
      "\n",
      "Notes:\n",
      "[1] Standard Errors assume that the covariance matrix of the errors is correctly specified.\n",
      "[2] The condition number is large, 5.59e+03. This might indicate that there are\n",
      "strong multicollinearity or other numerical problems.\n"
     ]
    }
   ],
   "source": [
    "model2 = sm.OLS(y, sm.add_constant(X_2))\n",
    "results2 = model2.fit()\n",
    "print(results2.summary())"
   ]
  },
  {
   "cell_type": "code",
   "execution_count": 21,
   "metadata": {},
   "outputs": [
    {
     "name": "stdout",
     "output_type": "stream",
     "text": [
      "Baseline Mae: 396271.45\n"
     ]
    }
   ],
   "source": [
    "baseline_mae = mean_absolute_error(y, baseline_results.predict(sm.add_constant(X_baseline)))\n",
    "print(f'Baseline Mae: {round(baseline_mae,2)}')"
   ]
  },
  {
   "cell_type": "markdown",
   "metadata": {},
   "source": [
    "The next factor we added to the model was `sqft_patio` as it was the next attribute most strongly correlated with price, that wasn't correlated to highly with `sqft_living`. Therefore our model is describing the relationship between these two and price.\n",
    "\n",
    "Overall the model is still statistically significant and is slightly better than the last as it explains about 37.7% of the variance in price. This number still isn't great, and could use some improvement. \n",
    "\n",
    "Additionally, all of the individual parts of the model are statistically significant.\n",
    "\n",
    "- The model is still off by roughly the same amount as the last. Additionally the constant is roughly the same and the coefficient for `sqft_living` is roughly the same.\n",
    "- The coefficient for `sqft_patio` is \\\\$314. This means for each additional square foot of patio area, the house price increases by \\\\$314."
   ]
  },
  {
   "cell_type": "code",
   "execution_count": 22,
   "metadata": {
    "scrolled": false
   },
   "outputs": [
    {
     "data": {
      "text/plain": [
       "'\\nI removed this as it was a worse predictor than age\\n'"
      ]
     },
     "execution_count": 22,
     "metadata": {},
     "output_type": "execute_result"
    }
   ],
   "source": [
    "# Lets make a new column by randomly multiplying 2 factors\n",
    "#re['sqft_age'] = re['sqft_living']*re['age']\n",
    "\n",
    "\"\"\"\n",
    "I removed this as it was a worse predictor than age\n",
    "\"\"\""
   ]
  },
  {
   "cell_type": "markdown",
   "metadata": {},
   "source": [
    "Lets add in another factor unrelated to the last two, in hopes of creating a better model. We will again pull up the correlation data."
   ]
  },
  {
   "cell_type": "code",
   "execution_count": 23,
   "metadata": {
    "scrolled": true
   },
   "outputs": [
    {
     "data": {
      "text/plain": [
       "price            1.000000\n",
       "sqft_living      0.608616\n",
       "sqft_above       0.538631\n",
       "bathrooms        0.480337\n",
       "sqft_patio       0.313789\n",
       "bedrooms         0.288954\n",
       "sqft_garage      0.263674\n",
       "sqft_basement    0.245005\n",
       "floors           0.180589\n",
       "yr_built         0.095796\n",
       "sqft_lot         0.086550\n",
       "yr_renovated     0.085023\n",
       "lat              0.063430\n",
       "long            -0.022278\n",
       "id              -0.034096\n",
       "Name: price, dtype: float64"
      ]
     },
     "execution_count": 23,
     "metadata": {},
     "output_type": "execute_result"
    }
   ],
   "source": [
    "re_corrs "
   ]
  },
  {
   "cell_type": "markdown",
   "metadata": {},
   "source": [
    " Although, `bedrooms`, `sqft_garage`, `sqft_basement`, and `floors` are highly correlated, logically they are also correlated with `sqft_living`, as the bigger a house is the bigger/ more of these areas there will be. So we will look at `yr_built`; however, lets create a new column that tells us the age of the house when it was sold, to see if this does a better job."
   ]
  },
  {
   "cell_type": "code",
   "execution_count": 24,
   "metadata": {},
   "outputs": [],
   "source": [
    "re['year_sold'] = pd.DatetimeIndex(re['date']).year\n",
    "re['age'] = re['year_sold'] - re['yr_built']"
   ]
  },
  {
   "cell_type": "markdown",
   "metadata": {},
   "source": [
    "Now, we'll create models for both `age` and `yr_built` to see which has a higher r^2"
   ]
  },
  {
   "cell_type": "code",
   "execution_count": 25,
   "metadata": {},
   "outputs": [],
   "source": [
    "X_3 = re[['sqft_living', 'sqft_patio', 'age']]"
   ]
  },
  {
   "cell_type": "code",
   "execution_count": 26,
   "metadata": {},
   "outputs": [
    {
     "name": "stdout",
     "output_type": "stream",
     "text": [
      "R^2 Adj: 0.3844346885189156\n",
      "P values:\n",
      " const          7.707535e-81\n",
      "sqft_living    0.000000e+00\n",
      "sqft_patio     1.021868e-71\n",
      "age            5.220208e-85\n",
      "dtype: float64\n"
     ]
    }
   ],
   "source": [
    "model3 = sm.OLS(y, sm.add_constant(X_3))\n",
    "results3 = model3.fit()\n",
    "print(f'R^2 Adj: {results3.rsquared_adj}')\n",
    "print(f'P values:\\n {results3.pvalues}')"
   ]
  },
  {
   "cell_type": "markdown",
   "metadata": {},
   "source": [
    "When we run the models for both, we see that the adjusted r squared is slightly higher, at .384, when including `age` as opposed to `yr_built`"
   ]
  },
  {
   "cell_type": "markdown",
   "metadata": {},
   "source": [
    "## Categorical Factors\n",
    "\n",
    "We will stick with our current model and move on to check out categorical values."
   ]
  },
  {
   "cell_type": "code",
   "execution_count": 27,
   "metadata": {},
   "outputs": [
    {
     "data": {
      "text/plain": [
       "['date',\n",
       " 'waterfront',\n",
       " 'greenbelt',\n",
       " 'nuisance',\n",
       " 'view',\n",
       " 'condition',\n",
       " 'grade',\n",
       " 'heat_source',\n",
       " 'sewer_system',\n",
       " 'address']"
      ]
     },
     "execution_count": 27,
     "metadata": {},
     "output_type": "execute_result"
    }
   ],
   "source": [
    "catCols = [col for col in re.columns if re[col].dtype==\"O\"]\n",
    "catCols"
   ]
  },
  {
   "cell_type": "markdown",
   "metadata": {},
   "source": [
    "It is probably fair to assume that address doesn't have much of an affect on the price, and we already used date so lets check out other variables."
   ]
  },
  {
   "cell_type": "code",
   "execution_count": 28,
   "metadata": {
    "scrolled": false
   },
   "outputs": [
    {
     "name": "stderr",
     "output_type": "stream",
     "text": [
      "/Users/joshuaedelstein/opt/anaconda3/envs/learn-env/lib/python3.8/site-packages/pandas/core/frame.py:4163: SettingWithCopyWarning: \n",
      "A value is trying to be set on a copy of a slice from a DataFrame\n",
      "\n",
      "See the caveats in the documentation: https://pandas.pydata.org/pandas-docs/stable/user_guide/indexing.html#returning-a-view-versus-a-copy\n",
      "  return super().drop(\n"
     ]
    },
    {
     "data": {
      "image/png": "[encoded data removed]",
      "text/plain": [
       "<Figure size 1440x360 with 8 Axes>"
      ]
     },
     "metadata": {},
     "output_type": "display_data"
    }
   ],
   "source": [
    "#HOW TO MAKE THIS LOOK CLEANER!!!???!?!?!?!\n",
    "\n",
    "categorical_features = re.select_dtypes(\"object\").columns\n",
    "categorical_re = re.select_dtypes(include=['object'])\n",
    "categorical_re.drop(columns=['date', 'address'], inplace = True)\n",
    "categorical_features = np.array(categorical_re.columns)\n",
    "fig, axes = plt.subplots(ncols=len(categorical_features), figsize=(20,5))\n",
    "\n",
    "for index, feature in enumerate(categorical_features):\n",
    "    re.groupby(feature).mean().plot.bar(\n",
    "        y=\"price\", ax=axes[index])"
   ]
  },
  {
   "cell_type": "markdown",
   "metadata": {},
   "source": [
    "Upon examining the graphs we find some useful information:\n",
    "\n",
    "- Everything besides nuisance seems to be significant.\n",
    "- Looking at the axis, `grade` seems to be the most significant, followed by `view` and `waterfront`."
   ]
  },
  {
   "cell_type": "markdown",
   "metadata": {},
   "source": [
    "So lets start with grade, and one hot encode new dummy values"
   ]
  },
  {
   "cell_type": "code",
   "execution_count": 58,
   "metadata": {
    "scrolled": true
   },
   "outputs": [
    {
     "data": {
      "text/html": [
       "<div>\n",
       "<style scoped>\n",
       "    .dataframe tbody tr th:only-of-type {\n",
       "        vertical-align: middle;\n",
       "    }\n",
       "\n",
       "    .dataframe tbody tr th {\n",
       "        vertical-align: top;\n",
       "    }\n",
       "\n",
       "    .dataframe thead th {\n",
       "        text-align: right;\n",
       "    }\n",
       "</style>\n",
       "<table border=\"1\" class=\"dataframe\">\n",
       "  <thead>\n",
       "    <tr style=\"text-align: right;\">\n",
       "      <th></th>\n",
       "      <th>sqft_living</th>\n",
       "      <th>sqft_patio</th>\n",
       "      <th>age</th>\n",
       "      <th>grade_10 Very Good</th>\n",
       "      <th>grade_11 Excellent</th>\n",
       "      <th>grade_12 Luxury</th>\n",
       "      <th>grade_13 Mansion</th>\n",
       "      <th>grade_2 Substandard</th>\n",
       "      <th>grade_3 Poor</th>\n",
       "      <th>grade_4 Low</th>\n",
       "      <th>grade_5 Fair</th>\n",
       "      <th>grade_6 Low Average</th>\n",
       "      <th>grade_7 Average</th>\n",
       "      <th>grade_8 Good</th>\n",
       "      <th>grade_9 Better</th>\n",
       "    </tr>\n",
       "  </thead>\n",
       "  <tbody>\n",
       "    <tr>\n",
       "      <th>0</th>\n",
       "      <td>1180</td>\n",
       "      <td>40</td>\n",
       "      <td>53</td>\n",
       "      <td>0</td>\n",
       "      <td>0</td>\n",
       "      <td>0</td>\n",
       "      <td>0</td>\n",
       "      <td>0</td>\n",
       "      <td>0</td>\n",
       "      <td>0</td>\n",
       "      <td>0</td>\n",
       "      <td>0</td>\n",
       "      <td>1</td>\n",
       "      <td>0</td>\n",
       "      <td>0</td>\n",
       "    </tr>\n",
       "    <tr>\n",
       "      <th>1</th>\n",
       "      <td>2770</td>\n",
       "      <td>240</td>\n",
       "      <td>71</td>\n",
       "      <td>0</td>\n",
       "      <td>0</td>\n",
       "      <td>0</td>\n",
       "      <td>0</td>\n",
       "      <td>0</td>\n",
       "      <td>0</td>\n",
       "      <td>0</td>\n",
       "      <td>0</td>\n",
       "      <td>0</td>\n",
       "      <td>1</td>\n",
       "      <td>0</td>\n",
       "      <td>0</td>\n",
       "    </tr>\n",
       "    <tr>\n",
       "      <th>2</th>\n",
       "      <td>2880</td>\n",
       "      <td>0</td>\n",
       "      <td>65</td>\n",
       "      <td>0</td>\n",
       "      <td>0</td>\n",
       "      <td>0</td>\n",
       "      <td>0</td>\n",
       "      <td>0</td>\n",
       "      <td>0</td>\n",
       "      <td>0</td>\n",
       "      <td>0</td>\n",
       "      <td>0</td>\n",
       "      <td>1</td>\n",
       "      <td>0</td>\n",
       "      <td>0</td>\n",
       "    </tr>\n",
       "    <tr>\n",
       "      <th>3</th>\n",
       "      <td>2160</td>\n",
       "      <td>270</td>\n",
       "      <td>11</td>\n",
       "      <td>0</td>\n",
       "      <td>0</td>\n",
       "      <td>0</td>\n",
       "      <td>0</td>\n",
       "      <td>0</td>\n",
       "      <td>0</td>\n",
       "      <td>0</td>\n",
       "      <td>0</td>\n",
       "      <td>0</td>\n",
       "      <td>0</td>\n",
       "      <td>0</td>\n",
       "      <td>1</td>\n",
       "    </tr>\n",
       "    <tr>\n",
       "      <th>4</th>\n",
       "      <td>1120</td>\n",
       "      <td>30</td>\n",
       "      <td>9</td>\n",
       "      <td>0</td>\n",
       "      <td>0</td>\n",
       "      <td>0</td>\n",
       "      <td>0</td>\n",
       "      <td>0</td>\n",
       "      <td>0</td>\n",
       "      <td>0</td>\n",
       "      <td>0</td>\n",
       "      <td>0</td>\n",
       "      <td>1</td>\n",
       "      <td>0</td>\n",
       "      <td>0</td>\n",
       "    </tr>\n",
       "  </tbody>\n",
       "</table>\n",
       "</div>"
      ],
      "text/plain": [
       "   sqft_living  sqft_patio  age  grade_10 Very Good  grade_11 Excellent  \\\n",
       "0         1180          40   53                   0                   0   \n",
       "1         2770         240   71                   0                   0   \n",
       "2         2880           0   65                   0                   0   \n",
       "3         2160         270   11                   0                   0   \n",
       "4         1120          30    9                   0                   0   \n",
       "\n",
       "   grade_12 Luxury  grade_13 Mansion  grade_2 Substandard  grade_3 Poor  \\\n",
       "0                0                 0                    0             0   \n",
       "1                0                 0                    0             0   \n",
       "2                0                 0                    0             0   \n",
       "3                0                 0                    0             0   \n",
       "4                0                 0                    0             0   \n",
       "\n",
       "   grade_4 Low  grade_5 Fair  grade_6 Low Average  grade_7 Average  \\\n",
       "0            0             0                    0                1   \n",
       "1            0             0                    0                1   \n",
       "2            0             0                    0                1   \n",
       "3            0             0                    0                0   \n",
       "4            0             0                    0                1   \n",
       "\n",
       "   grade_8 Good  grade_9 Better  \n",
       "0             0               0  \n",
       "1             0               0  \n",
       "2             0               0  \n",
       "3             0               1  \n",
       "4             0               0  "
      ]
     },
     "execution_count": 58,
     "metadata": {},
     "output_type": "execute_result"
    }
   ],
   "source": [
    "iterated_X1 = re[['sqft_living', 'sqft_patio','age', 'grade']]\n",
    "iterated_X1 = pd.get_dummies(iterated_X1, columns=['grade']) \n",
    "iterated_X1.head()"
   ]
  },
  {
   "cell_type": "markdown",
   "metadata": {},
   "source": [
    "Since `grade_2Substandard` is the worst level, we will drop it, and use it as the baseline"
   ]
  },
  {
   "cell_type": "code",
   "execution_count": 59,
   "metadata": {},
   "outputs": [
    {
     "data": {
      "text/html": [
       "<div>\n",
       "<style scoped>\n",
       "    .dataframe tbody tr th:only-of-type {\n",
       "        vertical-align: middle;\n",
       "    }\n",
       "\n",
       "    .dataframe tbody tr th {\n",
       "        vertical-align: top;\n",
       "    }\n",
       "\n",
       "    .dataframe thead th {\n",
       "        text-align: right;\n",
       "    }\n",
       "</style>\n",
       "<table border=\"1\" class=\"dataframe\">\n",
       "  <thead>\n",
       "    <tr style=\"text-align: right;\">\n",
       "      <th></th>\n",
       "      <th>sqft_living</th>\n",
       "      <th>sqft_patio</th>\n",
       "      <th>age</th>\n",
       "      <th>grade_10 Very Good</th>\n",
       "      <th>grade_11 Excellent</th>\n",
       "      <th>grade_12 Luxury</th>\n",
       "      <th>grade_13 Mansion</th>\n",
       "      <th>grade_3 Poor</th>\n",
       "      <th>grade_4 Low</th>\n",
       "      <th>grade_5 Fair</th>\n",
       "      <th>grade_6 Low Average</th>\n",
       "      <th>grade_7 Average</th>\n",
       "      <th>grade_8 Good</th>\n",
       "      <th>grade_9 Better</th>\n",
       "    </tr>\n",
       "  </thead>\n",
       "  <tbody>\n",
       "    <tr>\n",
       "      <th>0</th>\n",
       "      <td>1180</td>\n",
       "      <td>40</td>\n",
       "      <td>53</td>\n",
       "      <td>0</td>\n",
       "      <td>0</td>\n",
       "      <td>0</td>\n",
       "      <td>0</td>\n",
       "      <td>0</td>\n",
       "      <td>0</td>\n",
       "      <td>0</td>\n",
       "      <td>0</td>\n",
       "      <td>1</td>\n",
       "      <td>0</td>\n",
       "      <td>0</td>\n",
       "    </tr>\n",
       "    <tr>\n",
       "      <th>1</th>\n",
       "      <td>2770</td>\n",
       "      <td>240</td>\n",
       "      <td>71</td>\n",
       "      <td>0</td>\n",
       "      <td>0</td>\n",
       "      <td>0</td>\n",
       "      <td>0</td>\n",
       "      <td>0</td>\n",
       "      <td>0</td>\n",
       "      <td>0</td>\n",
       "      <td>0</td>\n",
       "      <td>1</td>\n",
       "      <td>0</td>\n",
       "      <td>0</td>\n",
       "    </tr>\n",
       "    <tr>\n",
       "      <th>2</th>\n",
       "      <td>2880</td>\n",
       "      <td>0</td>\n",
       "      <td>65</td>\n",
       "      <td>0</td>\n",
       "      <td>0</td>\n",
       "      <td>0</td>\n",
       "      <td>0</td>\n",
       "      <td>0</td>\n",
       "      <td>0</td>\n",
       "      <td>0</td>\n",
       "      <td>0</td>\n",
       "      <td>1</td>\n",
       "      <td>0</td>\n",
       "      <td>0</td>\n",
       "    </tr>\n",
       "    <tr>\n",
       "      <th>3</th>\n",
       "      <td>2160</td>\n",
       "      <td>270</td>\n",
       "      <td>11</td>\n",
       "      <td>0</td>\n",
       "      <td>0</td>\n",
       "      <td>0</td>\n",
       "      <td>0</td>\n",
       "      <td>0</td>\n",
       "      <td>0</td>\n",
       "      <td>0</td>\n",
       "      <td>0</td>\n",
       "      <td>0</td>\n",
       "      <td>0</td>\n",
       "      <td>1</td>\n",
       "    </tr>\n",
       "    <tr>\n",
       "      <th>4</th>\n",
       "      <td>1120</td>\n",
       "      <td>30</td>\n",
       "      <td>9</td>\n",
       "      <td>0</td>\n",
       "      <td>0</td>\n",
       "      <td>0</td>\n",
       "      <td>0</td>\n",
       "      <td>0</td>\n",
       "      <td>0</td>\n",
       "      <td>0</td>\n",
       "      <td>0</td>\n",
       "      <td>1</td>\n",
       "      <td>0</td>\n",
       "      <td>0</td>\n",
       "    </tr>\n",
       "  </tbody>\n",
       "</table>\n",
       "</div>"
      ],
      "text/plain": [
       "   sqft_living  sqft_patio  age  grade_10 Very Good  grade_11 Excellent  \\\n",
       "0         1180          40   53                   0                   0   \n",
       "1         2770         240   71                   0                   0   \n",
       "2         2880           0   65                   0                   0   \n",
       "3         2160         270   11                   0                   0   \n",
       "4         1120          30    9                   0                   0   \n",
       "\n",
       "   grade_12 Luxury  grade_13 Mansion  grade_3 Poor  grade_4 Low  grade_5 Fair  \\\n",
       "0                0                 0             0            0             0   \n",
       "1                0                 0             0            0             0   \n",
       "2                0                 0             0            0             0   \n",
       "3                0                 0             0            0             0   \n",
       "4                0                 0             0            0             0   \n",
       "\n",
       "   grade_6 Low Average  grade_7 Average  grade_8 Good  grade_9 Better  \n",
       "0                    0                1             0               0  \n",
       "1                    0                1             0               0  \n",
       "2                    0                1             0               0  \n",
       "3                    0                0             0               1  \n",
       "4                    0                1             0               0  "
      ]
     },
     "execution_count": 59,
     "metadata": {},
     "output_type": "execute_result"
    }
   ],
   "source": [
    "iterated_X1.drop('grade_2 Substandard', axis=1, inplace=True)\n",
    "iterated_X1.head()"
   ]
  },
  {
   "cell_type": "code",
   "execution_count": 60,
   "metadata": {},
   "outputs": [
    {
     "name": "stdout",
     "output_type": "stream",
     "text": [
      "                            OLS Regression Results                            \n",
      "==============================================================================\n",
      "Dep. Variable:                  price   R-squared:                       0.481\n",
      "Model:                            OLS   Adj. R-squared:                  0.481\n",
      "Method:                 Least Squares   F-statistic:                     1996.\n",
      "Date:                Wed, 15 Feb 2023   Prob (F-statistic):               0.00\n",
      "Time:                        17:58:49   Log-Likelihood:            -4.4555e+05\n",
      "No. Observations:               30111   AIC:                         8.911e+05\n",
      "Df Residuals:                   30096   BIC:                         8.912e+05\n",
      "Df Model:                          14                                         \n",
      "Covariance Type:            nonrobust                                         \n",
      "=======================================================================================\n",
      "                          coef    std err          t      P>|t|      [0.025      0.975]\n",
      "---------------------------------------------------------------------------------------\n",
      "const               -2.593e+04   6.46e+05     -0.040      0.968   -1.29e+06    1.24e+06\n",
      "sqft_living           288.3016      5.808     49.635      0.000     276.917     299.686\n",
      "sqft_patio            206.6185     16.638     12.419      0.000     174.008     239.229\n",
      "age                  4355.0991    137.597     31.651      0.000    4085.404    4624.794\n",
      "grade_10 Very Good   1.094e+06   6.46e+05      1.693      0.091   -1.73e+05    2.36e+06\n",
      "grade_11 Excellent    2.01e+06   6.47e+05      3.107      0.002    7.42e+05    3.28e+06\n",
      "grade_12 Luxury      3.183e+06   6.49e+05      4.904      0.000    1.91e+06    4.45e+06\n",
      "grade_13 Mansion     4.791e+06    6.6e+05      7.255      0.000     3.5e+06    6.09e+06\n",
      "grade_3 Poor        -7.137e+04   6.81e+05     -0.105      0.916   -1.41e+06    1.26e+06\n",
      "grade_4 Low          1.097e+05   6.53e+05      0.168      0.867   -1.17e+06    1.39e+06\n",
      "grade_5 Fair        -1.032e+04   6.47e+05     -0.016      0.987   -1.28e+06    1.26e+06\n",
      "grade_6 Low Average -2.913e+04   6.46e+05     -0.045      0.964    -1.3e+06    1.24e+06\n",
      "grade_7 Average      6.374e+04   6.46e+05      0.099      0.921    -1.2e+06    1.33e+06\n",
      "grade_8 Good         2.772e+05   6.46e+05      0.429      0.668   -9.89e+05    1.54e+06\n",
      "grade_9 Better       6.127e+05   6.46e+05      0.949      0.343   -6.53e+05    1.88e+06\n",
      "==============================================================================\n",
      "Omnibus:                    43783.289   Durbin-Watson:                   1.833\n",
      "Prob(Omnibus):                  0.000   Jarque-Bera (JB):         55672640.715\n",
      "Skew:                           8.289   Prob(JB):                         0.00\n",
      "Kurtosis:                     212.998   Cond. No.                     1.41e+06\n",
      "==============================================================================\n",
      "\n",
      "Notes:\n",
      "[1] Standard Errors assume that the covariance matrix of the errors is correctly specified.\n",
      "[2] The condition number is large, 1.41e+06. This might indicate that there are\n",
      "strong multicollinearity or other numerical problems.\n"
     ]
    }
   ],
   "source": [
    "iterated_model1 = sm.OLS(y, sm.add_constant(iterated_X1))\n",
    "iterated_results1 = iterated_model1.fit()\n",
    "print(iterated_results1.summary())"
   ]
  },
  {
   "cell_type": "markdown",
   "metadata": {},
   "source": [
    "Our model as a whole is statistically significant, and the adjusted r squared has increased by roughly 10% to 48%. \n",
    "\n",
    "However, our constant as well as the vast majority of coefficients for grade are not statistically significant."
   ]
  },
  {
   "cell_type": "markdown",
   "metadata": {},
   "source": [
    "So let's try engineering a new feature that is only the higher level grades"
   ]
  },
  {
   "cell_type": "code",
   "execution_count": 49,
   "metadata": {},
   "outputs": [],
   "source": [
    "re['high_grade'] = re['grade'].apply(lambda x: 'yes' if \n",
    "                                     x.__contains__('11') or\n",
    "                                     x.__contains__('12') or\n",
    "                                     x.__contains__('13')\n",
    "                                     else 'no')"
   ]
  },
  {
   "cell_type": "code",
   "execution_count": 63,
   "metadata": {
    "scrolled": true
   },
   "outputs": [
    {
     "data": {
      "text/html": [
       "<div>\n",
       "<style scoped>\n",
       "    .dataframe tbody tr th:only-of-type {\n",
       "        vertical-align: middle;\n",
       "    }\n",
       "\n",
       "    .dataframe tbody tr th {\n",
       "        vertical-align: top;\n",
       "    }\n",
       "\n",
       "    .dataframe thead th {\n",
       "        text-align: right;\n",
       "    }\n",
       "</style>\n",
       "<table border=\"1\" class=\"dataframe\">\n",
       "  <thead>\n",
       "    <tr style=\"text-align: right;\">\n",
       "      <th></th>\n",
       "      <th>sqft_living</th>\n",
       "      <th>sqft_patio</th>\n",
       "      <th>age</th>\n",
       "      <th>high_grade_yes</th>\n",
       "    </tr>\n",
       "  </thead>\n",
       "  <tbody>\n",
       "    <tr>\n",
       "      <th>0</th>\n",
       "      <td>1180</td>\n",
       "      <td>40</td>\n",
       "      <td>53</td>\n",
       "      <td>0</td>\n",
       "    </tr>\n",
       "    <tr>\n",
       "      <th>1</th>\n",
       "      <td>2770</td>\n",
       "      <td>240</td>\n",
       "      <td>71</td>\n",
       "      <td>0</td>\n",
       "    </tr>\n",
       "    <tr>\n",
       "      <th>2</th>\n",
       "      <td>2880</td>\n",
       "      <td>0</td>\n",
       "      <td>65</td>\n",
       "      <td>0</td>\n",
       "    </tr>\n",
       "    <tr>\n",
       "      <th>3</th>\n",
       "      <td>2160</td>\n",
       "      <td>270</td>\n",
       "      <td>11</td>\n",
       "      <td>0</td>\n",
       "    </tr>\n",
       "    <tr>\n",
       "      <th>4</th>\n",
       "      <td>1120</td>\n",
       "      <td>30</td>\n",
       "      <td>9</td>\n",
       "      <td>0</td>\n",
       "    </tr>\n",
       "  </tbody>\n",
       "</table>\n",
       "</div>"
      ],
      "text/plain": [
       "   sqft_living  sqft_patio  age  high_grade_yes\n",
       "0         1180          40   53               0\n",
       "1         2770         240   71               0\n",
       "2         2880           0   65               0\n",
       "3         2160         270   11               0\n",
       "4         1120          30    9               0"
      ]
     },
     "execution_count": 63,
     "metadata": {},
     "output_type": "execute_result"
    }
   ],
   "source": [
    "iterated_X2 = re[['sqft_living', 'sqft_patio','age', 'high_grade']]\n",
    "iterated_X2 = pd.get_dummies(iterated_X2, columns=['high_grade'], drop_first=True) \n",
    "iterated_X2.head()"
   ]
  },
  {
   "cell_type": "code",
   "execution_count": 65,
   "metadata": {
    "scrolled": true
   },
   "outputs": [
    {
     "name": "stdout",
     "output_type": "stream",
     "text": [
      "R^2 Adj: 0.42920474535787667\n",
      "P values:\n",
      " const             1.495450e-08\n",
      "sqft_living       0.000000e+00\n",
      "sqft_patio        5.588581e-60\n",
      "age               8.425952e-73\n",
      "high_grade_yes    0.000000e+00\n",
      "dtype: float64\n"
     ]
    }
   ],
   "source": [
    "iterated_model2 = sm.OLS(y, sm.add_constant(iterated_X2))\n",
    "iterated_results2 = iterated_model2.fit()\n",
    "print(f'R^2 Adj: {iterated_results2.rsquared_adj}')\n",
    "print(f'P values:\\n {iterated_results2.pvalues}')"
   ]
  },
  {
   "cell_type": "markdown",
   "metadata": {},
   "source": [
    "UP TO HERE\n",
    "\n",
    "best r^2 so far and we also have significant pvals"
   ]
  },
  {
   "cell_type": "code",
   "execution_count": null,
   "metadata": {},
   "outputs": [],
   "source": [
    "X = re[['sqft_living', 'sqft_patio', 'age', 'grade', 'view']]\n",
    "X = pd.get_dummies(X, columns=['grade', 'view'], drop_first=True) "
   ]
  },
  {
   "cell_type": "code",
   "execution_count": null,
   "metadata": {},
   "outputs": [],
   "source": [
    "model4 = sm.OLS(y, sm.add_constant(X))\n",
    "results4 = model4.fit()\n",
    "results4.summary()"
   ]
  },
  {
   "cell_type": "markdown",
   "metadata": {},
   "source": [
    "Now that is significantly better r2 although some of the predictors are not statistically significant. Lets try throwing in another"
   ]
  },
  {
   "cell_type": "code",
   "execution_count": null,
   "metadata": {},
   "outputs": [],
   "source": [
    "y.hist(bins=200);"
   ]
  },
  {
   "cell_type": "code",
   "execution_count": null,
   "metadata": {
    "scrolled": false
   },
   "outputs": [],
   "source": [
    "y_log = np.log(y)\n",
    "y_log.hist(bins=100);"
   ]
  },
  {
   "cell_type": "code",
   "execution_count": null,
   "metadata": {
    "scrolled": false
   },
   "outputs": [],
   "source": [
    "model45 = sm.OLS(y_log, sm.add_constant(X))\n",
    "results45 = model45.fit()\n",
    "results45.summary()"
   ]
  },
  {
   "cell_type": "markdown",
   "metadata": {},
   "source": [
    "although this does make our data normal, the r has dropped significantly, and far more predictors are no longer significant"
   ]
  },
  {
   "cell_type": "code",
   "execution_count": null,
   "metadata": {},
   "outputs": [],
   "source": [
    "numeric_df = re.select_dtypes(include='number')"
   ]
  },
  {
   "cell_type": "code",
   "execution_count": null,
   "metadata": {},
   "outputs": [],
   "source": [
    "re_preds = numeric_df.drop('price', axis=1)\n",
    "re_preds.head()"
   ]
  },
  {
   "cell_type": "code",
   "execution_count": null,
   "metadata": {
    "scrolled": true
   },
   "outputs": [],
   "source": [
    "ss =  StandardScaler()\n",
    "ss.fit(re_preds)\n",
    "re_preds_st_scaled = ss.transform(re_preds)\n",
    "re_preds_st_scaled[:5, :]"
   ]
  },
  {
   "cell_type": "code",
   "execution_count": null,
   "metadata": {},
   "outputs": [],
   "source": [
    "lr = LinearRegression ()\n",
    "lr.fit(re_preds_st_scaled, y)\n",
    "lr.coef_"
   ]
  },
  {
   "cell_type": "code",
   "execution_count": null,
   "metadata": {},
   "outputs": [],
   "source": [
    "lr.intercept_"
   ]
  },
  {
   "cell_type": "code",
   "execution_count": null,
   "metadata": {},
   "outputs": [],
   "source": [
    "lr.score(re_preds_st_scaled, y)#fix this tmrw as it doesnt match the above .510"
   ]
  },
  {
   "cell_type": "code",
   "execution_count": null,
   "metadata": {},
   "outputs": [],
   "source": [
    "y_hat = lr.predict(re_preds_st_scaled)\n",
    "y_hat"
   ]
  },
  {
   "cell_type": "code",
   "execution_count": null,
   "metadata": {},
   "outputs": [],
   "source": []
  },
  {
   "cell_type": "code",
   "execution_count": null,
   "metadata": {},
   "outputs": [],
   "source": [
    "X = re[['sqft_living', 'sqft_patio', 'yr_built', 'view']]\n",
    "X = pd.get_dummies(X, columns=['view'], drop_first=True)"
   ]
  },
  {
   "cell_type": "code",
   "execution_count": null,
   "metadata": {},
   "outputs": [],
   "source": [
    "model5 = sm.OLS(y, sm.add_constant(X))\n",
    "results5 = model5.fit()\n",
    "results5.summary()"
   ]
  },
  {
   "cell_type": "markdown",
   "metadata": {},
   "source": [
    "So this model has a slighly lower adj r squared. But all the pvalues are now significant"
   ]
  },
  {
   "cell_type": "code",
   "execution_count": null,
   "metadata": {},
   "outputs": [],
   "source": [
    "X = re[['sqft_living', 'sqft_patio', 'yr_built', 'view', 'nuisance']]\n",
    "X = pd.get_dummies(X, columns=['view', 'nuisance'], drop_first=True)"
   ]
  },
  {
   "cell_type": "code",
   "execution_count": null,
   "metadata": {},
   "outputs": [],
   "source": [
    "model6 = sm.OLS(y, sm.add_constant(X))\n",
    "results6 = model6.fit()\n",
    "print(results6.rsquared_adj)\n",
    "print(results6.pvalues)"
   ]
  },
  {
   "cell_type": "code",
   "execution_count": null,
   "metadata": {},
   "outputs": [],
   "source": [
    "variables = [re.sqft_living, re.sqft_patio, re.age]\n",
    "\n",
    "plt.figure(figsize=(14,4))\n",
    "i = 0\n",
    "for x in variables:\n",
    "    i = i+1\n",
    "    plt.subplot(1,3,i)\n",
    "    plt.hist(x,histtype='bar')\n",
    "    x.hist();"
   ]
  },
  {
   "cell_type": "code",
   "execution_count": null,
   "metadata": {
    "scrolled": false
   },
   "outputs": [],
   "source": [
    "log_sqft_living = np.log(re.sqft_living)\n",
    "log_sqft_patio = np.log(re.sqft_patio)\n",
    "log_yr_built = np.log(re.age)"
   ]
  },
  {
   "cell_type": "code",
   "execution_count": null,
   "metadata": {},
   "outputs": [],
   "source": [
    "re.grade.value_counts()"
   ]
  },
  {
   "cell_type": "code",
   "execution_count": null,
   "metadata": {},
   "outputs": [],
   "source": [
    "criteria = {'1 Cabin': 'low', '2 Substandard': 'low', '3 Poor': 'low', '4 Low': 'low', \n",
    "            '5 Fair': 'fair', '6 Low Average': 'fair', '7 Average': 'fair', '8 Good': 'fair', \n",
    "            '9 Better': 'good', '10 Very Good': 'good', '11 Excellent': 'good', \n",
    "            '12 Luxury': 'good', '13 Mansion': 'good'}\n",
    "re['grade_groups'] = re['grade'].map(criteria)"
   ]
  },
  {
   "cell_type": "code",
   "execution_count": null,
   "metadata": {},
   "outputs": [],
   "source": [
    "X = re[['sqft_living', 'sqft_patio', 'yr_built', 'view', 'grade_groups']]\n",
    "X = pd.get_dummies(X, columns=['view', 'grade_groups'], drop_first=True)"
   ]
  },
  {
   "cell_type": "code",
   "execution_count": null,
   "metadata": {},
   "outputs": [],
   "source": [
    "model7 = sm.OLS(y, sm.add_constant(X))\n",
    "results7 = model7.fit()\n",
    "print(results7.rsquared_adj)\n",
    "print(results7.pvalues)"
   ]
  },
  {
   "cell_type": "markdown",
   "metadata": {},
   "source": [
    "this was not helpful"
   ]
  },
  {
   "cell_type": "code",
   "execution_count": null,
   "metadata": {},
   "outputs": [],
   "source": [
    "y.hist(bins=50);"
   ]
  },
  {
   "cell_type": "code",
   "execution_count": null,
   "metadata": {},
   "outputs": [],
   "source": [
    "log_y = np.log(y)"
   ]
  },
  {
   "cell_type": "code",
   "execution_count": null,
   "metadata": {
    "scrolled": false
   },
   "outputs": [],
   "source": [
    "log_y.hist(bins=50);"
   ]
  },
  {
   "cell_type": "code",
   "execution_count": null,
   "metadata": {},
   "outputs": [],
   "source": [
    "X = re[['sqft_living', 'sqft_patio', 'yr_built', 'view', 'nuisance']]\n",
    "X = pd.get_dummies(X, columns=['view', 'nuisance'], drop_first=True)"
   ]
  },
  {
   "cell_type": "code",
   "execution_count": null,
   "metadata": {},
   "outputs": [],
   "source": [
    "model8 = sm.OLS(log_y, sm.add_constant(X))\n",
    "results8 = model8.fit()\n",
    "print(results8.summary())"
   ]
  },
  {
   "cell_type": "markdown",
   "metadata": {},
   "source": [
    "r went down a bit, and a value is no longer stat significant. If u replace view with waterfront then all values are signif but r goes down to .401"
   ]
  },
  {
   "cell_type": "code",
   "execution_count": null,
   "metadata": {},
   "outputs": [],
   "source": []
  },
  {
   "cell_type": "code",
   "execution_count": null,
   "metadata": {},
   "outputs": [],
   "source": []
  },
  {
   "cell_type": "code",
   "execution_count": null,
   "metadata": {},
   "outputs": [],
   "source": []
  },
  {
   "cell_type": "code",
   "execution_count": null,
   "metadata": {},
   "outputs": [],
   "source": []
  },
  {
   "cell_type": "code",
   "execution_count": null,
   "metadata": {},
   "outputs": [],
   "source": []
  },
  {
   "cell_type": "code",
   "execution_count": null,
   "metadata": {},
   "outputs": [],
   "source": []
  },
  {
   "cell_type": "code",
   "execution_count": null,
   "metadata": {},
   "outputs": [],
   "source": []
  },
  {
   "cell_type": "code",
   "execution_count": null,
   "metadata": {},
   "outputs": [],
   "source": []
  },
  {
   "cell_type": "code",
   "execution_count": null,
   "metadata": {},
   "outputs": [],
   "source": []
  }
 ],
 "metadata": {
  "kernelspec": {
   "display_name": "Python (learn-env)",
   "language": "python",
   "name": "learn-env"
  },
  "language_info": {
   "codemirror_mode": {
    "name": "ipython",
    "version": 3
   },
   "file_extension": ".py",
   "mimetype": "text/x-python",
   "name": "python",
   "nbconvert_exporter": "python",
   "pygments_lexer": "ipython3",
   "version": "3.8.5"
  }
 },
 "nbformat": 4,
 "nbformat_minor": 4
}
